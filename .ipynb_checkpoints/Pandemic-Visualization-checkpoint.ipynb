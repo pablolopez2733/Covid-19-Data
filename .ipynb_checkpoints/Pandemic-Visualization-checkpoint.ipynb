{
 "cells": [
  {
   "cell_type": "markdown",
   "metadata": {},
   "source": [
    "# Coronavirus Pandemic Visualization with Chloropeth Maps"
   ]
  },
  {
   "cell_type": "code",
   "execution_count": 106,
   "metadata": {},
   "outputs": [
    {
     "data": {
      "text/html": [
       "        <script type=\"text/javascript\">\n",
       "        window.PlotlyConfig = {MathJaxConfig: 'local'};\n",
       "        if (window.MathJax) {MathJax.Hub.Config({SVG: {font: \"STIX-Web\"}});}\n",
       "        if (typeof require !== 'undefined') {\n",
       "        require.undef(\"plotly\");\n",
       "        requirejs.config({\n",
       "            paths: {\n",
       "                'plotly': ['https://cdn.plot.ly/plotly-latest.min']\n",
       "            }\n",
       "        });\n",
       "        require(['plotly'], function(Plotly) {\n",
       "            window._Plotly = Plotly;\n",
       "        });\n",
       "        }\n",
       "        </script>\n",
       "        "
      ]
     },
     "metadata": {},
     "output_type": "display_data"
    }
   ],
   "source": [
    "# Import libraries\n",
    "import numpy as np \n",
    "import pandas as pd \n",
    "import plotly as py\n",
    "import plotly.express as px\n",
    "import plotly.graph_objs as go\n",
    "from plotly.subplots import make_subplots\n",
    "from plotly.offline import download_plotlyjs, init_notebook_mode, plot, iplot\n",
    "init_notebook_mode(connected=True)"
   ]
  },
  {
   "cell_type": "code",
   "execution_count": 114,
   "metadata": {
    "scrolled": true
   },
   "outputs": [
    {
     "data": {
      "text/html": [
       "<div>\n",
       "<style scoped>\n",
       "    .dataframe tbody tr th:only-of-type {\n",
       "        vertical-align: middle;\n",
       "    }\n",
       "\n",
       "    .dataframe tbody tr th {\n",
       "        vertical-align: top;\n",
       "    }\n",
       "\n",
       "    .dataframe thead th {\n",
       "        text-align: right;\n",
       "    }\n",
       "</style>\n",
       "<table border=\"1\" class=\"dataframe\">\n",
       "  <thead>\n",
       "    <tr style=\"text-align: right;\">\n",
       "      <th></th>\n",
       "      <th>Country</th>\n",
       "      <th>Date</th>\n",
       "      <th>SNo</th>\n",
       "      <th>Confirmed</th>\n",
       "      <th>Deaths</th>\n",
       "      <th>Recovered</th>\n",
       "    </tr>\n",
       "  </thead>\n",
       "  <tbody>\n",
       "    <tr>\n",
       "      <th>6635</th>\n",
       "      <td>US</td>\n",
       "      <td>04/08/2020</td>\n",
       "      <td>762268</td>\n",
       "      <td>429052.0</td>\n",
       "      <td>14695.0</td>\n",
       "      <td>23559.0</td>\n",
       "    </tr>\n",
       "    <tr>\n",
       "      <th>5896</th>\n",
       "      <td>Spain</td>\n",
       "      <td>04/08/2020</td>\n",
       "      <td>13043</td>\n",
       "      <td>148220.0</td>\n",
       "      <td>14792.0</td>\n",
       "      <td>48021.0</td>\n",
       "    </tr>\n",
       "    <tr>\n",
       "      <th>3096</th>\n",
       "      <td>Italy</td>\n",
       "      <td>04/08/2020</td>\n",
       "      <td>12970</td>\n",
       "      <td>139422.0</td>\n",
       "      <td>17669.0</td>\n",
       "      <td>26491.0</td>\n",
       "    </tr>\n",
       "    <tr>\n",
       "      <th>2105</th>\n",
       "      <td>France</td>\n",
       "      <td>04/08/2020</td>\n",
       "      <td>144394</td>\n",
       "      <td>113959.0</td>\n",
       "      <td>10887.0</td>\n",
       "      <td>21452.0</td>\n",
       "    </tr>\n",
       "    <tr>\n",
       "      <th>2282</th>\n",
       "      <td>Germany</td>\n",
       "      <td>04/08/2020</td>\n",
       "      <td>12951</td>\n",
       "      <td>113296.0</td>\n",
       "      <td>2349.0</td>\n",
       "      <td>46300.0</td>\n",
       "    </tr>\n",
       "  </tbody>\n",
       "</table>\n",
       "</div>"
      ],
      "text/plain": [
       "      Country        Date     SNo  Confirmed   Deaths  Recovered\n",
       "6635       US  04/08/2020  762268   429052.0  14695.0    23559.0\n",
       "5896    Spain  04/08/2020   13043   148220.0  14792.0    48021.0\n",
       "3096    Italy  04/08/2020   12970   139422.0  17669.0    26491.0\n",
       "2105   France  04/08/2020  144394   113959.0  10887.0    21452.0\n",
       "2282  Germany  04/08/2020   12951   113296.0   2349.0    46300.0"
      ]
     },
     "execution_count": 114,
     "metadata": {},
     "output_type": "execute_result"
    }
   ],
   "source": [
    "# Read Data\n",
    "df = pd.read_csv(\"covid_19_data.csv\")\n",
    "# Rename columns\n",
    "df = df.rename(columns={'Country/Region':'Country'})\n",
    "df = df.rename(columns={'ObservationDate':'Date'})\n",
    "# Manipulate Dataframe\n",
    "df_countries = df.groupby(['Country', 'Date']).sum().reset_index().sort_values('Confirmed', ascending=False)\n",
    "df_countries = df_countries.drop_duplicates(subset = ['Country'])\n",
    "df_countries = df_countries[df_countries['Confirmed']>0]\n",
    "last_update=df_countries[\"Date\"].max()\n",
    "df_countries.head()\n"
   ]
  },
  {
   "cell_type": "markdown",
   "metadata": {},
   "source": [
    "## Confirmed Cases"
   ]
  },
  {
   "cell_type": "code",
   "execution_count": 168,
   "metadata": {
    "scrolled": true
   },
   "outputs": [
    {
     "data": {
      "text/html": [
       "<div>\n",
       "<style scoped>\n",
       "    .dataframe tbody tr th:only-of-type {\n",
       "        vertical-align: middle;\n",
       "    }\n",
       "\n",
       "    .dataframe tbody tr th {\n",
       "        vertical-align: top;\n",
       "    }\n",
       "\n",
       "    .dataframe thead th {\n",
       "        text-align: right;\n",
       "    }\n",
       "</style>\n",
       "<table border=\"1\" class=\"dataframe\">\n",
       "  <thead>\n",
       "    <tr style=\"text-align: right;\">\n",
       "      <th></th>\n",
       "      <th>Country</th>\n",
       "      <th>Date</th>\n",
       "      <th>SNo</th>\n",
       "      <th>Confirmed</th>\n",
       "      <th>Deaths</th>\n",
       "      <th>Recovered</th>\n",
       "      <th>LogCases</th>\n",
       "      <th>LogDeaths</th>\n",
       "    </tr>\n",
       "  </thead>\n",
       "  <tbody>\n",
       "    <tr>\n",
       "      <th>6635</th>\n",
       "      <td>US</td>\n",
       "      <td>04/08/2020</td>\n",
       "      <td>762268</td>\n",
       "      <td>429052.0</td>\n",
       "      <td>14695.0</td>\n",
       "      <td>23559.0</td>\n",
       "      <td>12.969333</td>\n",
       "      <td>9.595263</td>\n",
       "    </tr>\n",
       "    <tr>\n",
       "      <th>5896</th>\n",
       "      <td>Spain</td>\n",
       "      <td>04/08/2020</td>\n",
       "      <td>13043</td>\n",
       "      <td>148220.0</td>\n",
       "      <td>14792.0</td>\n",
       "      <td>48021.0</td>\n",
       "      <td>11.906453</td>\n",
       "      <td>9.601842</td>\n",
       "    </tr>\n",
       "    <tr>\n",
       "      <th>3096</th>\n",
       "      <td>Italy</td>\n",
       "      <td>04/08/2020</td>\n",
       "      <td>12970</td>\n",
       "      <td>139422.0</td>\n",
       "      <td>17669.0</td>\n",
       "      <td>26491.0</td>\n",
       "      <td>11.845261</td>\n",
       "      <td>9.779567</td>\n",
       "    </tr>\n",
       "    <tr>\n",
       "      <th>2105</th>\n",
       "      <td>France</td>\n",
       "      <td>04/08/2020</td>\n",
       "      <td>144394</td>\n",
       "      <td>113959.0</td>\n",
       "      <td>10887.0</td>\n",
       "      <td>21452.0</td>\n",
       "      <td>11.643594</td>\n",
       "      <td>9.295325</td>\n",
       "    </tr>\n",
       "    <tr>\n",
       "      <th>2282</th>\n",
       "      <td>Germany</td>\n",
       "      <td>04/08/2020</td>\n",
       "      <td>12951</td>\n",
       "      <td>113296.0</td>\n",
       "      <td>2349.0</td>\n",
       "      <td>46300.0</td>\n",
       "      <td>11.637759</td>\n",
       "      <td>7.761745</td>\n",
       "    </tr>\n",
       "  </tbody>\n",
       "</table>\n",
       "</div>"
      ],
      "text/plain": [
       "      Country        Date     SNo  Confirmed   Deaths  Recovered   LogCases  \\\n",
       "6635       US  04/08/2020  762268   429052.0  14695.0    23559.0  12.969333   \n",
       "5896    Spain  04/08/2020   13043   148220.0  14792.0    48021.0  11.906453   \n",
       "3096    Italy  04/08/2020   12970   139422.0  17669.0    26491.0  11.845261   \n",
       "2105   France  04/08/2020  144394   113959.0  10887.0    21452.0  11.643594   \n",
       "2282  Germany  04/08/2020   12951   113296.0   2349.0    46300.0  11.637759   \n",
       "\n",
       "      LogDeaths  \n",
       "6635   9.595263  \n",
       "5896   9.601842  \n",
       "3096   9.779567  \n",
       "2105   9.295325  \n",
       "2282   7.761745  "
      ]
     },
     "execution_count": 168,
     "metadata": {},
     "output_type": "execute_result"
    }
   ],
   "source": [
    "pd.set_option('display.max_rows', 1000)\n",
    "df_countries['LogCases']=np.log(df_countries['Confirmed'])\n",
    "df_countries.head()\n"
   ]
  },
  {
   "cell_type": "code",
   "execution_count": 190,
   "metadata": {},
   "outputs": [
    {
     "name": "stdout",
     "output_type": "stream",
     "text": [
      "Max cases: 429052.0\n",
      "Max Log Cases: 12.96933340268577\n",
      "[1.2969333402685768, 2.5938666805371535, 3.890800020805731, 5.187733361074307, 6.484666701342885, 7.781600041611462, 9.078533381880039, 10.375466722148614, 11.672400062417193, 12.96933340268577]\n",
      "['42k', '85k', '128k', '171k', '214k', '257k', '300k', '343k', '386k', '429k']\n"
     ]
    }
   ],
   "source": [
    "#Adjust bar color scale:\n",
    "cases_max=df_countries[\"Confirmed\"].max()\n",
    "print(\"Max cases: \"+str(cases_max))\n",
    "cases_maxlog=df_countries[\"LogCases\"].max()\n",
    "print(\"Max Log Cases: \"+str(cases_maxlog))\n",
    "\n",
    "#values for tick property\n",
    "scl_ticks=[]\n",
    "interval=cases_max/10\n",
    "for i in range(0,10):\n",
    "    scl_ticks.append((cases_maxlog*(interval*(i+1))/cases_max))\n",
    "print(scl_ticks)\n",
    "\n",
    "#values for tick text property:\n",
    "scl_ticktext=[]\n",
    "for i in range(0,10):\n",
    "    scl_ticktext.append(str(int(interval*(i+1)/1000))+\"k\")\n",
    "print(scl_ticktext)"
   ]
  },
  {
   "cell_type": "code",
   "execution_count": 191,
   "metadata": {
    "scrolled": true
   },
   "outputs": [
    {
     "data": {
      "application/vnd.plotly.v1+json": {
       "config": {
        "plotlyServerURL": "https://plot.ly"
       },
       "data": [
        {
         "autocolorscale": false,
         "colorbar": {
          "len": 280,
          "lenmode": "pixels",
          "thickness": 25,
          "thicknessmode": "pixels",
          "ticks": "outside",
          "ticksuffix": "k",
          "ticktext": [
           "42k",
           "85k",
           "128k",
           "171k",
           "214k",
           "257k",
           "300k",
           "343k",
           "386k",
           "429k"
          ],
          "tickvals": [
           1.2969333402685768,
           2.5938666805371535,
           3.890800020805731,
           5.187733361074307,
           6.484666701342885,
           7.781600041611462,
           9.078533381880039,
           10.375466722148614,
           11.672400062417193,
           12.96933340268577
          ],
          "y": 1,
          "yanchor": "top"
         },
         "colorscale": [
          [
           0,
           "rgb(158,1,66)"
          ],
          [
           0.1,
           "rgb(213,62,79)"
          ],
          [
           0.2,
           "rgb(244,109,67)"
          ],
          [
           0.3,
           "rgb(253,174,97)"
          ],
          [
           0.4,
           "rgb(254,224,139)"
          ],
          [
           0.5,
           "rgb(255,255,191)"
          ],
          [
           0.6,
           "rgb(230,245,152)"
          ],
          [
           0.7,
           "rgb(171,221,164)"
          ],
          [
           0.8,
           "rgb(102,194,165)"
          ],
          [
           0.9,
           "rgb(50,136,189)"
          ],
          [
           1,
           "rgb(94,79,162)"
          ]
         ],
         "locationmode": "country names",
         "locations": [
          "US",
          "Spain",
          "Italy",
          "France",
          "Germany",
          "Mainland China",
          "Iran",
          "UK",
          "Turkey",
          "Belgium",
          "Switzerland",
          "Netherlands",
          "Canada",
          "Brazil",
          "Portugal",
          "Austria",
          "South Korea",
          "Israel",
          "Russia",
          "Sweden",
          "Norway",
          "Ireland",
          "Australia",
          "India",
          "Denmark",
          "Chile",
          "Czech Republic",
          "Poland",
          "Romania",
          "Ecuador",
          "Peru",
          "Pakistan",
          "Japan",
          "Malaysia",
          "Philippines",
          "Luxembourg",
          "Indonesia",
          "Saudi Arabia",
          "Mexico",
          "Serbia",
          "United Arab Emirates",
          "Finland",
          "Thailand",
          "Panama",
          "Qatar",
          "Dominican Republic",
          "Colombia",
          "Greece",
          "South Africa",
          "Argentina",
          "Ukraine",
          "Singapore",
          "Iceland",
          "Algeria",
          "Egypt",
          "Croatia",
          "Morocco",
          "New Zealand",
          "Iraq",
          "Estonia",
          "Moldova",
          "Slovenia",
          "Belarus",
          "Hong Kong",
          "Lithuania",
          "Hungary",
          "Armenia",
          "Kuwait",
          "Bahrain",
          "Azerbaijan",
          "Bosnia and Herzegovina",
          "Cameroon",
          "Kazakhstan",
          "Others",
          "Diamond Princess",
          "Slovakia",
          "Tunisia",
          "North Macedonia",
          "Bulgaria",
          "Latvia",
          "Lebanon",
          "Andorra",
          "Uzbekistan",
          "Cyprus",
          "Costa Rica",
          "Cuba",
          "Afghanistan",
          "Uruguay",
          "Oman",
          "Burkina Faso",
          "Albania",
          "Ivory Coast",
          "Taiwan",
          "Jordan",
          "Niger",
          "Ghana",
          "Honduras",
          "Malta",
          "San Marino",
          "Nigeria",
          "Mauritius",
          "Kyrgyzstan",
          "West Bank and Gaza",
          "Vietnam",
          "Montenegro",
          "Senegal",
          "Bangladesh",
          "Georgia",
          "Bolivia",
          "Sri Lanka",
          "Kosovo",
          "Congo (Kinshasa)",
          "Kenya",
          "Venezuela",
          "Guinea",
          "Brunei",
          "Djibouti",
          "Paraguay",
          "Cambodia",
          "Rwanda",
          "Trinidad and Tobago",
          "Madagascar",
          "El Salvador",
          "Guatemala",
          "Monaco",
          "Liechtenstein",
          "Togo",
          "Barbados",
          "Jamaica",
          "Mali",
          "Ethiopia",
          "Guadeloupe",
          "Uganda",
          "Macau",
          "Reunion",
          "Congo (Brazzaville)",
          "Bahamas",
          "Zambia",
          "Guyana",
          "Gabon",
          "Eritrea",
          "Guinea-Bissau",
          "Martinique",
          "Liberia",
          "Haiti",
          "Benin",
          "Tanzania",
          "occupied Palestinian territory",
          "Burma",
          "Palestine",
          "Libya",
          "Republic of Ireland",
          "Syria",
          "Maldives",
          "Angola",
          "Antigua and Barbuda",
          "Equatorial Guinea",
          "French Guiana",
          "Mozambique",
          "Mongolia",
          "Namibia",
          "Dominica",
          "Laos",
          "Fiji",
          "Saint Lucia",
          "Sudan",
          "Eswatini",
          "Somalia",
          "Grenada",
          "Seychelles",
          "Saint Kitts and Nevis",
          "Zimbabwe",
          "Suriname",
          "Chad",
          "Nepal",
          "MS Zaandam",
          "Central African Republic",
          "Holy See",
          "Belize",
          "Saint Vincent and the Grenadines",
          "Malawi",
          "Mayotte",
          "Cabo Verde",
          "Sierra Leone",
          "Botswana",
          "Mauritania",
          "Nicaragua",
          "Bhutan",
          "Gambia",
          "Western Sahara",
          "Aruba",
          "Bahamas, The",
          "Sao Tome and Principe",
          "Guam",
          "Burundi",
          "Puerto Rico",
          "Saint Barthelemy",
          "Jersey",
          "St. Martin",
          "Faroe Islands",
          "Papua New Guinea",
          "('St. Martin',)",
          "South Sudan",
          "Vatican City",
          "Timor-Leste",
          "The Gambia",
          "The Bahamas",
          " Azerbaijan",
          "Gambia, The",
          "Greenland",
          "Gibraltar",
          "Guernsey",
          "Curacao",
          "East Timor",
          "Channel Islands",
          "Cayman Islands",
          "Cape Verde",
          "Republic of the Congo",
          "North Ireland"
         ],
         "marker": {
          "line": {
           "color": "white",
           "width": 0.5
          }
         },
         "reversescale": true,
         "type": "choropleth",
         "z": [
          12.96933340268577,
          11.90645293550535,
          11.845260584081668,
          11.643594013564568,
          11.637759141891555,
          11.312081421150786,
          11.075752948017643,
          11.026369600176976,
          10.551271191344544,
          10.060619498256424,
          10.055349901845375,
          9.937019035744921,
          9.859587910246109,
          9.690912952571152,
          9.483492392643639,
          9.468233115617211,
          9.248021438943871,
          9.14889040965996,
          9.067854723679428,
          9.038246335337664,
          8.713746330456916,
          8.711772645605693,
          8.701180027529253,
          8.68541582383069,
          8.62998601889136,
          8.620832226175724,
          8.57772369115627,
          8.557374981049069,
          8.46821300919452,
          8.400659375160286,
          8.376090350438238,
          8.35772841676521,
          8.356319965828153,
          8.323365694436081,
          8.261009786023827,
          8.017637159908478,
          7.991592282068092,
          7.983440063006542,
          7.932003152361385,
          7.888334500738654,
          7.88570539124302,
          7.818832443803404,
          7.7702232041587855,
          7.718240951959316,
          7.700747794511798,
          7.65491704784832,
          7.627544390488503,
          7.5411524551363085,
          7.520234556474628,
          7.44716835960004,
          7.419380582918692,
          7.392031567514591,
          7.38770923908104,
          7.360103972989152,
          7.352441100243583,
          7.202661196523238,
          7.150701457592526,
          7.098375638590786,
          7.091742115095153,
          7.077498053569231,
          7.068172000388042,
          6.994849985833071,
          6.97166860472579,
          6.866933284461882,
          6.815639990074331,
          6.796823718274855,
          6.78105762593618,
          6.75110146893676,
          6.71295620067707,
          6.71174039505618,
          6.6895992691789665,
          6.593044534142437,
          6.588926477533519,
          6.568077911411976,
          6.568077911411976,
          6.525029657843462,
          6.4425401664681985,
          6.424869023905388,
          6.385194398997726,
          6.3578422665081,
          6.3561076606958915,
          6.335054251498059,
          6.300785794663244,
          6.26530121273771,
          6.218600119691729,
          6.124683390894205,
          6.095824562432225,
          6.049733455231958,
          6.037870919922137,
          6.025865973825314,
          5.991464547107982,
          5.950642552587727,
          5.937536205082426,
          5.8805329864007,
          5.834810737062605,
          5.746203190540153,
          5.7430031878094825,
          5.700443573390687,
          5.631211781821365,
          5.62040086571715,
          5.60947179518496,
          5.598421958998375,
          5.572154032177765,
          5.5254529391317835,
          5.5134287461649825,
          5.497168225293202,
          5.384495062789089,
          5.351858133476067,
          5.3471075307174685,
          5.241747015059643,
          5.214935757608986,
          5.19295685089021,
          5.187385805840755,
          5.117993812416755,
          5.099866427824199,
          4.90527477843843,
          4.90527477843843,
          4.77912349311153,
          4.762173934797756,
          4.700480365792417,
          4.672828834461906,
          4.532599493153256,
          4.532599493153256,
          4.465908118654584,
          4.394449154672439,
          4.356708826689592,
          4.248495242049359,
          4.143134726391533,
          4.143134726391533,
          4.07753744390572,
          4.007333185232471,
          3.970291913552122,
          3.970291913552122,
          3.8066624897703196,
          3.8066624897703196,
          3.8066624897703196,
          3.6888794541139363,
          3.6635616461296463,
          3.6109179126442243,
          3.5263605246161616,
          3.4965075614664802,
          3.4965075614664802,
          3.4657359027997265,
          3.4339872044851463,
          3.295836866004329,
          3.258096538021482,
          3.2188758248682006,
          3.2188758248682006,
          3.091042453358316,
          3.091042453358316,
          3.044522437723423,
          3.044522437723423,
          2.9444389791664403,
          2.9444389791664403,
          2.9444389791664403,
          2.9444389791664403,
          2.8903717578961645,
          2.8903717578961645,
          2.833213344056216,
          2.772588722239781,
          2.772588722239781,
          2.70805020110221,
          2.70805020110221,
          2.70805020110221,
          2.6390573296152584,
          2.6390573296152584,
          2.4849066497880004,
          2.4849066497880004,
          2.4849066497880004,
          2.3978952727983707,
          2.3978952727983707,
          2.3978952727983707,
          2.302585092994046,
          2.302585092994046,
          2.1972245773362196,
          2.1972245773362196,
          2.0794415416798357,
          2.0794415416798357,
          2.0794415416798357,
          2.0794415416798357,
          2.0794415416798357,
          1.9459101490553132,
          1.9459101490553132,
          1.9459101490553132,
          1.791759469228055,
          1.791759469228055,
          1.791759469228055,
          1.6094379124341003,
          1.3862943611198906,
          1.3862943611198906,
          1.3862943611198906,
          1.3862943611198906,
          1.3862943611198906,
          1.0986122886681098,
          1.0986122886681098,
          1.0986122886681098,
          1.0986122886681098,
          0.6931471805599453,
          0.6931471805599453,
          0.6931471805599453,
          0.6931471805599453,
          0.6931471805599453,
          0.6931471805599453,
          0,
          0,
          0,
          0,
          0,
          0,
          0,
          0,
          0,
          0,
          0,
          0,
          0,
          0,
          0,
          0
         ],
         "zmax": 12.96933340268577,
         "zmin": 0
        }
       ],
       "layout": {
        "autosize": true,
        "geo": {
         "projection": {
          "type": "equirectangular"
         },
         "showcoastlines": false,
         "showframe": false
        },
        "template": {
         "data": {
          "bar": [
           {
            "error_x": {
             "color": "#2a3f5f"
            },
            "error_y": {
             "color": "#2a3f5f"
            },
            "marker": {
             "line": {
              "color": "#E5ECF6",
              "width": 0.5
             }
            },
            "type": "bar"
           }
          ],
          "barpolar": [
           {
            "marker": {
             "line": {
              "color": "#E5ECF6",
              "width": 0.5
             }
            },
            "type": "barpolar"
           }
          ],
          "carpet": [
           {
            "aaxis": {
             "endlinecolor": "#2a3f5f",
             "gridcolor": "white",
             "linecolor": "white",
             "minorgridcolor": "white",
             "startlinecolor": "#2a3f5f"
            },
            "baxis": {
             "endlinecolor": "#2a3f5f",
             "gridcolor": "white",
             "linecolor": "white",
             "minorgridcolor": "white",
             "startlinecolor": "#2a3f5f"
            },
            "type": "carpet"
           }
          ],
          "choropleth": [
           {
            "colorbar": {
             "outlinewidth": 0,
             "ticks": ""
            },
            "type": "choropleth"
           }
          ],
          "contour": [
           {
            "colorbar": {
             "outlinewidth": 0,
             "ticks": ""
            },
            "colorscale": [
             [
              0,
              "#0d0887"
             ],
             [
              0.1111111111111111,
              "#46039f"
             ],
             [
              0.2222222222222222,
              "#7201a8"
             ],
             [
              0.3333333333333333,
              "#9c179e"
             ],
             [
              0.4444444444444444,
              "#bd3786"
             ],
             [
              0.5555555555555556,
              "#d8576b"
             ],
             [
              0.6666666666666666,
              "#ed7953"
             ],
             [
              0.7777777777777778,
              "#fb9f3a"
             ],
             [
              0.8888888888888888,
              "#fdca26"
             ],
             [
              1,
              "#f0f921"
             ]
            ],
            "type": "contour"
           }
          ],
          "contourcarpet": [
           {
            "colorbar": {
             "outlinewidth": 0,
             "ticks": ""
            },
            "type": "contourcarpet"
           }
          ],
          "heatmap": [
           {
            "colorbar": {
             "outlinewidth": 0,
             "ticks": ""
            },
            "colorscale": [
             [
              0,
              "#0d0887"
             ],
             [
              0.1111111111111111,
              "#46039f"
             ],
             [
              0.2222222222222222,
              "#7201a8"
             ],
             [
              0.3333333333333333,
              "#9c179e"
             ],
             [
              0.4444444444444444,
              "#bd3786"
             ],
             [
              0.5555555555555556,
              "#d8576b"
             ],
             [
              0.6666666666666666,
              "#ed7953"
             ],
             [
              0.7777777777777778,
              "#fb9f3a"
             ],
             [
              0.8888888888888888,
              "#fdca26"
             ],
             [
              1,
              "#f0f921"
             ]
            ],
            "type": "heatmap"
           }
          ],
          "heatmapgl": [
           {
            "colorbar": {
             "outlinewidth": 0,
             "ticks": ""
            },
            "colorscale": [
             [
              0,
              "#0d0887"
             ],
             [
              0.1111111111111111,
              "#46039f"
             ],
             [
              0.2222222222222222,
              "#7201a8"
             ],
             [
              0.3333333333333333,
              "#9c179e"
             ],
             [
              0.4444444444444444,
              "#bd3786"
             ],
             [
              0.5555555555555556,
              "#d8576b"
             ],
             [
              0.6666666666666666,
              "#ed7953"
             ],
             [
              0.7777777777777778,
              "#fb9f3a"
             ],
             [
              0.8888888888888888,
              "#fdca26"
             ],
             [
              1,
              "#f0f921"
             ]
            ],
            "type": "heatmapgl"
           }
          ],
          "histogram": [
           {
            "marker": {
             "colorbar": {
              "outlinewidth": 0,
              "ticks": ""
             }
            },
            "type": "histogram"
           }
          ],
          "histogram2d": [
           {
            "colorbar": {
             "outlinewidth": 0,
             "ticks": ""
            },
            "colorscale": [
             [
              0,
              "#0d0887"
             ],
             [
              0.1111111111111111,
              "#46039f"
             ],
             [
              0.2222222222222222,
              "#7201a8"
             ],
             [
              0.3333333333333333,
              "#9c179e"
             ],
             [
              0.4444444444444444,
              "#bd3786"
             ],
             [
              0.5555555555555556,
              "#d8576b"
             ],
             [
              0.6666666666666666,
              "#ed7953"
             ],
             [
              0.7777777777777778,
              "#fb9f3a"
             ],
             [
              0.8888888888888888,
              "#fdca26"
             ],
             [
              1,
              "#f0f921"
             ]
            ],
            "type": "histogram2d"
           }
          ],
          "histogram2dcontour": [
           {
            "colorbar": {
             "outlinewidth": 0,
             "ticks": ""
            },
            "colorscale": [
             [
              0,
              "#0d0887"
             ],
             [
              0.1111111111111111,
              "#46039f"
             ],
             [
              0.2222222222222222,
              "#7201a8"
             ],
             [
              0.3333333333333333,
              "#9c179e"
             ],
             [
              0.4444444444444444,
              "#bd3786"
             ],
             [
              0.5555555555555556,
              "#d8576b"
             ],
             [
              0.6666666666666666,
              "#ed7953"
             ],
             [
              0.7777777777777778,
              "#fb9f3a"
             ],
             [
              0.8888888888888888,
              "#fdca26"
             ],
             [
              1,
              "#f0f921"
             ]
            ],
            "type": "histogram2dcontour"
           }
          ],
          "mesh3d": [
           {
            "colorbar": {
             "outlinewidth": 0,
             "ticks": ""
            },
            "type": "mesh3d"
           }
          ],
          "parcoords": [
           {
            "line": {
             "colorbar": {
              "outlinewidth": 0,
              "ticks": ""
             }
            },
            "type": "parcoords"
           }
          ],
          "pie": [
           {
            "automargin": true,
            "type": "pie"
           }
          ],
          "scatter": [
           {
            "marker": {
             "colorbar": {
              "outlinewidth": 0,
              "ticks": ""
             }
            },
            "type": "scatter"
           }
          ],
          "scatter3d": [
           {
            "line": {
             "colorbar": {
              "outlinewidth": 0,
              "ticks": ""
             }
            },
            "marker": {
             "colorbar": {
              "outlinewidth": 0,
              "ticks": ""
             }
            },
            "type": "scatter3d"
           }
          ],
          "scattercarpet": [
           {
            "marker": {
             "colorbar": {
              "outlinewidth": 0,
              "ticks": ""
             }
            },
            "type": "scattercarpet"
           }
          ],
          "scattergeo": [
           {
            "marker": {
             "colorbar": {
              "outlinewidth": 0,
              "ticks": ""
             }
            },
            "type": "scattergeo"
           }
          ],
          "scattergl": [
           {
            "marker": {
             "colorbar": {
              "outlinewidth": 0,
              "ticks": ""
             }
            },
            "type": "scattergl"
           }
          ],
          "scattermapbox": [
           {
            "marker": {
             "colorbar": {
              "outlinewidth": 0,
              "ticks": ""
             }
            },
            "type": "scattermapbox"
           }
          ],
          "scatterpolar": [
           {
            "marker": {
             "colorbar": {
              "outlinewidth": 0,
              "ticks": ""
             }
            },
            "type": "scatterpolar"
           }
          ],
          "scatterpolargl": [
           {
            "marker": {
             "colorbar": {
              "outlinewidth": 0,
              "ticks": ""
             }
            },
            "type": "scatterpolargl"
           }
          ],
          "scatterternary": [
           {
            "marker": {
             "colorbar": {
              "outlinewidth": 0,
              "ticks": ""
             }
            },
            "type": "scatterternary"
           }
          ],
          "surface": [
           {
            "colorbar": {
             "outlinewidth": 0,
             "ticks": ""
            },
            "colorscale": [
             [
              0,
              "#0d0887"
             ],
             [
              0.1111111111111111,
              "#46039f"
             ],
             [
              0.2222222222222222,
              "#7201a8"
             ],
             [
              0.3333333333333333,
              "#9c179e"
             ],
             [
              0.4444444444444444,
              "#bd3786"
             ],
             [
              0.5555555555555556,
              "#d8576b"
             ],
             [
              0.6666666666666666,
              "#ed7953"
             ],
             [
              0.7777777777777778,
              "#fb9f3a"
             ],
             [
              0.8888888888888888,
              "#fdca26"
             ],
             [
              1,
              "#f0f921"
             ]
            ],
            "type": "surface"
           }
          ],
          "table": [
           {
            "cells": {
             "fill": {
              "color": "#EBF0F8"
             },
             "line": {
              "color": "white"
             }
            },
            "header": {
             "fill": {
              "color": "#C8D4E3"
             },
             "line": {
              "color": "white"
             }
            },
            "type": "table"
           }
          ]
         },
         "layout": {
          "annotationdefaults": {
           "arrowcolor": "#2a3f5f",
           "arrowhead": 0,
           "arrowwidth": 1
          },
          "coloraxis": {
           "colorbar": {
            "outlinewidth": 0,
            "ticks": ""
           }
          },
          "colorscale": {
           "diverging": [
            [
             0,
             "#8e0152"
            ],
            [
             0.1,
             "#c51b7d"
            ],
            [
             0.2,
             "#de77ae"
            ],
            [
             0.3,
             "#f1b6da"
            ],
            [
             0.4,
             "#fde0ef"
            ],
            [
             0.5,
             "#f7f7f7"
            ],
            [
             0.6,
             "#e6f5d0"
            ],
            [
             0.7,
             "#b8e186"
            ],
            [
             0.8,
             "#7fbc41"
            ],
            [
             0.9,
             "#4d9221"
            ],
            [
             1,
             "#276419"
            ]
           ],
           "sequential": [
            [
             0,
             "#0d0887"
            ],
            [
             0.1111111111111111,
             "#46039f"
            ],
            [
             0.2222222222222222,
             "#7201a8"
            ],
            [
             0.3333333333333333,
             "#9c179e"
            ],
            [
             0.4444444444444444,
             "#bd3786"
            ],
            [
             0.5555555555555556,
             "#d8576b"
            ],
            [
             0.6666666666666666,
             "#ed7953"
            ],
            [
             0.7777777777777778,
             "#fb9f3a"
            ],
            [
             0.8888888888888888,
             "#fdca26"
            ],
            [
             1,
             "#f0f921"
            ]
           ],
           "sequentialminus": [
            [
             0,
             "#0d0887"
            ],
            [
             0.1111111111111111,
             "#46039f"
            ],
            [
             0.2222222222222222,
             "#7201a8"
            ],
            [
             0.3333333333333333,
             "#9c179e"
            ],
            [
             0.4444444444444444,
             "#bd3786"
            ],
            [
             0.5555555555555556,
             "#d8576b"
            ],
            [
             0.6666666666666666,
             "#ed7953"
            ],
            [
             0.7777777777777778,
             "#fb9f3a"
            ],
            [
             0.8888888888888888,
             "#fdca26"
            ],
            [
             1,
             "#f0f921"
            ]
           ]
          },
          "colorway": [
           "#636efa",
           "#EF553B",
           "#00cc96",
           "#ab63fa",
           "#FFA15A",
           "#19d3f3",
           "#FF6692",
           "#B6E880",
           "#FF97FF",
           "#FECB52"
          ],
          "font": {
           "color": "#2a3f5f"
          },
          "geo": {
           "bgcolor": "white",
           "lakecolor": "white",
           "landcolor": "#E5ECF6",
           "showlakes": true,
           "showland": true,
           "subunitcolor": "white"
          },
          "hoverlabel": {
           "align": "left"
          },
          "hovermode": "closest",
          "mapbox": {
           "style": "light"
          },
          "paper_bgcolor": "white",
          "plot_bgcolor": "#E5ECF6",
          "polar": {
           "angularaxis": {
            "gridcolor": "white",
            "linecolor": "white",
            "ticks": ""
           },
           "bgcolor": "#E5ECF6",
           "radialaxis": {
            "gridcolor": "white",
            "linecolor": "white",
            "ticks": ""
           }
          },
          "scene": {
           "xaxis": {
            "backgroundcolor": "#E5ECF6",
            "gridcolor": "white",
            "gridwidth": 2,
            "linecolor": "white",
            "showbackground": true,
            "ticks": "",
            "zerolinecolor": "white"
           },
           "yaxis": {
            "backgroundcolor": "#E5ECF6",
            "gridcolor": "white",
            "gridwidth": 2,
            "linecolor": "white",
            "showbackground": true,
            "ticks": "",
            "zerolinecolor": "white"
           },
           "zaxis": {
            "backgroundcolor": "#E5ECF6",
            "gridcolor": "white",
            "gridwidth": 2,
            "linecolor": "white",
            "showbackground": true,
            "ticks": "",
            "zerolinecolor": "white"
           }
          },
          "shapedefaults": {
           "line": {
            "color": "#2a3f5f"
           }
          },
          "ternary": {
           "aaxis": {
            "gridcolor": "white",
            "linecolor": "white",
            "ticks": ""
           },
           "baxis": {
            "gridcolor": "white",
            "linecolor": "white",
            "ticks": ""
           },
           "bgcolor": "#E5ECF6",
           "caxis": {
            "gridcolor": "white",
            "linecolor": "white",
            "ticks": ""
           }
          },
          "title": {
           "x": 0.05
          },
          "xaxis": {
           "automargin": true,
           "gridcolor": "white",
           "linecolor": "white",
           "ticks": "",
           "title": {
            "standoff": 15
           },
           "zerolinecolor": "white",
           "zerolinewidth": 2
          },
          "yaxis": {
           "automargin": true,
           "gridcolor": "white",
           "linecolor": "white",
           "ticks": "",
           "title": {
            "standoff": 15
           },
           "zerolinecolor": "white",
           "zerolinewidth": 2
          }
         }
        },
        "title": {
         "text": "Confirmed Cases as of 04/08/2020",
         "x": 0.5
        }
       }
      },
      "text/html": [
       "<div>\n",
       "        \n",
       "        \n",
       "            <div id=\"32ff1dc6-e237-41b9-a54c-4a4335e9f222\" class=\"plotly-graph-div\" style=\"height:525px; width:100%;\"></div>\n",
       "            <script type=\"text/javascript\">\n",
       "                require([\"plotly\"], function(Plotly) {\n",
       "                    window.PLOTLYENV=window.PLOTLYENV || {};\n",
       "                    \n",
       "                if (document.getElementById(\"32ff1dc6-e237-41b9-a54c-4a4335e9f222\")) {\n",
       "                    Plotly.newPlot(\n",
       "                        '32ff1dc6-e237-41b9-a54c-4a4335e9f222',\n",
       "                        [{\"autocolorscale\": false, \"colorbar\": {\"len\": 280, \"lenmode\": \"pixels\", \"thickness\": 25, \"thicknessmode\": \"pixels\", \"ticks\": \"outside\", \"ticksuffix\": \"k\", \"ticktext\": [\"42k\", \"85k\", \"128k\", \"171k\", \"214k\", \"257k\", \"300k\", \"343k\", \"386k\", \"429k\"], \"tickvals\": [1.2969333402685768, 2.5938666805371535, 3.890800020805731, 5.187733361074307, 6.484666701342885, 7.781600041611462, 9.078533381880039, 10.375466722148614, 11.672400062417193, 12.96933340268577], \"y\": 1, \"yanchor\": \"top\"}, \"colorscale\": [[0.0, \"rgb(158,1,66)\"], [0.1, \"rgb(213,62,79)\"], [0.2, \"rgb(244,109,67)\"], [0.3, \"rgb(253,174,97)\"], [0.4, \"rgb(254,224,139)\"], [0.5, \"rgb(255,255,191)\"], [0.6, \"rgb(230,245,152)\"], [0.7, \"rgb(171,221,164)\"], [0.8, \"rgb(102,194,165)\"], [0.9, \"rgb(50,136,189)\"], [1.0, \"rgb(94,79,162)\"]], \"locationmode\": \"country names\", \"locations\": [\"US\", \"Spain\", \"Italy\", \"France\", \"Germany\", \"Mainland China\", \"Iran\", \"UK\", \"Turkey\", \"Belgium\", \"Switzerland\", \"Netherlands\", \"Canada\", \"Brazil\", \"Portugal\", \"Austria\", \"South Korea\", \"Israel\", \"Russia\", \"Sweden\", \"Norway\", \"Ireland\", \"Australia\", \"India\", \"Denmark\", \"Chile\", \"Czech Republic\", \"Poland\", \"Romania\", \"Ecuador\", \"Peru\", \"Pakistan\", \"Japan\", \"Malaysia\", \"Philippines\", \"Luxembourg\", \"Indonesia\", \"Saudi Arabia\", \"Mexico\", \"Serbia\", \"United Arab Emirates\", \"Finland\", \"Thailand\", \"Panama\", \"Qatar\", \"Dominican Republic\", \"Colombia\", \"Greece\", \"South Africa\", \"Argentina\", \"Ukraine\", \"Singapore\", \"Iceland\", \"Algeria\", \"Egypt\", \"Croatia\", \"Morocco\", \"New Zealand\", \"Iraq\", \"Estonia\", \"Moldova\", \"Slovenia\", \"Belarus\", \"Hong Kong\", \"Lithuania\", \"Hungary\", \"Armenia\", \"Kuwait\", \"Bahrain\", \"Azerbaijan\", \"Bosnia and Herzegovina\", \"Cameroon\", \"Kazakhstan\", \"Others\", \"Diamond Princess\", \"Slovakia\", \"Tunisia\", \"North Macedonia\", \"Bulgaria\", \"Latvia\", \"Lebanon\", \"Andorra\", \"Uzbekistan\", \"Cyprus\", \"Costa Rica\", \"Cuba\", \"Afghanistan\", \"Uruguay\", \"Oman\", \"Burkina Faso\", \"Albania\", \"Ivory Coast\", \"Taiwan\", \"Jordan\", \"Niger\", \"Ghana\", \"Honduras\", \"Malta\", \"San Marino\", \"Nigeria\", \"Mauritius\", \"Kyrgyzstan\", \"West Bank and Gaza\", \"Vietnam\", \"Montenegro\", \"Senegal\", \"Bangladesh\", \"Georgia\", \"Bolivia\", \"Sri Lanka\", \"Kosovo\", \"Congo (Kinshasa)\", \"Kenya\", \"Venezuela\", \"Guinea\", \"Brunei\", \"Djibouti\", \"Paraguay\", \"Cambodia\", \"Rwanda\", \"Trinidad and Tobago\", \"Madagascar\", \"El Salvador\", \"Guatemala\", \"Monaco\", \"Liechtenstein\", \"Togo\", \"Barbados\", \"Jamaica\", \"Mali\", \"Ethiopia\", \"Guadeloupe\", \"Uganda\", \"Macau\", \"Reunion\", \"Congo (Brazzaville)\", \"Bahamas\", \"Zambia\", \"Guyana\", \"Gabon\", \"Eritrea\", \"Guinea-Bissau\", \"Martinique\", \"Liberia\", \"Haiti\", \"Benin\", \"Tanzania\", \"occupied Palestinian territory\", \"Burma\", \"Palestine\", \"Libya\", \"Republic of Ireland\", \"Syria\", \"Maldives\", \"Angola\", \"Antigua and Barbuda\", \"Equatorial Guinea\", \"French Guiana\", \"Mozambique\", \"Mongolia\", \"Namibia\", \"Dominica\", \"Laos\", \"Fiji\", \"Saint Lucia\", \"Sudan\", \"Eswatini\", \"Somalia\", \"Grenada\", \"Seychelles\", \"Saint Kitts and Nevis\", \"Zimbabwe\", \"Suriname\", \"Chad\", \"Nepal\", \"MS Zaandam\", \"Central African Republic\", \"Holy See\", \"Belize\", \"Saint Vincent and the Grenadines\", \"Malawi\", \"Mayotte\", \"Cabo Verde\", \"Sierra Leone\", \"Botswana\", \"Mauritania\", \"Nicaragua\", \"Bhutan\", \"Gambia\", \"Western Sahara\", \"Aruba\", \"Bahamas, The\", \"Sao Tome and Principe\", \"Guam\", \"Burundi\", \"Puerto Rico\", \"Saint Barthelemy\", \"Jersey\", \"St. Martin\", \"Faroe Islands\", \"Papua New Guinea\", \"('St. Martin',)\", \"South Sudan\", \"Vatican City\", \"Timor-Leste\", \"The Gambia\", \"The Bahamas\", \" Azerbaijan\", \"Gambia, The\", \"Greenland\", \"Gibraltar\", \"Guernsey\", \"Curacao\", \"East Timor\", \"Channel Islands\", \"Cayman Islands\", \"Cape Verde\", \"Republic of the Congo\", \"North Ireland\"], \"marker\": {\"line\": {\"color\": \"white\", \"width\": 0.5}}, \"reversescale\": true, \"type\": \"choropleth\", \"z\": [12.96933340268577, 11.90645293550535, 11.845260584081668, 11.643594013564568, 11.637759141891555, 11.312081421150786, 11.075752948017643, 11.026369600176976, 10.551271191344544, 10.060619498256424, 10.055349901845375, 9.937019035744921, 9.859587910246109, 9.690912952571152, 9.483492392643639, 9.468233115617211, 9.248021438943871, 9.14889040965996, 9.067854723679428, 9.038246335337664, 8.713746330456916, 8.711772645605693, 8.701180027529253, 8.68541582383069, 8.62998601889136, 8.620832226175724, 8.57772369115627, 8.557374981049069, 8.46821300919452, 8.400659375160286, 8.376090350438238, 8.35772841676521, 8.356319965828153, 8.323365694436081, 8.261009786023827, 8.017637159908478, 7.991592282068092, 7.983440063006542, 7.932003152361385, 7.888334500738654, 7.88570539124302, 7.818832443803404, 7.7702232041587855, 7.718240951959316, 7.700747794511798, 7.65491704784832, 7.627544390488503, 7.5411524551363085, 7.520234556474628, 7.44716835960004, 7.419380582918692, 7.392031567514591, 7.38770923908104, 7.360103972989152, 7.352441100243583, 7.202661196523238, 7.150701457592526, 7.098375638590786, 7.091742115095153, 7.077498053569231, 7.068172000388042, 6.994849985833071, 6.97166860472579, 6.866933284461882, 6.815639990074331, 6.796823718274855, 6.78105762593618, 6.75110146893676, 6.71295620067707, 6.71174039505618, 6.6895992691789665, 6.593044534142437, 6.588926477533519, 6.568077911411976, 6.568077911411976, 6.525029657843462, 6.4425401664681985, 6.424869023905388, 6.385194398997726, 6.3578422665081, 6.3561076606958915, 6.335054251498059, 6.300785794663244, 6.26530121273771, 6.218600119691729, 6.124683390894205, 6.095824562432225, 6.049733455231958, 6.037870919922137, 6.025865973825314, 5.991464547107982, 5.950642552587727, 5.937536205082426, 5.8805329864007, 5.834810737062605, 5.746203190540153, 5.7430031878094825, 5.700443573390687, 5.631211781821365, 5.62040086571715, 5.60947179518496, 5.598421958998375, 5.572154032177765, 5.5254529391317835, 5.5134287461649825, 5.497168225293202, 5.384495062789089, 5.351858133476067, 5.3471075307174685, 5.241747015059643, 5.214935757608986, 5.19295685089021, 5.187385805840755, 5.117993812416755, 5.099866427824199, 4.90527477843843, 4.90527477843843, 4.77912349311153, 4.762173934797756, 4.700480365792417, 4.672828834461906, 4.532599493153256, 4.532599493153256, 4.465908118654584, 4.394449154672439, 4.356708826689592, 4.248495242049359, 4.143134726391533, 4.143134726391533, 4.07753744390572, 4.007333185232471, 3.970291913552122, 3.970291913552122, 3.8066624897703196, 3.8066624897703196, 3.8066624897703196, 3.6888794541139363, 3.6635616461296463, 3.6109179126442243, 3.5263605246161616, 3.4965075614664802, 3.4965075614664802, 3.4657359027997265, 3.4339872044851463, 3.295836866004329, 3.258096538021482, 3.2188758248682006, 3.2188758248682006, 3.091042453358316, 3.091042453358316, 3.044522437723423, 3.044522437723423, 2.9444389791664403, 2.9444389791664403, 2.9444389791664403, 2.9444389791664403, 2.8903717578961645, 2.8903717578961645, 2.833213344056216, 2.772588722239781, 2.772588722239781, 2.70805020110221, 2.70805020110221, 2.70805020110221, 2.6390573296152584, 2.6390573296152584, 2.4849066497880004, 2.4849066497880004, 2.4849066497880004, 2.3978952727983707, 2.3978952727983707, 2.3978952727983707, 2.302585092994046, 2.302585092994046, 2.1972245773362196, 2.1972245773362196, 2.0794415416798357, 2.0794415416798357, 2.0794415416798357, 2.0794415416798357, 2.0794415416798357, 1.9459101490553132, 1.9459101490553132, 1.9459101490553132, 1.791759469228055, 1.791759469228055, 1.791759469228055, 1.6094379124341003, 1.3862943611198906, 1.3862943611198906, 1.3862943611198906, 1.3862943611198906, 1.3862943611198906, 1.0986122886681098, 1.0986122886681098, 1.0986122886681098, 1.0986122886681098, 0.6931471805599453, 0.6931471805599453, 0.6931471805599453, 0.6931471805599453, 0.6931471805599453, 0.6931471805599453, 0.0, 0.0, 0.0, 0.0, 0.0, 0.0, 0.0, 0.0, 0.0, 0.0, 0.0, 0.0, 0.0, 0.0, 0.0, 0.0], \"zmax\": 12.96933340268577, \"zmin\": 0.0}],\n",
       "                        {\"autosize\": true, \"geo\": {\"projection\": {\"type\": \"equirectangular\"}, \"showcoastlines\": false, \"showframe\": false}, \"template\": {\"data\": {\"bar\": [{\"error_x\": {\"color\": \"#2a3f5f\"}, \"error_y\": {\"color\": \"#2a3f5f\"}, \"marker\": {\"line\": {\"color\": \"#E5ECF6\", \"width\": 0.5}}, \"type\": \"bar\"}], \"barpolar\": [{\"marker\": {\"line\": {\"color\": \"#E5ECF6\", \"width\": 0.5}}, \"type\": \"barpolar\"}], \"carpet\": [{\"aaxis\": {\"endlinecolor\": \"#2a3f5f\", \"gridcolor\": \"white\", \"linecolor\": \"white\", \"minorgridcolor\": \"white\", \"startlinecolor\": \"#2a3f5f\"}, \"baxis\": {\"endlinecolor\": \"#2a3f5f\", \"gridcolor\": \"white\", \"linecolor\": \"white\", \"minorgridcolor\": \"white\", \"startlinecolor\": \"#2a3f5f\"}, \"type\": \"carpet\"}], \"choropleth\": [{\"colorbar\": {\"outlinewidth\": 0, \"ticks\": \"\"}, \"type\": \"choropleth\"}], \"contour\": [{\"colorbar\": {\"outlinewidth\": 0, \"ticks\": \"\"}, \"colorscale\": [[0.0, \"#0d0887\"], [0.1111111111111111, \"#46039f\"], [0.2222222222222222, \"#7201a8\"], [0.3333333333333333, \"#9c179e\"], [0.4444444444444444, \"#bd3786\"], [0.5555555555555556, \"#d8576b\"], [0.6666666666666666, \"#ed7953\"], [0.7777777777777778, \"#fb9f3a\"], [0.8888888888888888, \"#fdca26\"], [1.0, \"#f0f921\"]], \"type\": \"contour\"}], \"contourcarpet\": [{\"colorbar\": {\"outlinewidth\": 0, \"ticks\": \"\"}, \"type\": \"contourcarpet\"}], \"heatmap\": [{\"colorbar\": {\"outlinewidth\": 0, \"ticks\": \"\"}, \"colorscale\": [[0.0, \"#0d0887\"], [0.1111111111111111, \"#46039f\"], [0.2222222222222222, \"#7201a8\"], [0.3333333333333333, \"#9c179e\"], [0.4444444444444444, \"#bd3786\"], [0.5555555555555556, \"#d8576b\"], [0.6666666666666666, \"#ed7953\"], [0.7777777777777778, \"#fb9f3a\"], [0.8888888888888888, \"#fdca26\"], [1.0, \"#f0f921\"]], \"type\": \"heatmap\"}], \"heatmapgl\": [{\"colorbar\": {\"outlinewidth\": 0, \"ticks\": \"\"}, \"colorscale\": [[0.0, \"#0d0887\"], [0.1111111111111111, \"#46039f\"], [0.2222222222222222, \"#7201a8\"], [0.3333333333333333, \"#9c179e\"], [0.4444444444444444, \"#bd3786\"], [0.5555555555555556, \"#d8576b\"], [0.6666666666666666, \"#ed7953\"], [0.7777777777777778, \"#fb9f3a\"], [0.8888888888888888, \"#fdca26\"], [1.0, \"#f0f921\"]], \"type\": \"heatmapgl\"}], \"histogram\": [{\"marker\": {\"colorbar\": {\"outlinewidth\": 0, \"ticks\": \"\"}}, \"type\": \"histogram\"}], \"histogram2d\": [{\"colorbar\": {\"outlinewidth\": 0, \"ticks\": \"\"}, \"colorscale\": [[0.0, \"#0d0887\"], [0.1111111111111111, \"#46039f\"], [0.2222222222222222, \"#7201a8\"], [0.3333333333333333, \"#9c179e\"], [0.4444444444444444, \"#bd3786\"], [0.5555555555555556, \"#d8576b\"], [0.6666666666666666, \"#ed7953\"], [0.7777777777777778, \"#fb9f3a\"], [0.8888888888888888, \"#fdca26\"], [1.0, \"#f0f921\"]], \"type\": \"histogram2d\"}], \"histogram2dcontour\": [{\"colorbar\": {\"outlinewidth\": 0, \"ticks\": \"\"}, \"colorscale\": [[0.0, \"#0d0887\"], [0.1111111111111111, \"#46039f\"], [0.2222222222222222, \"#7201a8\"], [0.3333333333333333, \"#9c179e\"], [0.4444444444444444, \"#bd3786\"], [0.5555555555555556, \"#d8576b\"], [0.6666666666666666, \"#ed7953\"], [0.7777777777777778, \"#fb9f3a\"], [0.8888888888888888, \"#fdca26\"], [1.0, \"#f0f921\"]], \"type\": \"histogram2dcontour\"}], \"mesh3d\": [{\"colorbar\": {\"outlinewidth\": 0, \"ticks\": \"\"}, \"type\": \"mesh3d\"}], \"parcoords\": [{\"line\": {\"colorbar\": {\"outlinewidth\": 0, \"ticks\": \"\"}}, \"type\": \"parcoords\"}], \"pie\": [{\"automargin\": true, \"type\": \"pie\"}], \"scatter\": [{\"marker\": {\"colorbar\": {\"outlinewidth\": 0, \"ticks\": \"\"}}, \"type\": \"scatter\"}], \"scatter3d\": [{\"line\": {\"colorbar\": {\"outlinewidth\": 0, \"ticks\": \"\"}}, \"marker\": {\"colorbar\": {\"outlinewidth\": 0, \"ticks\": \"\"}}, \"type\": \"scatter3d\"}], \"scattercarpet\": [{\"marker\": {\"colorbar\": {\"outlinewidth\": 0, \"ticks\": \"\"}}, \"type\": \"scattercarpet\"}], \"scattergeo\": [{\"marker\": {\"colorbar\": {\"outlinewidth\": 0, \"ticks\": \"\"}}, \"type\": \"scattergeo\"}], \"scattergl\": [{\"marker\": {\"colorbar\": {\"outlinewidth\": 0, \"ticks\": \"\"}}, \"type\": \"scattergl\"}], \"scattermapbox\": [{\"marker\": {\"colorbar\": {\"outlinewidth\": 0, \"ticks\": \"\"}}, \"type\": \"scattermapbox\"}], \"scatterpolar\": [{\"marker\": {\"colorbar\": {\"outlinewidth\": 0, \"ticks\": \"\"}}, \"type\": \"scatterpolar\"}], \"scatterpolargl\": [{\"marker\": {\"colorbar\": {\"outlinewidth\": 0, \"ticks\": \"\"}}, \"type\": \"scatterpolargl\"}], \"scatterternary\": [{\"marker\": {\"colorbar\": {\"outlinewidth\": 0, \"ticks\": \"\"}}, \"type\": \"scatterternary\"}], \"surface\": [{\"colorbar\": {\"outlinewidth\": 0, \"ticks\": \"\"}, \"colorscale\": [[0.0, \"#0d0887\"], [0.1111111111111111, \"#46039f\"], [0.2222222222222222, \"#7201a8\"], [0.3333333333333333, \"#9c179e\"], [0.4444444444444444, \"#bd3786\"], [0.5555555555555556, \"#d8576b\"], [0.6666666666666666, \"#ed7953\"], [0.7777777777777778, \"#fb9f3a\"], [0.8888888888888888, \"#fdca26\"], [1.0, \"#f0f921\"]], \"type\": \"surface\"}], \"table\": [{\"cells\": {\"fill\": {\"color\": \"#EBF0F8\"}, \"line\": {\"color\": \"white\"}}, \"header\": {\"fill\": {\"color\": \"#C8D4E3\"}, \"line\": {\"color\": \"white\"}}, \"type\": \"table\"}]}, \"layout\": {\"annotationdefaults\": {\"arrowcolor\": \"#2a3f5f\", \"arrowhead\": 0, \"arrowwidth\": 1}, \"coloraxis\": {\"colorbar\": {\"outlinewidth\": 0, \"ticks\": \"\"}}, \"colorscale\": {\"diverging\": [[0, \"#8e0152\"], [0.1, \"#c51b7d\"], [0.2, \"#de77ae\"], [0.3, \"#f1b6da\"], [0.4, \"#fde0ef\"], [0.5, \"#f7f7f7\"], [0.6, \"#e6f5d0\"], [0.7, \"#b8e186\"], [0.8, \"#7fbc41\"], [0.9, \"#4d9221\"], [1, \"#276419\"]], \"sequential\": [[0.0, \"#0d0887\"], [0.1111111111111111, \"#46039f\"], [0.2222222222222222, \"#7201a8\"], [0.3333333333333333, \"#9c179e\"], [0.4444444444444444, \"#bd3786\"], [0.5555555555555556, \"#d8576b\"], [0.6666666666666666, \"#ed7953\"], [0.7777777777777778, \"#fb9f3a\"], [0.8888888888888888, \"#fdca26\"], [1.0, \"#f0f921\"]], \"sequentialminus\": [[0.0, \"#0d0887\"], [0.1111111111111111, \"#46039f\"], [0.2222222222222222, \"#7201a8\"], [0.3333333333333333, \"#9c179e\"], [0.4444444444444444, \"#bd3786\"], [0.5555555555555556, \"#d8576b\"], [0.6666666666666666, \"#ed7953\"], [0.7777777777777778, \"#fb9f3a\"], [0.8888888888888888, \"#fdca26\"], [1.0, \"#f0f921\"]]}, \"colorway\": [\"#636efa\", \"#EF553B\", \"#00cc96\", \"#ab63fa\", \"#FFA15A\", \"#19d3f3\", \"#FF6692\", \"#B6E880\", \"#FF97FF\", \"#FECB52\"], \"font\": {\"color\": \"#2a3f5f\"}, \"geo\": {\"bgcolor\": \"white\", \"lakecolor\": \"white\", \"landcolor\": \"#E5ECF6\", \"showlakes\": true, \"showland\": true, \"subunitcolor\": \"white\"}, \"hoverlabel\": {\"align\": \"left\"}, \"hovermode\": \"closest\", \"mapbox\": {\"style\": \"light\"}, \"paper_bgcolor\": \"white\", \"plot_bgcolor\": \"#E5ECF6\", \"polar\": {\"angularaxis\": {\"gridcolor\": \"white\", \"linecolor\": \"white\", \"ticks\": \"\"}, \"bgcolor\": \"#E5ECF6\", \"radialaxis\": {\"gridcolor\": \"white\", \"linecolor\": \"white\", \"ticks\": \"\"}}, \"scene\": {\"xaxis\": {\"backgroundcolor\": \"#E5ECF6\", \"gridcolor\": \"white\", \"gridwidth\": 2, \"linecolor\": \"white\", \"showbackground\": true, \"ticks\": \"\", \"zerolinecolor\": \"white\"}, \"yaxis\": {\"backgroundcolor\": \"#E5ECF6\", \"gridcolor\": \"white\", \"gridwidth\": 2, \"linecolor\": \"white\", \"showbackground\": true, \"ticks\": \"\", \"zerolinecolor\": \"white\"}, \"zaxis\": {\"backgroundcolor\": \"#E5ECF6\", \"gridcolor\": \"white\", \"gridwidth\": 2, \"linecolor\": \"white\", \"showbackground\": true, \"ticks\": \"\", \"zerolinecolor\": \"white\"}}, \"shapedefaults\": {\"line\": {\"color\": \"#2a3f5f\"}}, \"ternary\": {\"aaxis\": {\"gridcolor\": \"white\", \"linecolor\": \"white\", \"ticks\": \"\"}, \"baxis\": {\"gridcolor\": \"white\", \"linecolor\": \"white\", \"ticks\": \"\"}, \"bgcolor\": \"#E5ECF6\", \"caxis\": {\"gridcolor\": \"white\", \"linecolor\": \"white\", \"ticks\": \"\"}}, \"title\": {\"x\": 0.05}, \"xaxis\": {\"automargin\": true, \"gridcolor\": \"white\", \"linecolor\": \"white\", \"ticks\": \"\", \"title\": {\"standoff\": 15}, \"zerolinecolor\": \"white\", \"zerolinewidth\": 2}, \"yaxis\": {\"automargin\": true, \"gridcolor\": \"white\", \"linecolor\": \"white\", \"ticks\": \"\", \"title\": {\"standoff\": 15}, \"zerolinecolor\": \"white\", \"zerolinewidth\": 2}}}, \"title\": {\"text\": \"Confirmed Cases as of 04/08/2020\", \"x\": 0.5}},\n",
       "                        {\"responsive\": true}\n",
       "                    ).then(function(){\n",
       "                            \n",
       "var gd = document.getElementById('32ff1dc6-e237-41b9-a54c-4a4335e9f222');\n",
       "var x = new MutationObserver(function (mutations, observer) {{\n",
       "        var display = window.getComputedStyle(gd).display;\n",
       "        if (!display || display === 'none') {{\n",
       "            console.log([gd, 'removed!']);\n",
       "            Plotly.purge(gd);\n",
       "            observer.disconnect();\n",
       "        }}\n",
       "}});\n",
       "\n",
       "// Listen for the removal of the full notebook cells\n",
       "var notebookContainer = gd.closest('#notebook-container');\n",
       "if (notebookContainer) {{\n",
       "    x.observe(notebookContainer, {childList: true});\n",
       "}}\n",
       "\n",
       "// Listen for the clearing of the current output cell\n",
       "var outputEl = gd.closest('.output');\n",
       "if (outputEl) {{\n",
       "    x.observe(outputEl, {childList: true});\n",
       "}}\n",
       "\n",
       "                        })\n",
       "                };\n",
       "                });\n",
       "            </script>\n",
       "        </div>"
      ]
     },
     "metadata": {},
     "output_type": "display_data"
    }
   ],
   "source": [
    "# Create the Choropleth\n",
    "fig = go.Figure(data=go.Choropleth(\n",
    "    locations = df_countries['Country'],\n",
    "    locationmode = 'country names',\n",
    "    z = df_countries['LogCases'],\n",
    "    \n",
    "    autocolorscale = False,\n",
    "    reversescale=True,\n",
    "    colorscale='spectral',\n",
    "    #colorscale=[\"blue\", \"green\",\"yellow\", \"red\"],\n",
    "    zmin=df_countries['LogCases'].min(),\n",
    "    zmax=df_countries['LogCases'].max(),\n",
    "    marker_line_color = 'white',\n",
    "    marker_line_width = 0.5,\n",
    "    colorbar=dict(\n",
    "    #title=\"Number of Cases:\",\n",
    "    tickvals=scl_ticks,\n",
    "    ticktext=scl_ticktext,\n",
    "    thicknessmode=\"pixels\", thickness=25,\n",
    "    lenmode=\"pixels\", len=280,\n",
    "    yanchor=\"top\", y=1,\n",
    "    ticks=\"outside\", ticksuffix=\"k\",\n",
    "    #dtick=5\n",
    ")\n",
    "))\n",
    "fig.update_layout(\n",
    "    title_text = 'Confirmed Cases as of '+str(last_update),\n",
    "    title_x = 0.5,\n",
    "    autosize=True,\n",
    "    geo=dict(\n",
    "        showframe = False,\n",
    "        showcoastlines = False,\n",
    "        projection_type = 'equirectangular'\n",
    "    )\n",
    ")"
   ]
  },
  {
   "cell_type": "markdown",
   "metadata": {},
   "source": [
    "## Deaths"
   ]
  },
  {
   "cell_type": "code",
   "execution_count": 192,
   "metadata": {},
   "outputs": [
    {
     "data": {
      "text/html": [
       "<div>\n",
       "<style scoped>\n",
       "    .dataframe tbody tr th:only-of-type {\n",
       "        vertical-align: middle;\n",
       "    }\n",
       "\n",
       "    .dataframe tbody tr th {\n",
       "        vertical-align: top;\n",
       "    }\n",
       "\n",
       "    .dataframe thead th {\n",
       "        text-align: right;\n",
       "    }\n",
       "</style>\n",
       "<table border=\"1\" class=\"dataframe\">\n",
       "  <thead>\n",
       "    <tr style=\"text-align: right;\">\n",
       "      <th></th>\n",
       "      <th>Country</th>\n",
       "      <th>Date</th>\n",
       "      <th>SNo</th>\n",
       "      <th>Confirmed</th>\n",
       "      <th>Deaths</th>\n",
       "      <th>Recovered</th>\n",
       "      <th>LogCases</th>\n",
       "      <th>LogDeaths</th>\n",
       "    </tr>\n",
       "  </thead>\n",
       "  <tbody>\n",
       "    <tr>\n",
       "      <th>6635</th>\n",
       "      <td>US</td>\n",
       "      <td>04/08/2020</td>\n",
       "      <td>762268</td>\n",
       "      <td>429052.0</td>\n",
       "      <td>14695.0</td>\n",
       "      <td>23559.0</td>\n",
       "      <td>12.969333</td>\n",
       "      <td>9.595263</td>\n",
       "    </tr>\n",
       "    <tr>\n",
       "      <th>5896</th>\n",
       "      <td>Spain</td>\n",
       "      <td>04/08/2020</td>\n",
       "      <td>13043</td>\n",
       "      <td>148220.0</td>\n",
       "      <td>14792.0</td>\n",
       "      <td>48021.0</td>\n",
       "      <td>11.906453</td>\n",
       "      <td>9.601842</td>\n",
       "    </tr>\n",
       "    <tr>\n",
       "      <th>3096</th>\n",
       "      <td>Italy</td>\n",
       "      <td>04/08/2020</td>\n",
       "      <td>12970</td>\n",
       "      <td>139422.0</td>\n",
       "      <td>17669.0</td>\n",
       "      <td>26491.0</td>\n",
       "      <td>11.845261</td>\n",
       "      <td>9.779567</td>\n",
       "    </tr>\n",
       "    <tr>\n",
       "      <th>2105</th>\n",
       "      <td>France</td>\n",
       "      <td>04/08/2020</td>\n",
       "      <td>144394</td>\n",
       "      <td>113959.0</td>\n",
       "      <td>10887.0</td>\n",
       "      <td>21452.0</td>\n",
       "      <td>11.643594</td>\n",
       "      <td>9.295325</td>\n",
       "    </tr>\n",
       "    <tr>\n",
       "      <th>2282</th>\n",
       "      <td>Germany</td>\n",
       "      <td>04/08/2020</td>\n",
       "      <td>12951</td>\n",
       "      <td>113296.0</td>\n",
       "      <td>2349.0</td>\n",
       "      <td>46300.0</td>\n",
       "      <td>11.637759</td>\n",
       "      <td>7.761745</td>\n",
       "    </tr>\n",
       "  </tbody>\n",
       "</table>\n",
       "</div>"
      ],
      "text/plain": [
       "      Country        Date     SNo  Confirmed   Deaths  Recovered   LogCases  \\\n",
       "6635       US  04/08/2020  762268   429052.0  14695.0    23559.0  12.969333   \n",
       "5896    Spain  04/08/2020   13043   148220.0  14792.0    48021.0  11.906453   \n",
       "3096    Italy  04/08/2020   12970   139422.0  17669.0    26491.0  11.845261   \n",
       "2105   France  04/08/2020  144394   113959.0  10887.0    21452.0  11.643594   \n",
       "2282  Germany  04/08/2020   12951   113296.0   2349.0    46300.0  11.637759   \n",
       "\n",
       "      LogDeaths  \n",
       "6635   9.595263  \n",
       "5896   9.601842  \n",
       "3096   9.779567  \n",
       "2105   9.295325  \n",
       "2282   7.761745  "
      ]
     },
     "execution_count": 192,
     "metadata": {},
     "output_type": "execute_result"
    }
   ],
   "source": [
    "df_countries['LogDeaths']=np.log(df_countries['Deaths'])\n",
    "df_countries.head()"
   ]
  },
  {
   "cell_type": "code",
   "execution_count": 194,
   "metadata": {},
   "outputs": [
    {
     "name": "stdout",
     "output_type": "stream",
     "text": [
      "Max cases: 17669.0\n",
      "Max Log Cases: 9.77956697061665\n",
      "[0.977956697061665, 1.95591339412333, 2.9338700911849953, 3.91182678824666, 4.889783485308325, 5.867740182369991, 6.845696879431655, 7.82365357649332, 8.801610273554985, 9.77956697061665]\n",
      "['1k', '3k', '5k', '7k', '8k', '10k', '12k', '14k', '15k', '17k']\n"
     ]
    }
   ],
   "source": [
    "#Adjust bar color scale:\n",
    "death_max=df_countries[\"Deaths\"].max()\n",
    "print(\"Max cases: \"+str(death_max))\n",
    "death_maxlog=df_countries[\"LogDeaths\"].max()\n",
    "print(\"Max Log Cases: \"+str(death_maxlog))\n",
    "\n",
    "#values for tick property\n",
    "scl_ticks2=[]\n",
    "interval=death_max/10\n",
    "for i in range(0,10):\n",
    "    scl_ticks2.append((death_maxlog*(interval*(i+1))/death_max))\n",
    "print(scl_ticks2)\n",
    "\n",
    "#values for tick text property:\n",
    "scl_ticktext2=[]\n",
    "for i in range(0,10):\n",
    "    scl_ticktext2.append(str(int(interval*(i+1)/1000))+\"k\")\n",
    "print(scl_ticktext2)"
   ]
  },
  {
   "cell_type": "code",
   "execution_count": 201,
   "metadata": {},
   "outputs": [
    {
     "data": {
      "application/vnd.plotly.v1+json": {
       "config": {
        "plotlyServerURL": "https://plot.ly"
       },
       "data": [
        {
         "autocolorscale": false,
         "colorbar": {
          "len": 280,
          "lenmode": "pixels",
          "thickness": 25,
          "thicknessmode": "pixels",
          "ticks": "outside",
          "ticksuffix": "k",
          "ticktext": [
           "1k",
           "3k",
           "5k",
           "7k",
           "8k",
           "10k",
           "12k",
           "14k",
           "15k",
           "17k"
          ],
          "tickvals": [
           0.977956697061665,
           1.95591339412333,
           2.9338700911849953,
           3.91182678824666,
           4.889783485308325,
           5.867740182369991,
           6.845696879431655,
           7.82365357649332,
           8.801610273554985,
           9.77956697061665
          ],
          "y": 1,
          "yanchor": "top"
         },
         "colorscale": [
          [
           0,
           "rgb(0,0,0)"
          ],
          [
           0.3333333333333333,
           "rgb(230,0,0)"
          ],
          [
           0.6666666666666666,
           "rgb(255,210,0)"
          ],
          [
           1,
           "rgb(255,255,255)"
          ]
         ],
         "locationmode": "country names",
         "locations": [
          "US",
          "Spain",
          "Italy",
          "France",
          "Germany",
          "Mainland China",
          "Iran",
          "UK",
          "Turkey",
          "Belgium",
          "Switzerland",
          "Netherlands",
          "Canada",
          "Brazil",
          "Portugal",
          "Austria",
          "South Korea",
          "Israel",
          "Russia",
          "Sweden",
          "Norway",
          "Ireland",
          "Australia",
          "India",
          "Denmark",
          "Chile",
          "Czech Republic",
          "Poland",
          "Romania",
          "Ecuador",
          "Peru",
          "Pakistan",
          "Japan",
          "Malaysia",
          "Philippines",
          "Luxembourg",
          "Indonesia",
          "Saudi Arabia",
          "Mexico",
          "Serbia",
          "United Arab Emirates",
          "Finland",
          "Thailand",
          "Panama",
          "Qatar",
          "Dominican Republic",
          "Colombia",
          "Greece",
          "South Africa",
          "Argentina",
          "Ukraine",
          "Singapore",
          "Iceland",
          "Algeria",
          "Egypt",
          "Croatia",
          "Morocco",
          "New Zealand",
          "Iraq",
          "Estonia",
          "Moldova",
          "Slovenia",
          "Belarus",
          "Hong Kong",
          "Lithuania",
          "Hungary",
          "Armenia",
          "Kuwait",
          "Bahrain",
          "Azerbaijan",
          "Bosnia and Herzegovina",
          "Cameroon",
          "Kazakhstan",
          "Others",
          "Diamond Princess",
          "Slovakia",
          "Tunisia",
          "North Macedonia",
          "Bulgaria",
          "Latvia",
          "Lebanon",
          "Andorra",
          "Uzbekistan",
          "Cyprus",
          "Costa Rica",
          "Cuba",
          "Afghanistan",
          "Uruguay",
          "Oman",
          "Burkina Faso",
          "Albania",
          "Ivory Coast",
          "Taiwan",
          "Jordan",
          "Niger",
          "Ghana",
          "Honduras",
          "Malta",
          "San Marino",
          "Nigeria",
          "Mauritius",
          "Kyrgyzstan",
          "West Bank and Gaza",
          "Vietnam",
          "Montenegro",
          "Senegal",
          "Bangladesh",
          "Georgia",
          "Bolivia",
          "Sri Lanka",
          "Kosovo",
          "Congo (Kinshasa)",
          "Kenya",
          "Venezuela",
          "Guinea",
          "Brunei",
          "Djibouti",
          "Paraguay",
          "Cambodia",
          "Rwanda",
          "Trinidad and Tobago",
          "Madagascar",
          "El Salvador",
          "Guatemala",
          "Monaco",
          "Liechtenstein",
          "Togo",
          "Barbados",
          "Jamaica",
          "Mali",
          "Ethiopia",
          "Guadeloupe",
          "Uganda",
          "Macau",
          "Reunion",
          "Congo (Brazzaville)",
          "Bahamas",
          "Zambia",
          "Guyana",
          "Gabon",
          "Eritrea",
          "Guinea-Bissau",
          "Martinique",
          "Liberia",
          "Haiti",
          "Benin",
          "Tanzania",
          "occupied Palestinian territory",
          "Burma",
          "Palestine",
          "Libya",
          "Republic of Ireland",
          "Syria",
          "Maldives",
          "Angola",
          "Antigua and Barbuda",
          "Equatorial Guinea",
          "French Guiana",
          "Mozambique",
          "Mongolia",
          "Namibia",
          "Dominica",
          "Laos",
          "Fiji",
          "Saint Lucia",
          "Sudan",
          "Eswatini",
          "Somalia",
          "Grenada",
          "Seychelles",
          "Saint Kitts and Nevis",
          "Zimbabwe",
          "Suriname",
          "Chad",
          "Nepal",
          "MS Zaandam",
          "Central African Republic",
          "Holy See",
          "Belize",
          "Saint Vincent and the Grenadines",
          "Malawi",
          "Mayotte",
          "Cabo Verde",
          "Sierra Leone",
          "Botswana",
          "Mauritania",
          "Nicaragua",
          "Bhutan",
          "Gambia",
          "Western Sahara",
          "Aruba",
          "Bahamas, The",
          "Sao Tome and Principe",
          "Guam",
          "Burundi",
          "Puerto Rico",
          "Saint Barthelemy",
          "Jersey",
          "St. Martin",
          "Faroe Islands",
          "Papua New Guinea",
          "('St. Martin',)",
          "South Sudan",
          "Vatican City",
          "Timor-Leste",
          "The Gambia",
          "The Bahamas",
          " Azerbaijan",
          "Gambia, The",
          "Greenland",
          "Gibraltar",
          "Guernsey",
          "Curacao",
          "East Timor",
          "Channel Islands",
          "Cayman Islands",
          "Cape Verde",
          "Republic of the Congo",
          "North Ireland"
         ],
         "marker": {
          "line": {
           "color": "black",
           "width": 0.5
          }
         },
         "reversescale": true,
         "type": "choropleth",
         "z": [
          9.595262578853017,
          9.60184177306696,
          9.77956697061665,
          9.29532469588118,
          7.761744984658913,
          8.11162807830774,
          8.292298107063221,
          8.869398159883518,
          6.699500340161678,
          7.7142311448490855,
          6.796823718274855,
          7.720905251936779,
          6.008813185442595,
          6.70808408385307,
          5.940171252720432,
          5.60947179518496,
          5.298317366548036,
          4.290459441148391,
          4.143134726391533,
          6.532334292222349,
          4.48863636973214,
          5.459585514144159,
          3.912023005428146,
          5.181783550292085,
          5.384495062789089,
          3.871201010907891,
          4.59511985013459,
          5.0689042022202315,
          5.393627546352362,
          5.488937726156687,
          4.795790545596741,
          4.110873864173311,
          4.532599493153256,
          4.174387269895637,
          5.204006687076795,
          3.828641396489095,
          5.480638923341991,
          3.713572066704308,
          4.948759890378168,
          4.174387269895637,
          2.4849066497880004,
          3.6888794541139363,
          3.4011973816621555,
          4.07753744390572,
          1.791759469228055,
          4.68213122712422,
          3.9889840465642745,
          4.418840607796598,
          2.8903717578961645,
          4.143134726391533,
          3.9512437185814275,
          1.791759469228055,
          1.791759469228055,
          5.3230099791384085,
          4.634728988229636,
          2.9444389791664403,
          4.532599493153256,
          0,
          4.23410650459726,
          3.1780538303479458,
          3.295836866004329,
          3.6888794541139363,
          2.5649493574615367,
          1.3862943611198906,
          2.70805020110221,
          4.060443010546419,
          2.1972245773362196,
          0,
          1.6094379124341003,
          2.0794415416798357,
          3.5263605246161616,
          2.302585092994046,
          1.9459101490553132,
          1.9459101490553132,
          2.302585092994046,
          0.6931471805599453,
          3.1780538303479458,
          3.367295829986474,
          3.1780538303479458,
          0.6931471805599453,
          2.9444389791664403,
          3.1354942159291497,
          1.0986122886681098,
          2.1972245773362196,
          1.0986122886681098,
          2.4849066497880004,
          2.6390573296152584,
          1.9459101490553132,
          0.6931471805599453,
          3.1354942159291497,
          3.091042453358316,
          1.0986122886681098,
          1.6094379124341003,
          1.791759469228055,
          2.3978952727983707,
          1.791759469228055,
          3.091042453358316,
          0,
          3.5263605246161616,
          1.791759469228055,
          1.9459101490553132,
          1.3862943611198906,
          0,
          null,
          0.6931471805599453,
          0.6931471805599453,
          2.995732273553991,
          1.0986122886681098,
          2.70805020110221,
          1.9459101490553132,
          1.6094379124341003,
          2.8903717578961645,
          1.791759469228055,
          2.1972245773362196,
          null,
          0,
          null,
          1.6094379124341003,
          null,
          null,
          2.0794415416798357,
          null,
          1.6094379124341003,
          1.0986122886681098,
          0,
          0,
          1.0986122886681098,
          1.0986122886681098,
          1.0986122886681098,
          1.9459101490553132,
          0.6931471805599453,
          null,
          null,
          null,
          null,
          1.6094379124341003,
          1.9459101490553132,
          0,
          1.791759469228055,
          0,
          null,
          null,
          0,
          1.3862943611198906,
          0,
          0,
          0,
          null,
          0,
          null,
          0,
          null,
          0.6931471805599453,
          null,
          0.6931471805599453,
          0.6931471805599453,
          null,
          null,
          null,
          null,
          null,
          null,
          null,
          null,
          null,
          0.6931471805599453,
          null,
          0,
          null,
          null,
          null,
          1.0986122886681098,
          null,
          null,
          null,
          0.6931471805599453,
          null,
          null,
          0,
          null,
          0,
          null,
          0,
          null,
          0,
          0,
          0,
          null,
          0,
          null,
          null,
          null,
          null,
          null,
          null,
          null,
          null,
          null,
          null,
          null,
          null,
          null,
          null,
          null,
          null,
          null,
          null,
          null,
          null,
          null,
          null,
          null,
          null,
          null,
          null,
          null,
          null,
          null,
          null
         ],
         "zmax": 9.77956697061665,
         "zmin": null
        }
       ],
       "layout": {
        "autosize": true,
        "geo": {
         "projection": {
          "type": "equirectangular"
         },
         "showcoastlines": true,
         "showframe": false
        },
        "template": {
         "data": {
          "bar": [
           {
            "error_x": {
             "color": "#2a3f5f"
            },
            "error_y": {
             "color": "#2a3f5f"
            },
            "marker": {
             "line": {
              "color": "#E5ECF6",
              "width": 0.5
             }
            },
            "type": "bar"
           }
          ],
          "barpolar": [
           {
            "marker": {
             "line": {
              "color": "#E5ECF6",
              "width": 0.5
             }
            },
            "type": "barpolar"
           }
          ],
          "carpet": [
           {
            "aaxis": {
             "endlinecolor": "#2a3f5f",
             "gridcolor": "white",
             "linecolor": "white",
             "minorgridcolor": "white",
             "startlinecolor": "#2a3f5f"
            },
            "baxis": {
             "endlinecolor": "#2a3f5f",
             "gridcolor": "white",
             "linecolor": "white",
             "minorgridcolor": "white",
             "startlinecolor": "#2a3f5f"
            },
            "type": "carpet"
           }
          ],
          "choropleth": [
           {
            "colorbar": {
             "outlinewidth": 0,
             "ticks": ""
            },
            "type": "choropleth"
           }
          ],
          "contour": [
           {
            "colorbar": {
             "outlinewidth": 0,
             "ticks": ""
            },
            "colorscale": [
             [
              0,
              "#0d0887"
             ],
             [
              0.1111111111111111,
              "#46039f"
             ],
             [
              0.2222222222222222,
              "#7201a8"
             ],
             [
              0.3333333333333333,
              "#9c179e"
             ],
             [
              0.4444444444444444,
              "#bd3786"
             ],
             [
              0.5555555555555556,
              "#d8576b"
             ],
             [
              0.6666666666666666,
              "#ed7953"
             ],
             [
              0.7777777777777778,
              "#fb9f3a"
             ],
             [
              0.8888888888888888,
              "#fdca26"
             ],
             [
              1,
              "#f0f921"
             ]
            ],
            "type": "contour"
           }
          ],
          "contourcarpet": [
           {
            "colorbar": {
             "outlinewidth": 0,
             "ticks": ""
            },
            "type": "contourcarpet"
           }
          ],
          "heatmap": [
           {
            "colorbar": {
             "outlinewidth": 0,
             "ticks": ""
            },
            "colorscale": [
             [
              0,
              "#0d0887"
             ],
             [
              0.1111111111111111,
              "#46039f"
             ],
             [
              0.2222222222222222,
              "#7201a8"
             ],
             [
              0.3333333333333333,
              "#9c179e"
             ],
             [
              0.4444444444444444,
              "#bd3786"
             ],
             [
              0.5555555555555556,
              "#d8576b"
             ],
             [
              0.6666666666666666,
              "#ed7953"
             ],
             [
              0.7777777777777778,
              "#fb9f3a"
             ],
             [
              0.8888888888888888,
              "#fdca26"
             ],
             [
              1,
              "#f0f921"
             ]
            ],
            "type": "heatmap"
           }
          ],
          "heatmapgl": [
           {
            "colorbar": {
             "outlinewidth": 0,
             "ticks": ""
            },
            "colorscale": [
             [
              0,
              "#0d0887"
             ],
             [
              0.1111111111111111,
              "#46039f"
             ],
             [
              0.2222222222222222,
              "#7201a8"
             ],
             [
              0.3333333333333333,
              "#9c179e"
             ],
             [
              0.4444444444444444,
              "#bd3786"
             ],
             [
              0.5555555555555556,
              "#d8576b"
             ],
             [
              0.6666666666666666,
              "#ed7953"
             ],
             [
              0.7777777777777778,
              "#fb9f3a"
             ],
             [
              0.8888888888888888,
              "#fdca26"
             ],
             [
              1,
              "#f0f921"
             ]
            ],
            "type": "heatmapgl"
           }
          ],
          "histogram": [
           {
            "marker": {
             "colorbar": {
              "outlinewidth": 0,
              "ticks": ""
             }
            },
            "type": "histogram"
           }
          ],
          "histogram2d": [
           {
            "colorbar": {
             "outlinewidth": 0,
             "ticks": ""
            },
            "colorscale": [
             [
              0,
              "#0d0887"
             ],
             [
              0.1111111111111111,
              "#46039f"
             ],
             [
              0.2222222222222222,
              "#7201a8"
             ],
             [
              0.3333333333333333,
              "#9c179e"
             ],
             [
              0.4444444444444444,
              "#bd3786"
             ],
             [
              0.5555555555555556,
              "#d8576b"
             ],
             [
              0.6666666666666666,
              "#ed7953"
             ],
             [
              0.7777777777777778,
              "#fb9f3a"
             ],
             [
              0.8888888888888888,
              "#fdca26"
             ],
             [
              1,
              "#f0f921"
             ]
            ],
            "type": "histogram2d"
           }
          ],
          "histogram2dcontour": [
           {
            "colorbar": {
             "outlinewidth": 0,
             "ticks": ""
            },
            "colorscale": [
             [
              0,
              "#0d0887"
             ],
             [
              0.1111111111111111,
              "#46039f"
             ],
             [
              0.2222222222222222,
              "#7201a8"
             ],
             [
              0.3333333333333333,
              "#9c179e"
             ],
             [
              0.4444444444444444,
              "#bd3786"
             ],
             [
              0.5555555555555556,
              "#d8576b"
             ],
             [
              0.6666666666666666,
              "#ed7953"
             ],
             [
              0.7777777777777778,
              "#fb9f3a"
             ],
             [
              0.8888888888888888,
              "#fdca26"
             ],
             [
              1,
              "#f0f921"
             ]
            ],
            "type": "histogram2dcontour"
           }
          ],
          "mesh3d": [
           {
            "colorbar": {
             "outlinewidth": 0,
             "ticks": ""
            },
            "type": "mesh3d"
           }
          ],
          "parcoords": [
           {
            "line": {
             "colorbar": {
              "outlinewidth": 0,
              "ticks": ""
             }
            },
            "type": "parcoords"
           }
          ],
          "pie": [
           {
            "automargin": true,
            "type": "pie"
           }
          ],
          "scatter": [
           {
            "marker": {
             "colorbar": {
              "outlinewidth": 0,
              "ticks": ""
             }
            },
            "type": "scatter"
           }
          ],
          "scatter3d": [
           {
            "line": {
             "colorbar": {
              "outlinewidth": 0,
              "ticks": ""
             }
            },
            "marker": {
             "colorbar": {
              "outlinewidth": 0,
              "ticks": ""
             }
            },
            "type": "scatter3d"
           }
          ],
          "scattercarpet": [
           {
            "marker": {
             "colorbar": {
              "outlinewidth": 0,
              "ticks": ""
             }
            },
            "type": "scattercarpet"
           }
          ],
          "scattergeo": [
           {
            "marker": {
             "colorbar": {
              "outlinewidth": 0,
              "ticks": ""
             }
            },
            "type": "scattergeo"
           }
          ],
          "scattergl": [
           {
            "marker": {
             "colorbar": {
              "outlinewidth": 0,
              "ticks": ""
             }
            },
            "type": "scattergl"
           }
          ],
          "scattermapbox": [
           {
            "marker": {
             "colorbar": {
              "outlinewidth": 0,
              "ticks": ""
             }
            },
            "type": "scattermapbox"
           }
          ],
          "scatterpolar": [
           {
            "marker": {
             "colorbar": {
              "outlinewidth": 0,
              "ticks": ""
             }
            },
            "type": "scatterpolar"
           }
          ],
          "scatterpolargl": [
           {
            "marker": {
             "colorbar": {
              "outlinewidth": 0,
              "ticks": ""
             }
            },
            "type": "scatterpolargl"
           }
          ],
          "scatterternary": [
           {
            "marker": {
             "colorbar": {
              "outlinewidth": 0,
              "ticks": ""
             }
            },
            "type": "scatterternary"
           }
          ],
          "surface": [
           {
            "colorbar": {
             "outlinewidth": 0,
             "ticks": ""
            },
            "colorscale": [
             [
              0,
              "#0d0887"
             ],
             [
              0.1111111111111111,
              "#46039f"
             ],
             [
              0.2222222222222222,
              "#7201a8"
             ],
             [
              0.3333333333333333,
              "#9c179e"
             ],
             [
              0.4444444444444444,
              "#bd3786"
             ],
             [
              0.5555555555555556,
              "#d8576b"
             ],
             [
              0.6666666666666666,
              "#ed7953"
             ],
             [
              0.7777777777777778,
              "#fb9f3a"
             ],
             [
              0.8888888888888888,
              "#fdca26"
             ],
             [
              1,
              "#f0f921"
             ]
            ],
            "type": "surface"
           }
          ],
          "table": [
           {
            "cells": {
             "fill": {
              "color": "#EBF0F8"
             },
             "line": {
              "color": "white"
             }
            },
            "header": {
             "fill": {
              "color": "#C8D4E3"
             },
             "line": {
              "color": "white"
             }
            },
            "type": "table"
           }
          ]
         },
         "layout": {
          "annotationdefaults": {
           "arrowcolor": "#2a3f5f",
           "arrowhead": 0,
           "arrowwidth": 1
          },
          "coloraxis": {
           "colorbar": {
            "outlinewidth": 0,
            "ticks": ""
           }
          },
          "colorscale": {
           "diverging": [
            [
             0,
             "#8e0152"
            ],
            [
             0.1,
             "#c51b7d"
            ],
            [
             0.2,
             "#de77ae"
            ],
            [
             0.3,
             "#f1b6da"
            ],
            [
             0.4,
             "#fde0ef"
            ],
            [
             0.5,
             "#f7f7f7"
            ],
            [
             0.6,
             "#e6f5d0"
            ],
            [
             0.7,
             "#b8e186"
            ],
            [
             0.8,
             "#7fbc41"
            ],
            [
             0.9,
             "#4d9221"
            ],
            [
             1,
             "#276419"
            ]
           ],
           "sequential": [
            [
             0,
             "#0d0887"
            ],
            [
             0.1111111111111111,
             "#46039f"
            ],
            [
             0.2222222222222222,
             "#7201a8"
            ],
            [
             0.3333333333333333,
             "#9c179e"
            ],
            [
             0.4444444444444444,
             "#bd3786"
            ],
            [
             0.5555555555555556,
             "#d8576b"
            ],
            [
             0.6666666666666666,
             "#ed7953"
            ],
            [
             0.7777777777777778,
             "#fb9f3a"
            ],
            [
             0.8888888888888888,
             "#fdca26"
            ],
            [
             1,
             "#f0f921"
            ]
           ],
           "sequentialminus": [
            [
             0,
             "#0d0887"
            ],
            [
             0.1111111111111111,
             "#46039f"
            ],
            [
             0.2222222222222222,
             "#7201a8"
            ],
            [
             0.3333333333333333,
             "#9c179e"
            ],
            [
             0.4444444444444444,
             "#bd3786"
            ],
            [
             0.5555555555555556,
             "#d8576b"
            ],
            [
             0.6666666666666666,
             "#ed7953"
            ],
            [
             0.7777777777777778,
             "#fb9f3a"
            ],
            [
             0.8888888888888888,
             "#fdca26"
            ],
            [
             1,
             "#f0f921"
            ]
           ]
          },
          "colorway": [
           "#636efa",
           "#EF553B",
           "#00cc96",
           "#ab63fa",
           "#FFA15A",
           "#19d3f3",
           "#FF6692",
           "#B6E880",
           "#FF97FF",
           "#FECB52"
          ],
          "font": {
           "color": "#2a3f5f"
          },
          "geo": {
           "bgcolor": "white",
           "lakecolor": "white",
           "landcolor": "#E5ECF6",
           "showlakes": true,
           "showland": true,
           "subunitcolor": "white"
          },
          "hoverlabel": {
           "align": "left"
          },
          "hovermode": "closest",
          "mapbox": {
           "style": "light"
          },
          "paper_bgcolor": "white",
          "plot_bgcolor": "#E5ECF6",
          "polar": {
           "angularaxis": {
            "gridcolor": "white",
            "linecolor": "white",
            "ticks": ""
           },
           "bgcolor": "#E5ECF6",
           "radialaxis": {
            "gridcolor": "white",
            "linecolor": "white",
            "ticks": ""
           }
          },
          "scene": {
           "xaxis": {
            "backgroundcolor": "#E5ECF6",
            "gridcolor": "white",
            "gridwidth": 2,
            "linecolor": "white",
            "showbackground": true,
            "ticks": "",
            "zerolinecolor": "white"
           },
           "yaxis": {
            "backgroundcolor": "#E5ECF6",
            "gridcolor": "white",
            "gridwidth": 2,
            "linecolor": "white",
            "showbackground": true,
            "ticks": "",
            "zerolinecolor": "white"
           },
           "zaxis": {
            "backgroundcolor": "#E5ECF6",
            "gridcolor": "white",
            "gridwidth": 2,
            "linecolor": "white",
            "showbackground": true,
            "ticks": "",
            "zerolinecolor": "white"
           }
          },
          "shapedefaults": {
           "line": {
            "color": "#2a3f5f"
           }
          },
          "ternary": {
           "aaxis": {
            "gridcolor": "white",
            "linecolor": "white",
            "ticks": ""
           },
           "baxis": {
            "gridcolor": "white",
            "linecolor": "white",
            "ticks": ""
           },
           "bgcolor": "#E5ECF6",
           "caxis": {
            "gridcolor": "white",
            "linecolor": "white",
            "ticks": ""
           }
          },
          "title": {
           "x": 0.05
          },
          "xaxis": {
           "automargin": true,
           "gridcolor": "white",
           "linecolor": "white",
           "ticks": "",
           "title": {
            "standoff": 15
           },
           "zerolinecolor": "white",
           "zerolinewidth": 2
          },
          "yaxis": {
           "automargin": true,
           "gridcolor": "white",
           "linecolor": "white",
           "ticks": "",
           "title": {
            "standoff": 15
           },
           "zerolinecolor": "white",
           "zerolinewidth": 2
          }
         }
        },
        "title": {
         "text": "Deaths by COVID-19 as of 04/08/2020",
         "x": 0.5
        }
       }
      },
      "text/html": [
       "<div>\n",
       "        \n",
       "        \n",
       "            <div id=\"9a69ae90-dfa5-4fa5-bf19-3fea4bde1951\" class=\"plotly-graph-div\" style=\"height:525px; width:100%;\"></div>\n",
       "            <script type=\"text/javascript\">\n",
       "                require([\"plotly\"], function(Plotly) {\n",
       "                    window.PLOTLYENV=window.PLOTLYENV || {};\n",
       "                    \n",
       "                if (document.getElementById(\"9a69ae90-dfa5-4fa5-bf19-3fea4bde1951\")) {\n",
       "                    Plotly.newPlot(\n",
       "                        '9a69ae90-dfa5-4fa5-bf19-3fea4bde1951',\n",
       "                        [{\"autocolorscale\": false, \"colorbar\": {\"len\": 280, \"lenmode\": \"pixels\", \"thickness\": 25, \"thicknessmode\": \"pixels\", \"ticks\": \"outside\", \"ticksuffix\": \"k\", \"ticktext\": [\"1k\", \"3k\", \"5k\", \"7k\", \"8k\", \"10k\", \"12k\", \"14k\", \"15k\", \"17k\"], \"tickvals\": [0.977956697061665, 1.95591339412333, 2.9338700911849953, 3.91182678824666, 4.889783485308325, 5.867740182369991, 6.845696879431655, 7.82365357649332, 8.801610273554985, 9.77956697061665], \"y\": 1, \"yanchor\": \"top\"}, \"colorscale\": [[0.0, \"rgb(0,0,0)\"], [0.3333333333333333, \"rgb(230,0,0)\"], [0.6666666666666666, \"rgb(255,210,0)\"], [1.0, \"rgb(255,255,255)\"]], \"locationmode\": \"country names\", \"locations\": [\"US\", \"Spain\", \"Italy\", \"France\", \"Germany\", \"Mainland China\", \"Iran\", \"UK\", \"Turkey\", \"Belgium\", \"Switzerland\", \"Netherlands\", \"Canada\", \"Brazil\", \"Portugal\", \"Austria\", \"South Korea\", \"Israel\", \"Russia\", \"Sweden\", \"Norway\", \"Ireland\", \"Australia\", \"India\", \"Denmark\", \"Chile\", \"Czech Republic\", \"Poland\", \"Romania\", \"Ecuador\", \"Peru\", \"Pakistan\", \"Japan\", \"Malaysia\", \"Philippines\", \"Luxembourg\", \"Indonesia\", \"Saudi Arabia\", \"Mexico\", \"Serbia\", \"United Arab Emirates\", \"Finland\", \"Thailand\", \"Panama\", \"Qatar\", \"Dominican Republic\", \"Colombia\", \"Greece\", \"South Africa\", \"Argentina\", \"Ukraine\", \"Singapore\", \"Iceland\", \"Algeria\", \"Egypt\", \"Croatia\", \"Morocco\", \"New Zealand\", \"Iraq\", \"Estonia\", \"Moldova\", \"Slovenia\", \"Belarus\", \"Hong Kong\", \"Lithuania\", \"Hungary\", \"Armenia\", \"Kuwait\", \"Bahrain\", \"Azerbaijan\", \"Bosnia and Herzegovina\", \"Cameroon\", \"Kazakhstan\", \"Others\", \"Diamond Princess\", \"Slovakia\", \"Tunisia\", \"North Macedonia\", \"Bulgaria\", \"Latvia\", \"Lebanon\", \"Andorra\", \"Uzbekistan\", \"Cyprus\", \"Costa Rica\", \"Cuba\", \"Afghanistan\", \"Uruguay\", \"Oman\", \"Burkina Faso\", \"Albania\", \"Ivory Coast\", \"Taiwan\", \"Jordan\", \"Niger\", \"Ghana\", \"Honduras\", \"Malta\", \"San Marino\", \"Nigeria\", \"Mauritius\", \"Kyrgyzstan\", \"West Bank and Gaza\", \"Vietnam\", \"Montenegro\", \"Senegal\", \"Bangladesh\", \"Georgia\", \"Bolivia\", \"Sri Lanka\", \"Kosovo\", \"Congo (Kinshasa)\", \"Kenya\", \"Venezuela\", \"Guinea\", \"Brunei\", \"Djibouti\", \"Paraguay\", \"Cambodia\", \"Rwanda\", \"Trinidad and Tobago\", \"Madagascar\", \"El Salvador\", \"Guatemala\", \"Monaco\", \"Liechtenstein\", \"Togo\", \"Barbados\", \"Jamaica\", \"Mali\", \"Ethiopia\", \"Guadeloupe\", \"Uganda\", \"Macau\", \"Reunion\", \"Congo (Brazzaville)\", \"Bahamas\", \"Zambia\", \"Guyana\", \"Gabon\", \"Eritrea\", \"Guinea-Bissau\", \"Martinique\", \"Liberia\", \"Haiti\", \"Benin\", \"Tanzania\", \"occupied Palestinian territory\", \"Burma\", \"Palestine\", \"Libya\", \"Republic of Ireland\", \"Syria\", \"Maldives\", \"Angola\", \"Antigua and Barbuda\", \"Equatorial Guinea\", \"French Guiana\", \"Mozambique\", \"Mongolia\", \"Namibia\", \"Dominica\", \"Laos\", \"Fiji\", \"Saint Lucia\", \"Sudan\", \"Eswatini\", \"Somalia\", \"Grenada\", \"Seychelles\", \"Saint Kitts and Nevis\", \"Zimbabwe\", \"Suriname\", \"Chad\", \"Nepal\", \"MS Zaandam\", \"Central African Republic\", \"Holy See\", \"Belize\", \"Saint Vincent and the Grenadines\", \"Malawi\", \"Mayotte\", \"Cabo Verde\", \"Sierra Leone\", \"Botswana\", \"Mauritania\", \"Nicaragua\", \"Bhutan\", \"Gambia\", \"Western Sahara\", \"Aruba\", \"Bahamas, The\", \"Sao Tome and Principe\", \"Guam\", \"Burundi\", \"Puerto Rico\", \"Saint Barthelemy\", \"Jersey\", \"St. Martin\", \"Faroe Islands\", \"Papua New Guinea\", \"('St. Martin',)\", \"South Sudan\", \"Vatican City\", \"Timor-Leste\", \"The Gambia\", \"The Bahamas\", \" Azerbaijan\", \"Gambia, The\", \"Greenland\", \"Gibraltar\", \"Guernsey\", \"Curacao\", \"East Timor\", \"Channel Islands\", \"Cayman Islands\", \"Cape Verde\", \"Republic of the Congo\", \"North Ireland\"], \"marker\": {\"line\": {\"color\": \"black\", \"width\": 0.5}}, \"reversescale\": true, \"type\": \"choropleth\", \"z\": [9.595262578853017, 9.60184177306696, 9.77956697061665, 9.29532469588118, 7.761744984658913, 8.11162807830774, 8.292298107063221, 8.869398159883518, 6.699500340161678, 7.7142311448490855, 6.796823718274855, 7.720905251936779, 6.008813185442595, 6.70808408385307, 5.940171252720432, 5.60947179518496, 5.298317366548036, 4.290459441148391, 4.143134726391533, 6.532334292222349, 4.48863636973214, 5.459585514144159, 3.912023005428146, 5.181783550292085, 5.384495062789089, 3.871201010907891, 4.59511985013459, 5.0689042022202315, 5.393627546352362, 5.488937726156687, 4.795790545596741, 4.110873864173311, 4.532599493153256, 4.174387269895637, 5.204006687076795, 3.828641396489095, 5.480638923341991, 3.713572066704308, 4.948759890378168, 4.174387269895637, 2.4849066497880004, 3.6888794541139363, 3.4011973816621555, 4.07753744390572, 1.791759469228055, 4.68213122712422, 3.9889840465642745, 4.418840607796598, 2.8903717578961645, 4.143134726391533, 3.9512437185814275, 1.791759469228055, 1.791759469228055, 5.3230099791384085, 4.634728988229636, 2.9444389791664403, 4.532599493153256, 0.0, 4.23410650459726, 3.1780538303479458, 3.295836866004329, 3.6888794541139363, 2.5649493574615367, 1.3862943611198906, 2.70805020110221, 4.060443010546419, 2.1972245773362196, 0.0, 1.6094379124341003, 2.0794415416798357, 3.5263605246161616, 2.302585092994046, 1.9459101490553132, 1.9459101490553132, 2.302585092994046, 0.6931471805599453, 3.1780538303479458, 3.367295829986474, 3.1780538303479458, 0.6931471805599453, 2.9444389791664403, 3.1354942159291497, 1.0986122886681098, 2.1972245773362196, 1.0986122886681098, 2.4849066497880004, 2.6390573296152584, 1.9459101490553132, 0.6931471805599453, 3.1354942159291497, 3.091042453358316, 1.0986122886681098, 1.6094379124341003, 1.791759469228055, 2.3978952727983707, 1.791759469228055, 3.091042453358316, 0.0, 3.5263605246161616, 1.791759469228055, 1.9459101490553132, 1.3862943611198906, 0.0, null, 0.6931471805599453, 0.6931471805599453, 2.995732273553991, 1.0986122886681098, 2.70805020110221, 1.9459101490553132, 1.6094379124341003, 2.8903717578961645, 1.791759469228055, 2.1972245773362196, null, 0.0, null, 1.6094379124341003, null, null, 2.0794415416798357, null, 1.6094379124341003, 1.0986122886681098, 0.0, 0.0, 1.0986122886681098, 1.0986122886681098, 1.0986122886681098, 1.9459101490553132, 0.6931471805599453, null, null, null, null, 1.6094379124341003, 1.9459101490553132, 0.0, 1.791759469228055, 0.0, null, null, 0.0, 1.3862943611198906, 0.0, 0.0, 0.0, null, 0.0, null, 0.0, null, 0.6931471805599453, null, 0.6931471805599453, 0.6931471805599453, null, null, null, null, null, null, null, null, null, 0.6931471805599453, null, 0.0, null, null, null, 1.0986122886681098, null, null, null, 0.6931471805599453, null, null, 0.0, null, 0.0, null, 0.0, null, 0.0, 0.0, 0.0, null, 0.0, null, null, null, null, null, null, null, null, null, null, null, null, null, null, null, null, null, null, null, null, null, null, null, null, null, null, null, null, null, null], \"zmax\": 9.77956697061665, \"zmin\": null}],\n",
       "                        {\"autosize\": true, \"geo\": {\"projection\": {\"type\": \"equirectangular\"}, \"showcoastlines\": true, \"showframe\": false}, \"template\": {\"data\": {\"bar\": [{\"error_x\": {\"color\": \"#2a3f5f\"}, \"error_y\": {\"color\": \"#2a3f5f\"}, \"marker\": {\"line\": {\"color\": \"#E5ECF6\", \"width\": 0.5}}, \"type\": \"bar\"}], \"barpolar\": [{\"marker\": {\"line\": {\"color\": \"#E5ECF6\", \"width\": 0.5}}, \"type\": \"barpolar\"}], \"carpet\": [{\"aaxis\": {\"endlinecolor\": \"#2a3f5f\", \"gridcolor\": \"white\", \"linecolor\": \"white\", \"minorgridcolor\": \"white\", \"startlinecolor\": \"#2a3f5f\"}, \"baxis\": {\"endlinecolor\": \"#2a3f5f\", \"gridcolor\": \"white\", \"linecolor\": \"white\", \"minorgridcolor\": \"white\", \"startlinecolor\": \"#2a3f5f\"}, \"type\": \"carpet\"}], \"choropleth\": [{\"colorbar\": {\"outlinewidth\": 0, \"ticks\": \"\"}, \"type\": \"choropleth\"}], \"contour\": [{\"colorbar\": {\"outlinewidth\": 0, \"ticks\": \"\"}, \"colorscale\": [[0.0, \"#0d0887\"], [0.1111111111111111, \"#46039f\"], [0.2222222222222222, \"#7201a8\"], [0.3333333333333333, \"#9c179e\"], [0.4444444444444444, \"#bd3786\"], [0.5555555555555556, \"#d8576b\"], [0.6666666666666666, \"#ed7953\"], [0.7777777777777778, \"#fb9f3a\"], [0.8888888888888888, \"#fdca26\"], [1.0, \"#f0f921\"]], \"type\": \"contour\"}], \"contourcarpet\": [{\"colorbar\": {\"outlinewidth\": 0, \"ticks\": \"\"}, \"type\": \"contourcarpet\"}], \"heatmap\": [{\"colorbar\": {\"outlinewidth\": 0, \"ticks\": \"\"}, \"colorscale\": [[0.0, \"#0d0887\"], [0.1111111111111111, \"#46039f\"], [0.2222222222222222, \"#7201a8\"], [0.3333333333333333, \"#9c179e\"], [0.4444444444444444, \"#bd3786\"], [0.5555555555555556, \"#d8576b\"], [0.6666666666666666, \"#ed7953\"], [0.7777777777777778, \"#fb9f3a\"], [0.8888888888888888, \"#fdca26\"], [1.0, \"#f0f921\"]], \"type\": \"heatmap\"}], \"heatmapgl\": [{\"colorbar\": {\"outlinewidth\": 0, \"ticks\": \"\"}, \"colorscale\": [[0.0, \"#0d0887\"], [0.1111111111111111, \"#46039f\"], [0.2222222222222222, \"#7201a8\"], [0.3333333333333333, \"#9c179e\"], [0.4444444444444444, \"#bd3786\"], [0.5555555555555556, \"#d8576b\"], [0.6666666666666666, \"#ed7953\"], [0.7777777777777778, \"#fb9f3a\"], [0.8888888888888888, \"#fdca26\"], [1.0, \"#f0f921\"]], \"type\": \"heatmapgl\"}], \"histogram\": [{\"marker\": {\"colorbar\": {\"outlinewidth\": 0, \"ticks\": \"\"}}, \"type\": \"histogram\"}], \"histogram2d\": [{\"colorbar\": {\"outlinewidth\": 0, \"ticks\": \"\"}, \"colorscale\": [[0.0, \"#0d0887\"], [0.1111111111111111, \"#46039f\"], [0.2222222222222222, \"#7201a8\"], [0.3333333333333333, \"#9c179e\"], [0.4444444444444444, \"#bd3786\"], [0.5555555555555556, \"#d8576b\"], [0.6666666666666666, \"#ed7953\"], [0.7777777777777778, \"#fb9f3a\"], [0.8888888888888888, \"#fdca26\"], [1.0, \"#f0f921\"]], \"type\": \"histogram2d\"}], \"histogram2dcontour\": [{\"colorbar\": {\"outlinewidth\": 0, \"ticks\": \"\"}, \"colorscale\": [[0.0, \"#0d0887\"], [0.1111111111111111, \"#46039f\"], [0.2222222222222222, \"#7201a8\"], [0.3333333333333333, \"#9c179e\"], [0.4444444444444444, \"#bd3786\"], [0.5555555555555556, \"#d8576b\"], [0.6666666666666666, \"#ed7953\"], [0.7777777777777778, \"#fb9f3a\"], [0.8888888888888888, \"#fdca26\"], [1.0, \"#f0f921\"]], \"type\": \"histogram2dcontour\"}], \"mesh3d\": [{\"colorbar\": {\"outlinewidth\": 0, \"ticks\": \"\"}, \"type\": \"mesh3d\"}], \"parcoords\": [{\"line\": {\"colorbar\": {\"outlinewidth\": 0, \"ticks\": \"\"}}, \"type\": \"parcoords\"}], \"pie\": [{\"automargin\": true, \"type\": \"pie\"}], \"scatter\": [{\"marker\": {\"colorbar\": {\"outlinewidth\": 0, \"ticks\": \"\"}}, \"type\": \"scatter\"}], \"scatter3d\": [{\"line\": {\"colorbar\": {\"outlinewidth\": 0, \"ticks\": \"\"}}, \"marker\": {\"colorbar\": {\"outlinewidth\": 0, \"ticks\": \"\"}}, \"type\": \"scatter3d\"}], \"scattercarpet\": [{\"marker\": {\"colorbar\": {\"outlinewidth\": 0, \"ticks\": \"\"}}, \"type\": \"scattercarpet\"}], \"scattergeo\": [{\"marker\": {\"colorbar\": {\"outlinewidth\": 0, \"ticks\": \"\"}}, \"type\": \"scattergeo\"}], \"scattergl\": [{\"marker\": {\"colorbar\": {\"outlinewidth\": 0, \"ticks\": \"\"}}, \"type\": \"scattergl\"}], \"scattermapbox\": [{\"marker\": {\"colorbar\": {\"outlinewidth\": 0, \"ticks\": \"\"}}, \"type\": \"scattermapbox\"}], \"scatterpolar\": [{\"marker\": {\"colorbar\": {\"outlinewidth\": 0, \"ticks\": \"\"}}, \"type\": \"scatterpolar\"}], \"scatterpolargl\": [{\"marker\": {\"colorbar\": {\"outlinewidth\": 0, \"ticks\": \"\"}}, \"type\": \"scatterpolargl\"}], \"scatterternary\": [{\"marker\": {\"colorbar\": {\"outlinewidth\": 0, \"ticks\": \"\"}}, \"type\": \"scatterternary\"}], \"surface\": [{\"colorbar\": {\"outlinewidth\": 0, \"ticks\": \"\"}, \"colorscale\": [[0.0, \"#0d0887\"], [0.1111111111111111, \"#46039f\"], [0.2222222222222222, \"#7201a8\"], [0.3333333333333333, \"#9c179e\"], [0.4444444444444444, \"#bd3786\"], [0.5555555555555556, \"#d8576b\"], [0.6666666666666666, \"#ed7953\"], [0.7777777777777778, \"#fb9f3a\"], [0.8888888888888888, \"#fdca26\"], [1.0, \"#f0f921\"]], \"type\": \"surface\"}], \"table\": [{\"cells\": {\"fill\": {\"color\": \"#EBF0F8\"}, \"line\": {\"color\": \"white\"}}, \"header\": {\"fill\": {\"color\": \"#C8D4E3\"}, \"line\": {\"color\": \"white\"}}, \"type\": \"table\"}]}, \"layout\": {\"annotationdefaults\": {\"arrowcolor\": \"#2a3f5f\", \"arrowhead\": 0, \"arrowwidth\": 1}, \"coloraxis\": {\"colorbar\": {\"outlinewidth\": 0, \"ticks\": \"\"}}, \"colorscale\": {\"diverging\": [[0, \"#8e0152\"], [0.1, \"#c51b7d\"], [0.2, \"#de77ae\"], [0.3, \"#f1b6da\"], [0.4, \"#fde0ef\"], [0.5, \"#f7f7f7\"], [0.6, \"#e6f5d0\"], [0.7, \"#b8e186\"], [0.8, \"#7fbc41\"], [0.9, \"#4d9221\"], [1, \"#276419\"]], \"sequential\": [[0.0, \"#0d0887\"], [0.1111111111111111, \"#46039f\"], [0.2222222222222222, \"#7201a8\"], [0.3333333333333333, \"#9c179e\"], [0.4444444444444444, \"#bd3786\"], [0.5555555555555556, \"#d8576b\"], [0.6666666666666666, \"#ed7953\"], [0.7777777777777778, \"#fb9f3a\"], [0.8888888888888888, \"#fdca26\"], [1.0, \"#f0f921\"]], \"sequentialminus\": [[0.0, \"#0d0887\"], [0.1111111111111111, \"#46039f\"], [0.2222222222222222, \"#7201a8\"], [0.3333333333333333, \"#9c179e\"], [0.4444444444444444, \"#bd3786\"], [0.5555555555555556, \"#d8576b\"], [0.6666666666666666, \"#ed7953\"], [0.7777777777777778, \"#fb9f3a\"], [0.8888888888888888, \"#fdca26\"], [1.0, \"#f0f921\"]]}, \"colorway\": [\"#636efa\", \"#EF553B\", \"#00cc96\", \"#ab63fa\", \"#FFA15A\", \"#19d3f3\", \"#FF6692\", \"#B6E880\", \"#FF97FF\", \"#FECB52\"], \"font\": {\"color\": \"#2a3f5f\"}, \"geo\": {\"bgcolor\": \"white\", \"lakecolor\": \"white\", \"landcolor\": \"#E5ECF6\", \"showlakes\": true, \"showland\": true, \"subunitcolor\": \"white\"}, \"hoverlabel\": {\"align\": \"left\"}, \"hovermode\": \"closest\", \"mapbox\": {\"style\": \"light\"}, \"paper_bgcolor\": \"white\", \"plot_bgcolor\": \"#E5ECF6\", \"polar\": {\"angularaxis\": {\"gridcolor\": \"white\", \"linecolor\": \"white\", \"ticks\": \"\"}, \"bgcolor\": \"#E5ECF6\", \"radialaxis\": {\"gridcolor\": \"white\", \"linecolor\": \"white\", \"ticks\": \"\"}}, \"scene\": {\"xaxis\": {\"backgroundcolor\": \"#E5ECF6\", \"gridcolor\": \"white\", \"gridwidth\": 2, \"linecolor\": \"white\", \"showbackground\": true, \"ticks\": \"\", \"zerolinecolor\": \"white\"}, \"yaxis\": {\"backgroundcolor\": \"#E5ECF6\", \"gridcolor\": \"white\", \"gridwidth\": 2, \"linecolor\": \"white\", \"showbackground\": true, \"ticks\": \"\", \"zerolinecolor\": \"white\"}, \"zaxis\": {\"backgroundcolor\": \"#E5ECF6\", \"gridcolor\": \"white\", \"gridwidth\": 2, \"linecolor\": \"white\", \"showbackground\": true, \"ticks\": \"\", \"zerolinecolor\": \"white\"}}, \"shapedefaults\": {\"line\": {\"color\": \"#2a3f5f\"}}, \"ternary\": {\"aaxis\": {\"gridcolor\": \"white\", \"linecolor\": \"white\", \"ticks\": \"\"}, \"baxis\": {\"gridcolor\": \"white\", \"linecolor\": \"white\", \"ticks\": \"\"}, \"bgcolor\": \"#E5ECF6\", \"caxis\": {\"gridcolor\": \"white\", \"linecolor\": \"white\", \"ticks\": \"\"}}, \"title\": {\"x\": 0.05}, \"xaxis\": {\"automargin\": true, \"gridcolor\": \"white\", \"linecolor\": \"white\", \"ticks\": \"\", \"title\": {\"standoff\": 15}, \"zerolinecolor\": \"white\", \"zerolinewidth\": 2}, \"yaxis\": {\"automargin\": true, \"gridcolor\": \"white\", \"linecolor\": \"white\", \"ticks\": \"\", \"title\": {\"standoff\": 15}, \"zerolinecolor\": \"white\", \"zerolinewidth\": 2}}}, \"title\": {\"text\": \"Deaths by COVID-19 as of 04/08/2020\", \"x\": 0.5}},\n",
       "                        {\"responsive\": true}\n",
       "                    ).then(function(){\n",
       "                            \n",
       "var gd = document.getElementById('9a69ae90-dfa5-4fa5-bf19-3fea4bde1951');\n",
       "var x = new MutationObserver(function (mutations, observer) {{\n",
       "        var display = window.getComputedStyle(gd).display;\n",
       "        if (!display || display === 'none') {{\n",
       "            console.log([gd, 'removed!']);\n",
       "            Plotly.purge(gd);\n",
       "            observer.disconnect();\n",
       "        }}\n",
       "}});\n",
       "\n",
       "// Listen for the removal of the full notebook cells\n",
       "var notebookContainer = gd.closest('#notebook-container');\n",
       "if (notebookContainer) {{\n",
       "    x.observe(notebookContainer, {childList: true});\n",
       "}}\n",
       "\n",
       "// Listen for the clearing of the current output cell\n",
       "var outputEl = gd.closest('.output');\n",
       "if (outputEl) {{\n",
       "    x.observe(outputEl, {childList: true});\n",
       "}}\n",
       "\n",
       "                        })\n",
       "                };\n",
       "                });\n",
       "            </script>\n",
       "        </div>"
      ]
     },
     "metadata": {},
     "output_type": "display_data"
    }
   ],
   "source": [
    "# Create the Choropleth\n",
    "fig = go.Figure(data=go.Choropleth(\n",
    "    locations = df_countries['Country'],\n",
    "    locationmode = 'country names',\n",
    "    z = df_countries['LogDeaths'],\n",
    "    autocolorscale = False,\n",
    "    reversescale=True,\n",
    "    colorscale='hot',\n",
    "    #colorscale=[\"blue\", \"green\",\"yellow\", \"red\"],\n",
    "    zmin=df_countries['LogDeaths'].min(),\n",
    "    zmax=df_countries['LogDeaths'].max(),\n",
    "    marker_line_color = 'black',\n",
    "    marker_line_width = 0.5,\n",
    "    colorbar=dict(\n",
    "    #title=\"Number of Cases:\",\n",
    "    tickvals=scl_ticks2,\n",
    "    ticktext=scl_ticktext2,\n",
    "    thicknessmode=\"pixels\", thickness=25,\n",
    "    lenmode=\"pixels\", len=280,\n",
    "    yanchor=\"top\", y=1,\n",
    "    ticks=\"outside\", ticksuffix=\"k\",\n",
    "    #dtick=5\n",
    ")\n",
    "))\n",
    "fig.update_layout(\n",
    "    title_text = 'Deaths by COVID-19 as of '+str(last_update),\n",
    "    title_x = 0.5,\n",
    "    autosize=True,\n",
    "    geo=dict(\n",
    "        showframe = False,\n",
    "        showcoastlines = True,\n",
    "        projection_type = 'equirectangular'\n",
    "    )\n",
    ")"
   ]
  },
  {
   "cell_type": "markdown",
   "metadata": {},
   "source": [
    "## Recoveries"
   ]
  },
  {
   "cell_type": "code",
   "execution_count": 202,
   "metadata": {},
   "outputs": [
    {
     "data": {
      "text/html": [
       "<div>\n",
       "<style scoped>\n",
       "    .dataframe tbody tr th:only-of-type {\n",
       "        vertical-align: middle;\n",
       "    }\n",
       "\n",
       "    .dataframe tbody tr th {\n",
       "        vertical-align: top;\n",
       "    }\n",
       "\n",
       "    .dataframe thead th {\n",
       "        text-align: right;\n",
       "    }\n",
       "</style>\n",
       "<table border=\"1\" class=\"dataframe\">\n",
       "  <thead>\n",
       "    <tr style=\"text-align: right;\">\n",
       "      <th></th>\n",
       "      <th>Country</th>\n",
       "      <th>Date</th>\n",
       "      <th>SNo</th>\n",
       "      <th>Confirmed</th>\n",
       "      <th>Deaths</th>\n",
       "      <th>Recovered</th>\n",
       "      <th>LogCases</th>\n",
       "      <th>LogDeaths</th>\n",
       "      <th>LogRec</th>\n",
       "    </tr>\n",
       "  </thead>\n",
       "  <tbody>\n",
       "    <tr>\n",
       "      <th>6635</th>\n",
       "      <td>US</td>\n",
       "      <td>04/08/2020</td>\n",
       "      <td>762268</td>\n",
       "      <td>429052.0</td>\n",
       "      <td>14695.0</td>\n",
       "      <td>23559.0</td>\n",
       "      <td>12.969333</td>\n",
       "      <td>9.595263</td>\n",
       "      <td>10.067263</td>\n",
       "    </tr>\n",
       "    <tr>\n",
       "      <th>5896</th>\n",
       "      <td>Spain</td>\n",
       "      <td>04/08/2020</td>\n",
       "      <td>13043</td>\n",
       "      <td>148220.0</td>\n",
       "      <td>14792.0</td>\n",
       "      <td>48021.0</td>\n",
       "      <td>11.906453</td>\n",
       "      <td>9.601842</td>\n",
       "      <td>10.779394</td>\n",
       "    </tr>\n",
       "    <tr>\n",
       "      <th>3096</th>\n",
       "      <td>Italy</td>\n",
       "      <td>04/08/2020</td>\n",
       "      <td>12970</td>\n",
       "      <td>139422.0</td>\n",
       "      <td>17669.0</td>\n",
       "      <td>26491.0</td>\n",
       "      <td>11.845261</td>\n",
       "      <td>9.779567</td>\n",
       "      <td>10.184560</td>\n",
       "    </tr>\n",
       "    <tr>\n",
       "      <th>2105</th>\n",
       "      <td>France</td>\n",
       "      <td>04/08/2020</td>\n",
       "      <td>144394</td>\n",
       "      <td>113959.0</td>\n",
       "      <td>10887.0</td>\n",
       "      <td>21452.0</td>\n",
       "      <td>11.643594</td>\n",
       "      <td>9.295325</td>\n",
       "      <td>9.973573</td>\n",
       "    </tr>\n",
       "    <tr>\n",
       "      <th>2282</th>\n",
       "      <td>Germany</td>\n",
       "      <td>04/08/2020</td>\n",
       "      <td>12951</td>\n",
       "      <td>113296.0</td>\n",
       "      <td>2349.0</td>\n",
       "      <td>46300.0</td>\n",
       "      <td>11.637759</td>\n",
       "      <td>7.761745</td>\n",
       "      <td>10.742897</td>\n",
       "    </tr>\n",
       "  </tbody>\n",
       "</table>\n",
       "</div>"
      ],
      "text/plain": [
       "      Country        Date     SNo  Confirmed   Deaths  Recovered   LogCases  \\\n",
       "6635       US  04/08/2020  762268   429052.0  14695.0    23559.0  12.969333   \n",
       "5896    Spain  04/08/2020   13043   148220.0  14792.0    48021.0  11.906453   \n",
       "3096    Italy  04/08/2020   12970   139422.0  17669.0    26491.0  11.845261   \n",
       "2105   France  04/08/2020  144394   113959.0  10887.0    21452.0  11.643594   \n",
       "2282  Germany  04/08/2020   12951   113296.0   2349.0    46300.0  11.637759   \n",
       "\n",
       "      LogDeaths     LogRec  \n",
       "6635   9.595263  10.067263  \n",
       "5896   9.601842  10.779394  \n",
       "3096   9.779567  10.184560  \n",
       "2105   9.295325   9.973573  \n",
       "2282   7.761745  10.742897  "
      ]
     },
     "execution_count": 202,
     "metadata": {},
     "output_type": "execute_result"
    }
   ],
   "source": [
    "df_countries['LogRec']=np.log(df_countries['Recovered'])\n",
    "df_countries.head()"
   ]
  },
  {
   "cell_type": "code",
   "execution_count": 204,
   "metadata": {},
   "outputs": [
    {
     "name": "stdout",
     "output_type": "stream",
     "text": [
      "Max recovered: 77293.0\n",
      "Max Log Recovered: 11.25535867420079\n",
      "[1.125535867420079, 2.251071734840158, 3.376607602260237, 4.502143469680316, 5.627679337100395, 6.753215204520474, 7.878751071940553, 9.004286939360632, 10.12982280678071, 11.25535867420079]\n",
      "['7k', '15k', '23k', '30k', '38k', '46k', '54k', '61k', '69k', '77k']\n"
     ]
    }
   ],
   "source": [
    "#Adjust bar color scale:\n",
    "rec_max=df_countries[\"Recovered\"].max()\n",
    "print(\"Max recovered: \"+str(rec_max))\n",
    "rec_maxlog=df_countries[\"LogRec\"].max()\n",
    "print(\"Max Log Recovered: \"+str(rec_maxlog))\n",
    "\n",
    "#values for tick property\n",
    "scl_ticks3=[]\n",
    "interval=rec_max/10\n",
    "for i in range(0,10):\n",
    "    scl_ticks3.append((rec_maxlog*(interval*(i+1))/rec_max))\n",
    "print(scl_ticks3)\n",
    "\n",
    "#values for tick text property:\n",
    "scl_ticktext3=[]\n",
    "for i in range(0,10):\n",
    "    scl_ticktext3.append(str(int(interval*(i+1)/1000))+\"k\")\n",
    "print(scl_ticktext3)"
   ]
  },
  {
   "cell_type": "code",
   "execution_count": 209,
   "metadata": {},
   "outputs": [
    {
     "data": {
      "application/vnd.plotly.v1+json": {
       "config": {
        "plotlyServerURL": "https://plot.ly"
       },
       "data": [
        {
         "autocolorscale": false,
         "colorbar": {
          "len": 280,
          "lenmode": "pixels",
          "thickness": 25,
          "thicknessmode": "pixels",
          "ticks": "outside",
          "ticksuffix": "k",
          "ticktext": [
           "7k",
           "15k",
           "23k",
           "30k",
           "38k",
           "46k",
           "54k",
           "61k",
           "69k",
           "77k"
          ],
          "tickvals": [
           1.125535867420079,
           2.251071734840158,
           3.376607602260237,
           4.502143469680316,
           5.627679337100395,
           6.753215204520474,
           7.878751071940553,
           9.004286939360632,
           10.12982280678071,
           11.25535867420079
          ],
          "y": 1,
          "yanchor": "top"
         },
         "colorscale": [
          [
           0,
           "rgb(228, 241, 225)"
          ],
          [
           0.16666666666666666,
           "rgb(180, 217, 204)"
          ],
          [
           0.3333333333333333,
           "rgb(137, 192, 182)"
          ],
          [
           0.5,
           "rgb(99, 166, 160)"
          ],
          [
           0.6666666666666666,
           "rgb(68, 140, 138)"
          ],
          [
           0.8333333333333334,
           "rgb(40, 114, 116)"
          ],
          [
           1,
           "rgb(13, 88, 95)"
          ]
         ],
         "locationmode": "country names",
         "locations": [
          "US",
          "Spain",
          "Italy",
          "France",
          "Germany",
          "Mainland China",
          "Iran",
          "UK",
          "Turkey",
          "Belgium",
          "Switzerland",
          "Netherlands",
          "Canada",
          "Brazil",
          "Portugal",
          "Austria",
          "South Korea",
          "Israel",
          "Russia",
          "Sweden",
          "Norway",
          "Ireland",
          "Australia",
          "India",
          "Denmark",
          "Chile",
          "Czech Republic",
          "Poland",
          "Romania",
          "Ecuador",
          "Peru",
          "Pakistan",
          "Japan",
          "Malaysia",
          "Philippines",
          "Luxembourg",
          "Indonesia",
          "Saudi Arabia",
          "Mexico",
          "Serbia",
          "United Arab Emirates",
          "Finland",
          "Thailand",
          "Panama",
          "Qatar",
          "Dominican Republic",
          "Colombia",
          "Greece",
          "South Africa",
          "Argentina",
          "Ukraine",
          "Singapore",
          "Iceland",
          "Algeria",
          "Egypt",
          "Croatia",
          "Morocco",
          "New Zealand",
          "Iraq",
          "Estonia",
          "Moldova",
          "Slovenia",
          "Belarus",
          "Hong Kong",
          "Lithuania",
          "Hungary",
          "Armenia",
          "Kuwait",
          "Bahrain",
          "Azerbaijan",
          "Bosnia and Herzegovina",
          "Cameroon",
          "Kazakhstan",
          "Others",
          "Diamond Princess",
          "Slovakia",
          "Tunisia",
          "North Macedonia",
          "Bulgaria",
          "Latvia",
          "Lebanon",
          "Andorra",
          "Uzbekistan",
          "Cyprus",
          "Costa Rica",
          "Cuba",
          "Afghanistan",
          "Uruguay",
          "Oman",
          "Burkina Faso",
          "Albania",
          "Ivory Coast",
          "Taiwan",
          "Jordan",
          "Niger",
          "Ghana",
          "Honduras",
          "Malta",
          "San Marino",
          "Nigeria",
          "Mauritius",
          "Kyrgyzstan",
          "West Bank and Gaza",
          "Vietnam",
          "Montenegro",
          "Senegal",
          "Bangladesh",
          "Georgia",
          "Bolivia",
          "Sri Lanka",
          "Kosovo",
          "Congo (Kinshasa)",
          "Kenya",
          "Venezuela",
          "Guinea",
          "Brunei",
          "Djibouti",
          "Paraguay",
          "Cambodia",
          "Rwanda",
          "Trinidad and Tobago",
          "Madagascar",
          "El Salvador",
          "Guatemala",
          "Monaco",
          "Liechtenstein",
          "Togo",
          "Barbados",
          "Jamaica",
          "Mali",
          "Ethiopia",
          "Guadeloupe",
          "Uganda",
          "Macau",
          "Reunion",
          "Congo (Brazzaville)",
          "Bahamas",
          "Zambia",
          "Guyana",
          "Gabon",
          "Eritrea",
          "Guinea-Bissau",
          "Martinique",
          "Liberia",
          "Haiti",
          "Benin",
          "Tanzania",
          "occupied Palestinian territory",
          "Burma",
          "Palestine",
          "Libya",
          "Republic of Ireland",
          "Syria",
          "Maldives",
          "Angola",
          "Antigua and Barbuda",
          "Equatorial Guinea",
          "French Guiana",
          "Mozambique",
          "Mongolia",
          "Namibia",
          "Dominica",
          "Laos",
          "Fiji",
          "Saint Lucia",
          "Sudan",
          "Eswatini",
          "Somalia",
          "Grenada",
          "Seychelles",
          "Saint Kitts and Nevis",
          "Zimbabwe",
          "Suriname",
          "Chad",
          "Nepal",
          "MS Zaandam",
          "Central African Republic",
          "Holy See",
          "Belize",
          "Saint Vincent and the Grenadines",
          "Malawi",
          "Mayotte",
          "Cabo Verde",
          "Sierra Leone",
          "Botswana",
          "Mauritania",
          "Nicaragua",
          "Bhutan",
          "Gambia",
          "Western Sahara",
          "Aruba",
          "Bahamas, The",
          "Sao Tome and Principe",
          "Guam",
          "Burundi",
          "Puerto Rico",
          "Saint Barthelemy",
          "Jersey",
          "St. Martin",
          "Faroe Islands",
          "Papua New Guinea",
          "('St. Martin',)",
          "South Sudan",
          "Vatican City",
          "Timor-Leste",
          "The Gambia",
          "The Bahamas",
          " Azerbaijan",
          "Gambia, The",
          "Greenland",
          "Gibraltar",
          "Guernsey",
          "Curacao",
          "East Timor",
          "Channel Islands",
          "Cayman Islands",
          "Cape Verde",
          "Republic of the Congo",
          "North Ireland"
         ],
         "marker": {
          "line": {
           "color": "white",
           "width": 0.5
          }
         },
         "reversescale": true,
         "type": "choropleth",
         "z": [
          10.067263192042985,
          10.779393694214807,
          10.184560331647974,
          9.973573160102816,
          10.742897240074326,
          11.25535867420079,
          10.302666276001585,
          5.84354441703136,
          7.520776415062797,
          8.45126704130007,
          9.190137664658664,
          5.605802066295998,
          8.331827004436057,
          4.844187086458591,
          5.278114659230517,
          8.414495793177895,
          8.821142236331891,
          6.68586094706836,
          6.363028103540465,
          5.3230099791384085,
          3.4657359027997265,
          3.2188758248682006,
          6.984716320118266,
          6.226536669287466,
          7.47477218239787,
          7.016609683894219,
          5.4510384535657,
          5.402677381872279,
          6.269096283706261,
          4.941642422609304,
          7.195187320178709,
          6.1463292576688975,
          6.432940092739179,
          7.304515946460155,
          4.564348191467836,
          6.214608098422191,
          5.402677381872279,
          6.447305862541213,
          6.450470422144176,
          null,
          5.476463551931511,
          5.703782474656201,
          6.78897174299217,
          2.772588722239781,
          5.181783550292085,
          3.912023005428146,
          4.812184355372417,
          5.594711379601839,
          4.553876891600541,
          5.8805329864007,
          3.5553480614894135,
          6.0063531596017325,
          6.450470422144176,
          5.4680601411351315,
          5.720311776607412,
          5.187385805840755,
          4.574710978503383,
          5.641907070938114,
          6.113682179832232,
          4.276666119016055,
          3.6888794541139363,
          4.787491742782046,
          4.343805421853684,
          5.575949103146316,
          2.0794415416798357,
          4.543294782270004,
          4.736198448394496,
          4.709530201312334,
          6.1675164908883415,
          4.143134726391533,
          4.3694478524670215,
          4.0943445622221,
          3.9889840465642745,
          5.783825182329737,
          6.401917196727186,
          2.772588722239781,
          3.2188758248682006,
          3.5553480614894135,
          3.7376696182833684,
          2.772588722239781,
          4.127134385045092,
          3.9512437185814275,
          3.4011973816621555,
          3.9512437185814275,
          3.367295829986474,
          3.295836866004329,
          3.367295829986474,
          5.0106352940962555,
          4.276666119016055,
          4.897839799950911,
          5.0369526024136295,
          3.871201010907891,
          4.110873864173311,
          5.0106352940962555,
          3.332204510175204,
          3.5263605246161616,
          1.791759469228055,
          2.772588722239781,
          3.6888794541139363,
          3.784189633918261,
          2.9444389791664403,
          3.4965075614664802,
          3.784189633918261,
          4.836281906951478,
          1.3862943611198906,
          4.727387818712341,
          3.4965075614664802,
          3.912023005428146,
          0.6931471805599453,
          3.784189633918261,
          3.4011973816621555,
          2.1972245773362196,
          2.1972245773362196,
          4.174387269895637,
          1.6094379124341003,
          4.189654742026425,
          3.2188758248682006,
          2.70805020110221,
          4.143134726391533,
          1.9459101490553132,
          0,
          2.3978952727983707,
          2.1972245773362196,
          2.833213344056216,
          1.3862943611198906,
          4.007333185232471,
          3.1354942159291497,
          1.791759469228055,
          2.0794415416798357,
          2.772588722239781,
          1.3862943611198906,
          null,
          null,
          2.302585092994046,
          null,
          0.6931471805599453,
          1.6094379124341003,
          0.6931471805599453,
          2.0794415416798357,
          0,
          null,
          null,
          null,
          1.0986122886681098,
          null,
          1.6094379124341003,
          1.6094379124341003,
          null,
          null,
          null,
          2.0794415416798357,
          null,
          1.3862943611198906,
          2.5649493574615367,
          0.6931471805599453,
          null,
          1.0986122886681098,
          1.791759469228055,
          0,
          1.3862943611198906,
          1.0986122886681098,
          0,
          null,
          null,
          0,
          0.6931471805599453,
          1.9459101490553132,
          0,
          null,
          null,
          null,
          null,
          null,
          0.6931471805599453,
          0,
          null,
          null,
          0.6931471805599453,
          null,
          0,
          null,
          null,
          0,
          null,
          null,
          0.6931471805599453,
          null,
          0,
          0.6931471805599453,
          null,
          null,
          null,
          null,
          null,
          null,
          null,
          null,
          null,
          null,
          null,
          null,
          null,
          null,
          null,
          null,
          null,
          null,
          null,
          null,
          null,
          0,
          null,
          null,
          null,
          null,
          null,
          null,
          null,
          null
         ],
         "zmax": 11.25535867420079,
         "zmin": null
        }
       ],
       "layout": {
        "autosize": true,
        "geo": {
         "projection": {
          "type": "equirectangular"
         },
         "showcoastlines": false,
         "showframe": false
        },
        "template": {
         "data": {
          "bar": [
           {
            "error_x": {
             "color": "#2a3f5f"
            },
            "error_y": {
             "color": "#2a3f5f"
            },
            "marker": {
             "line": {
              "color": "#E5ECF6",
              "width": 0.5
             }
            },
            "type": "bar"
           }
          ],
          "barpolar": [
           {
            "marker": {
             "line": {
              "color": "#E5ECF6",
              "width": 0.5
             }
            },
            "type": "barpolar"
           }
          ],
          "carpet": [
           {
            "aaxis": {
             "endlinecolor": "#2a3f5f",
             "gridcolor": "white",
             "linecolor": "white",
             "minorgridcolor": "white",
             "startlinecolor": "#2a3f5f"
            },
            "baxis": {
             "endlinecolor": "#2a3f5f",
             "gridcolor": "white",
             "linecolor": "white",
             "minorgridcolor": "white",
             "startlinecolor": "#2a3f5f"
            },
            "type": "carpet"
           }
          ],
          "choropleth": [
           {
            "colorbar": {
             "outlinewidth": 0,
             "ticks": ""
            },
            "type": "choropleth"
           }
          ],
          "contour": [
           {
            "colorbar": {
             "outlinewidth": 0,
             "ticks": ""
            },
            "colorscale": [
             [
              0,
              "#0d0887"
             ],
             [
              0.1111111111111111,
              "#46039f"
             ],
             [
              0.2222222222222222,
              "#7201a8"
             ],
             [
              0.3333333333333333,
              "#9c179e"
             ],
             [
              0.4444444444444444,
              "#bd3786"
             ],
             [
              0.5555555555555556,
              "#d8576b"
             ],
             [
              0.6666666666666666,
              "#ed7953"
             ],
             [
              0.7777777777777778,
              "#fb9f3a"
             ],
             [
              0.8888888888888888,
              "#fdca26"
             ],
             [
              1,
              "#f0f921"
             ]
            ],
            "type": "contour"
           }
          ],
          "contourcarpet": [
           {
            "colorbar": {
             "outlinewidth": 0,
             "ticks": ""
            },
            "type": "contourcarpet"
           }
          ],
          "heatmap": [
           {
            "colorbar": {
             "outlinewidth": 0,
             "ticks": ""
            },
            "colorscale": [
             [
              0,
              "#0d0887"
             ],
             [
              0.1111111111111111,
              "#46039f"
             ],
             [
              0.2222222222222222,
              "#7201a8"
             ],
             [
              0.3333333333333333,
              "#9c179e"
             ],
             [
              0.4444444444444444,
              "#bd3786"
             ],
             [
              0.5555555555555556,
              "#d8576b"
             ],
             [
              0.6666666666666666,
              "#ed7953"
             ],
             [
              0.7777777777777778,
              "#fb9f3a"
             ],
             [
              0.8888888888888888,
              "#fdca26"
             ],
             [
              1,
              "#f0f921"
             ]
            ],
            "type": "heatmap"
           }
          ],
          "heatmapgl": [
           {
            "colorbar": {
             "outlinewidth": 0,
             "ticks": ""
            },
            "colorscale": [
             [
              0,
              "#0d0887"
             ],
             [
              0.1111111111111111,
              "#46039f"
             ],
             [
              0.2222222222222222,
              "#7201a8"
             ],
             [
              0.3333333333333333,
              "#9c179e"
             ],
             [
              0.4444444444444444,
              "#bd3786"
             ],
             [
              0.5555555555555556,
              "#d8576b"
             ],
             [
              0.6666666666666666,
              "#ed7953"
             ],
             [
              0.7777777777777778,
              "#fb9f3a"
             ],
             [
              0.8888888888888888,
              "#fdca26"
             ],
             [
              1,
              "#f0f921"
             ]
            ],
            "type": "heatmapgl"
           }
          ],
          "histogram": [
           {
            "marker": {
             "colorbar": {
              "outlinewidth": 0,
              "ticks": ""
             }
            },
            "type": "histogram"
           }
          ],
          "histogram2d": [
           {
            "colorbar": {
             "outlinewidth": 0,
             "ticks": ""
            },
            "colorscale": [
             [
              0,
              "#0d0887"
             ],
             [
              0.1111111111111111,
              "#46039f"
             ],
             [
              0.2222222222222222,
              "#7201a8"
             ],
             [
              0.3333333333333333,
              "#9c179e"
             ],
             [
              0.4444444444444444,
              "#bd3786"
             ],
             [
              0.5555555555555556,
              "#d8576b"
             ],
             [
              0.6666666666666666,
              "#ed7953"
             ],
             [
              0.7777777777777778,
              "#fb9f3a"
             ],
             [
              0.8888888888888888,
              "#fdca26"
             ],
             [
              1,
              "#f0f921"
             ]
            ],
            "type": "histogram2d"
           }
          ],
          "histogram2dcontour": [
           {
            "colorbar": {
             "outlinewidth": 0,
             "ticks": ""
            },
            "colorscale": [
             [
              0,
              "#0d0887"
             ],
             [
              0.1111111111111111,
              "#46039f"
             ],
             [
              0.2222222222222222,
              "#7201a8"
             ],
             [
              0.3333333333333333,
              "#9c179e"
             ],
             [
              0.4444444444444444,
              "#bd3786"
             ],
             [
              0.5555555555555556,
              "#d8576b"
             ],
             [
              0.6666666666666666,
              "#ed7953"
             ],
             [
              0.7777777777777778,
              "#fb9f3a"
             ],
             [
              0.8888888888888888,
              "#fdca26"
             ],
             [
              1,
              "#f0f921"
             ]
            ],
            "type": "histogram2dcontour"
           }
          ],
          "mesh3d": [
           {
            "colorbar": {
             "outlinewidth": 0,
             "ticks": ""
            },
            "type": "mesh3d"
           }
          ],
          "parcoords": [
           {
            "line": {
             "colorbar": {
              "outlinewidth": 0,
              "ticks": ""
             }
            },
            "type": "parcoords"
           }
          ],
          "pie": [
           {
            "automargin": true,
            "type": "pie"
           }
          ],
          "scatter": [
           {
            "marker": {
             "colorbar": {
              "outlinewidth": 0,
              "ticks": ""
             }
            },
            "type": "scatter"
           }
          ],
          "scatter3d": [
           {
            "line": {
             "colorbar": {
              "outlinewidth": 0,
              "ticks": ""
             }
            },
            "marker": {
             "colorbar": {
              "outlinewidth": 0,
              "ticks": ""
             }
            },
            "type": "scatter3d"
           }
          ],
          "scattercarpet": [
           {
            "marker": {
             "colorbar": {
              "outlinewidth": 0,
              "ticks": ""
             }
            },
            "type": "scattercarpet"
           }
          ],
          "scattergeo": [
           {
            "marker": {
             "colorbar": {
              "outlinewidth": 0,
              "ticks": ""
             }
            },
            "type": "scattergeo"
           }
          ],
          "scattergl": [
           {
            "marker": {
             "colorbar": {
              "outlinewidth": 0,
              "ticks": ""
             }
            },
            "type": "scattergl"
           }
          ],
          "scattermapbox": [
           {
            "marker": {
             "colorbar": {
              "outlinewidth": 0,
              "ticks": ""
             }
            },
            "type": "scattermapbox"
           }
          ],
          "scatterpolar": [
           {
            "marker": {
             "colorbar": {
              "outlinewidth": 0,
              "ticks": ""
             }
            },
            "type": "scatterpolar"
           }
          ],
          "scatterpolargl": [
           {
            "marker": {
             "colorbar": {
              "outlinewidth": 0,
              "ticks": ""
             }
            },
            "type": "scatterpolargl"
           }
          ],
          "scatterternary": [
           {
            "marker": {
             "colorbar": {
              "outlinewidth": 0,
              "ticks": ""
             }
            },
            "type": "scatterternary"
           }
          ],
          "surface": [
           {
            "colorbar": {
             "outlinewidth": 0,
             "ticks": ""
            },
            "colorscale": [
             [
              0,
              "#0d0887"
             ],
             [
              0.1111111111111111,
              "#46039f"
             ],
             [
              0.2222222222222222,
              "#7201a8"
             ],
             [
              0.3333333333333333,
              "#9c179e"
             ],
             [
              0.4444444444444444,
              "#bd3786"
             ],
             [
              0.5555555555555556,
              "#d8576b"
             ],
             [
              0.6666666666666666,
              "#ed7953"
             ],
             [
              0.7777777777777778,
              "#fb9f3a"
             ],
             [
              0.8888888888888888,
              "#fdca26"
             ],
             [
              1,
              "#f0f921"
             ]
            ],
            "type": "surface"
           }
          ],
          "table": [
           {
            "cells": {
             "fill": {
              "color": "#EBF0F8"
             },
             "line": {
              "color": "white"
             }
            },
            "header": {
             "fill": {
              "color": "#C8D4E3"
             },
             "line": {
              "color": "white"
             }
            },
            "type": "table"
           }
          ]
         },
         "layout": {
          "annotationdefaults": {
           "arrowcolor": "#2a3f5f",
           "arrowhead": 0,
           "arrowwidth": 1
          },
          "coloraxis": {
           "colorbar": {
            "outlinewidth": 0,
            "ticks": ""
           }
          },
          "colorscale": {
           "diverging": [
            [
             0,
             "#8e0152"
            ],
            [
             0.1,
             "#c51b7d"
            ],
            [
             0.2,
             "#de77ae"
            ],
            [
             0.3,
             "#f1b6da"
            ],
            [
             0.4,
             "#fde0ef"
            ],
            [
             0.5,
             "#f7f7f7"
            ],
            [
             0.6,
             "#e6f5d0"
            ],
            [
             0.7,
             "#b8e186"
            ],
            [
             0.8,
             "#7fbc41"
            ],
            [
             0.9,
             "#4d9221"
            ],
            [
             1,
             "#276419"
            ]
           ],
           "sequential": [
            [
             0,
             "#0d0887"
            ],
            [
             0.1111111111111111,
             "#46039f"
            ],
            [
             0.2222222222222222,
             "#7201a8"
            ],
            [
             0.3333333333333333,
             "#9c179e"
            ],
            [
             0.4444444444444444,
             "#bd3786"
            ],
            [
             0.5555555555555556,
             "#d8576b"
            ],
            [
             0.6666666666666666,
             "#ed7953"
            ],
            [
             0.7777777777777778,
             "#fb9f3a"
            ],
            [
             0.8888888888888888,
             "#fdca26"
            ],
            [
             1,
             "#f0f921"
            ]
           ],
           "sequentialminus": [
            [
             0,
             "#0d0887"
            ],
            [
             0.1111111111111111,
             "#46039f"
            ],
            [
             0.2222222222222222,
             "#7201a8"
            ],
            [
             0.3333333333333333,
             "#9c179e"
            ],
            [
             0.4444444444444444,
             "#bd3786"
            ],
            [
             0.5555555555555556,
             "#d8576b"
            ],
            [
             0.6666666666666666,
             "#ed7953"
            ],
            [
             0.7777777777777778,
             "#fb9f3a"
            ],
            [
             0.8888888888888888,
             "#fdca26"
            ],
            [
             1,
             "#f0f921"
            ]
           ]
          },
          "colorway": [
           "#636efa",
           "#EF553B",
           "#00cc96",
           "#ab63fa",
           "#FFA15A",
           "#19d3f3",
           "#FF6692",
           "#B6E880",
           "#FF97FF",
           "#FECB52"
          ],
          "font": {
           "color": "#2a3f5f"
          },
          "geo": {
           "bgcolor": "white",
           "lakecolor": "white",
           "landcolor": "#E5ECF6",
           "showlakes": true,
           "showland": true,
           "subunitcolor": "white"
          },
          "hoverlabel": {
           "align": "left"
          },
          "hovermode": "closest",
          "mapbox": {
           "style": "light"
          },
          "paper_bgcolor": "white",
          "plot_bgcolor": "#E5ECF6",
          "polar": {
           "angularaxis": {
            "gridcolor": "white",
            "linecolor": "white",
            "ticks": ""
           },
           "bgcolor": "#E5ECF6",
           "radialaxis": {
            "gridcolor": "white",
            "linecolor": "white",
            "ticks": ""
           }
          },
          "scene": {
           "xaxis": {
            "backgroundcolor": "#E5ECF6",
            "gridcolor": "white",
            "gridwidth": 2,
            "linecolor": "white",
            "showbackground": true,
            "ticks": "",
            "zerolinecolor": "white"
           },
           "yaxis": {
            "backgroundcolor": "#E5ECF6",
            "gridcolor": "white",
            "gridwidth": 2,
            "linecolor": "white",
            "showbackground": true,
            "ticks": "",
            "zerolinecolor": "white"
           },
           "zaxis": {
            "backgroundcolor": "#E5ECF6",
            "gridcolor": "white",
            "gridwidth": 2,
            "linecolor": "white",
            "showbackground": true,
            "ticks": "",
            "zerolinecolor": "white"
           }
          },
          "shapedefaults": {
           "line": {
            "color": "#2a3f5f"
           }
          },
          "ternary": {
           "aaxis": {
            "gridcolor": "white",
            "linecolor": "white",
            "ticks": ""
           },
           "baxis": {
            "gridcolor": "white",
            "linecolor": "white",
            "ticks": ""
           },
           "bgcolor": "#E5ECF6",
           "caxis": {
            "gridcolor": "white",
            "linecolor": "white",
            "ticks": ""
           }
          },
          "title": {
           "x": 0.05
          },
          "xaxis": {
           "automargin": true,
           "gridcolor": "white",
           "linecolor": "white",
           "ticks": "",
           "title": {
            "standoff": 15
           },
           "zerolinecolor": "white",
           "zerolinewidth": 2
          },
          "yaxis": {
           "automargin": true,
           "gridcolor": "white",
           "linecolor": "white",
           "ticks": "",
           "title": {
            "standoff": 15
           },
           "zerolinecolor": "white",
           "zerolinewidth": 2
          }
         }
        },
        "title": {
         "text": "Number of people recovered from COVID-19 as of 04/08/2020",
         "x": 0.5
        }
       }
      },
      "text/html": [
       "<div>\n",
       "        \n",
       "        \n",
       "            <div id=\"22223686-0edc-44fa-a0ec-77709b391f14\" class=\"plotly-graph-div\" style=\"height:525px; width:100%;\"></div>\n",
       "            <script type=\"text/javascript\">\n",
       "                require([\"plotly\"], function(Plotly) {\n",
       "                    window.PLOTLYENV=window.PLOTLYENV || {};\n",
       "                    \n",
       "                if (document.getElementById(\"22223686-0edc-44fa-a0ec-77709b391f14\")) {\n",
       "                    Plotly.newPlot(\n",
       "                        '22223686-0edc-44fa-a0ec-77709b391f14',\n",
       "                        [{\"autocolorscale\": false, \"colorbar\": {\"len\": 280, \"lenmode\": \"pixels\", \"thickness\": 25, \"thicknessmode\": \"pixels\", \"ticks\": \"outside\", \"ticksuffix\": \"k\", \"ticktext\": [\"7k\", \"15k\", \"23k\", \"30k\", \"38k\", \"46k\", \"54k\", \"61k\", \"69k\", \"77k\"], \"tickvals\": [1.125535867420079, 2.251071734840158, 3.376607602260237, 4.502143469680316, 5.627679337100395, 6.753215204520474, 7.878751071940553, 9.004286939360632, 10.12982280678071, 11.25535867420079], \"y\": 1, \"yanchor\": \"top\"}, \"colorscale\": [[0.0, \"rgb(228, 241, 225)\"], [0.16666666666666666, \"rgb(180, 217, 204)\"], [0.3333333333333333, \"rgb(137, 192, 182)\"], [0.5, \"rgb(99, 166, 160)\"], [0.6666666666666666, \"rgb(68, 140, 138)\"], [0.8333333333333334, \"rgb(40, 114, 116)\"], [1.0, \"rgb(13, 88, 95)\"]], \"locationmode\": \"country names\", \"locations\": [\"US\", \"Spain\", \"Italy\", \"France\", \"Germany\", \"Mainland China\", \"Iran\", \"UK\", \"Turkey\", \"Belgium\", \"Switzerland\", \"Netherlands\", \"Canada\", \"Brazil\", \"Portugal\", \"Austria\", \"South Korea\", \"Israel\", \"Russia\", \"Sweden\", \"Norway\", \"Ireland\", \"Australia\", \"India\", \"Denmark\", \"Chile\", \"Czech Republic\", \"Poland\", \"Romania\", \"Ecuador\", \"Peru\", \"Pakistan\", \"Japan\", \"Malaysia\", \"Philippines\", \"Luxembourg\", \"Indonesia\", \"Saudi Arabia\", \"Mexico\", \"Serbia\", \"United Arab Emirates\", \"Finland\", \"Thailand\", \"Panama\", \"Qatar\", \"Dominican Republic\", \"Colombia\", \"Greece\", \"South Africa\", \"Argentina\", \"Ukraine\", \"Singapore\", \"Iceland\", \"Algeria\", \"Egypt\", \"Croatia\", \"Morocco\", \"New Zealand\", \"Iraq\", \"Estonia\", \"Moldova\", \"Slovenia\", \"Belarus\", \"Hong Kong\", \"Lithuania\", \"Hungary\", \"Armenia\", \"Kuwait\", \"Bahrain\", \"Azerbaijan\", \"Bosnia and Herzegovina\", \"Cameroon\", \"Kazakhstan\", \"Others\", \"Diamond Princess\", \"Slovakia\", \"Tunisia\", \"North Macedonia\", \"Bulgaria\", \"Latvia\", \"Lebanon\", \"Andorra\", \"Uzbekistan\", \"Cyprus\", \"Costa Rica\", \"Cuba\", \"Afghanistan\", \"Uruguay\", \"Oman\", \"Burkina Faso\", \"Albania\", \"Ivory Coast\", \"Taiwan\", \"Jordan\", \"Niger\", \"Ghana\", \"Honduras\", \"Malta\", \"San Marino\", \"Nigeria\", \"Mauritius\", \"Kyrgyzstan\", \"West Bank and Gaza\", \"Vietnam\", \"Montenegro\", \"Senegal\", \"Bangladesh\", \"Georgia\", \"Bolivia\", \"Sri Lanka\", \"Kosovo\", \"Congo (Kinshasa)\", \"Kenya\", \"Venezuela\", \"Guinea\", \"Brunei\", \"Djibouti\", \"Paraguay\", \"Cambodia\", \"Rwanda\", \"Trinidad and Tobago\", \"Madagascar\", \"El Salvador\", \"Guatemala\", \"Monaco\", \"Liechtenstein\", \"Togo\", \"Barbados\", \"Jamaica\", \"Mali\", \"Ethiopia\", \"Guadeloupe\", \"Uganda\", \"Macau\", \"Reunion\", \"Congo (Brazzaville)\", \"Bahamas\", \"Zambia\", \"Guyana\", \"Gabon\", \"Eritrea\", \"Guinea-Bissau\", \"Martinique\", \"Liberia\", \"Haiti\", \"Benin\", \"Tanzania\", \"occupied Palestinian territory\", \"Burma\", \"Palestine\", \"Libya\", \"Republic of Ireland\", \"Syria\", \"Maldives\", \"Angola\", \"Antigua and Barbuda\", \"Equatorial Guinea\", \"French Guiana\", \"Mozambique\", \"Mongolia\", \"Namibia\", \"Dominica\", \"Laos\", \"Fiji\", \"Saint Lucia\", \"Sudan\", \"Eswatini\", \"Somalia\", \"Grenada\", \"Seychelles\", \"Saint Kitts and Nevis\", \"Zimbabwe\", \"Suriname\", \"Chad\", \"Nepal\", \"MS Zaandam\", \"Central African Republic\", \"Holy See\", \"Belize\", \"Saint Vincent and the Grenadines\", \"Malawi\", \"Mayotte\", \"Cabo Verde\", \"Sierra Leone\", \"Botswana\", \"Mauritania\", \"Nicaragua\", \"Bhutan\", \"Gambia\", \"Western Sahara\", \"Aruba\", \"Bahamas, The\", \"Sao Tome and Principe\", \"Guam\", \"Burundi\", \"Puerto Rico\", \"Saint Barthelemy\", \"Jersey\", \"St. Martin\", \"Faroe Islands\", \"Papua New Guinea\", \"('St. Martin',)\", \"South Sudan\", \"Vatican City\", \"Timor-Leste\", \"The Gambia\", \"The Bahamas\", \" Azerbaijan\", \"Gambia, The\", \"Greenland\", \"Gibraltar\", \"Guernsey\", \"Curacao\", \"East Timor\", \"Channel Islands\", \"Cayman Islands\", \"Cape Verde\", \"Republic of the Congo\", \"North Ireland\"], \"marker\": {\"line\": {\"color\": \"white\", \"width\": 0.5}}, \"reversescale\": true, \"type\": \"choropleth\", \"z\": [10.067263192042985, 10.779393694214807, 10.184560331647974, 9.973573160102816, 10.742897240074326, 11.25535867420079, 10.302666276001585, 5.84354441703136, 7.520776415062797, 8.45126704130007, 9.190137664658664, 5.605802066295998, 8.331827004436057, 4.844187086458591, 5.278114659230517, 8.414495793177895, 8.821142236331891, 6.68586094706836, 6.363028103540465, 5.3230099791384085, 3.4657359027997265, 3.2188758248682006, 6.984716320118266, 6.226536669287466, 7.47477218239787, 7.016609683894219, 5.4510384535657, 5.402677381872279, 6.269096283706261, 4.941642422609304, 7.195187320178709, 6.1463292576688975, 6.432940092739179, 7.304515946460155, 4.564348191467836, 6.214608098422191, 5.402677381872279, 6.447305862541213, 6.450470422144176, null, 5.476463551931511, 5.703782474656201, 6.78897174299217, 2.772588722239781, 5.181783550292085, 3.912023005428146, 4.812184355372417, 5.594711379601839, 4.553876891600541, 5.8805329864007, 3.5553480614894135, 6.0063531596017325, 6.450470422144176, 5.4680601411351315, 5.720311776607412, 5.187385805840755, 4.574710978503383, 5.641907070938114, 6.113682179832232, 4.276666119016055, 3.6888794541139363, 4.787491742782046, 4.343805421853684, 5.575949103146316, 2.0794415416798357, 4.543294782270004, 4.736198448394496, 4.709530201312334, 6.1675164908883415, 4.143134726391533, 4.3694478524670215, 4.0943445622221, 3.9889840465642745, 5.783825182329737, 6.401917196727186, 2.772588722239781, 3.2188758248682006, 3.5553480614894135, 3.7376696182833684, 2.772588722239781, 4.127134385045092, 3.9512437185814275, 3.4011973816621555, 3.9512437185814275, 3.367295829986474, 3.295836866004329, 3.367295829986474, 5.0106352940962555, 4.276666119016055, 4.897839799950911, 5.0369526024136295, 3.871201010907891, 4.110873864173311, 5.0106352940962555, 3.332204510175204, 3.5263605246161616, 1.791759469228055, 2.772588722239781, 3.6888794541139363, 3.784189633918261, 2.9444389791664403, 3.4965075614664802, 3.784189633918261, 4.836281906951478, 1.3862943611198906, 4.727387818712341, 3.4965075614664802, 3.912023005428146, 0.6931471805599453, 3.784189633918261, 3.4011973816621555, 2.1972245773362196, 2.1972245773362196, 4.174387269895637, 1.6094379124341003, 4.189654742026425, 3.2188758248682006, 2.70805020110221, 4.143134726391533, 1.9459101490553132, 0.0, 2.3978952727983707, 2.1972245773362196, 2.833213344056216, 1.3862943611198906, 4.007333185232471, 3.1354942159291497, 1.791759469228055, 2.0794415416798357, 2.772588722239781, 1.3862943611198906, null, null, 2.302585092994046, null, 0.6931471805599453, 1.6094379124341003, 0.6931471805599453, 2.0794415416798357, 0.0, null, null, null, 1.0986122886681098, null, 1.6094379124341003, 1.6094379124341003, null, null, null, 2.0794415416798357, null, 1.3862943611198906, 2.5649493574615367, 0.6931471805599453, null, 1.0986122886681098, 1.791759469228055, 0.0, 1.3862943611198906, 1.0986122886681098, 0.0, null, null, 0.0, 0.6931471805599453, 1.9459101490553132, 0.0, null, null, null, null, null, 0.6931471805599453, 0.0, null, null, 0.6931471805599453, null, 0.0, null, null, 0.0, null, null, 0.6931471805599453, null, 0.0, 0.6931471805599453, null, null, null, null, null, null, null, null, null, null, null, null, null, null, null, null, null, null, null, null, null, 0.0, null, null, null, null, null, null, null, null], \"zmax\": 11.25535867420079, \"zmin\": null}],\n",
       "                        {\"autosize\": true, \"geo\": {\"projection\": {\"type\": \"equirectangular\"}, \"showcoastlines\": false, \"showframe\": false}, \"template\": {\"data\": {\"bar\": [{\"error_x\": {\"color\": \"#2a3f5f\"}, \"error_y\": {\"color\": \"#2a3f5f\"}, \"marker\": {\"line\": {\"color\": \"#E5ECF6\", \"width\": 0.5}}, \"type\": \"bar\"}], \"barpolar\": [{\"marker\": {\"line\": {\"color\": \"#E5ECF6\", \"width\": 0.5}}, \"type\": \"barpolar\"}], \"carpet\": [{\"aaxis\": {\"endlinecolor\": \"#2a3f5f\", \"gridcolor\": \"white\", \"linecolor\": \"white\", \"minorgridcolor\": \"white\", \"startlinecolor\": \"#2a3f5f\"}, \"baxis\": {\"endlinecolor\": \"#2a3f5f\", \"gridcolor\": \"white\", \"linecolor\": \"white\", \"minorgridcolor\": \"white\", \"startlinecolor\": \"#2a3f5f\"}, \"type\": \"carpet\"}], \"choropleth\": [{\"colorbar\": {\"outlinewidth\": 0, \"ticks\": \"\"}, \"type\": \"choropleth\"}], \"contour\": [{\"colorbar\": {\"outlinewidth\": 0, \"ticks\": \"\"}, \"colorscale\": [[0.0, \"#0d0887\"], [0.1111111111111111, \"#46039f\"], [0.2222222222222222, \"#7201a8\"], [0.3333333333333333, \"#9c179e\"], [0.4444444444444444, \"#bd3786\"], [0.5555555555555556, \"#d8576b\"], [0.6666666666666666, \"#ed7953\"], [0.7777777777777778, \"#fb9f3a\"], [0.8888888888888888, \"#fdca26\"], [1.0, \"#f0f921\"]], \"type\": \"contour\"}], \"contourcarpet\": [{\"colorbar\": {\"outlinewidth\": 0, \"ticks\": \"\"}, \"type\": \"contourcarpet\"}], \"heatmap\": [{\"colorbar\": {\"outlinewidth\": 0, \"ticks\": \"\"}, \"colorscale\": [[0.0, \"#0d0887\"], [0.1111111111111111, \"#46039f\"], [0.2222222222222222, \"#7201a8\"], [0.3333333333333333, \"#9c179e\"], [0.4444444444444444, \"#bd3786\"], [0.5555555555555556, \"#d8576b\"], [0.6666666666666666, \"#ed7953\"], [0.7777777777777778, \"#fb9f3a\"], [0.8888888888888888, \"#fdca26\"], [1.0, \"#f0f921\"]], \"type\": \"heatmap\"}], \"heatmapgl\": [{\"colorbar\": {\"outlinewidth\": 0, \"ticks\": \"\"}, \"colorscale\": [[0.0, \"#0d0887\"], [0.1111111111111111, \"#46039f\"], [0.2222222222222222, \"#7201a8\"], [0.3333333333333333, \"#9c179e\"], [0.4444444444444444, \"#bd3786\"], [0.5555555555555556, \"#d8576b\"], [0.6666666666666666, \"#ed7953\"], [0.7777777777777778, \"#fb9f3a\"], [0.8888888888888888, \"#fdca26\"], [1.0, \"#f0f921\"]], \"type\": \"heatmapgl\"}], \"histogram\": [{\"marker\": {\"colorbar\": {\"outlinewidth\": 0, \"ticks\": \"\"}}, \"type\": \"histogram\"}], \"histogram2d\": [{\"colorbar\": {\"outlinewidth\": 0, \"ticks\": \"\"}, \"colorscale\": [[0.0, \"#0d0887\"], [0.1111111111111111, \"#46039f\"], [0.2222222222222222, \"#7201a8\"], [0.3333333333333333, \"#9c179e\"], [0.4444444444444444, \"#bd3786\"], [0.5555555555555556, \"#d8576b\"], [0.6666666666666666, \"#ed7953\"], [0.7777777777777778, \"#fb9f3a\"], [0.8888888888888888, \"#fdca26\"], [1.0, \"#f0f921\"]], \"type\": \"histogram2d\"}], \"histogram2dcontour\": [{\"colorbar\": {\"outlinewidth\": 0, \"ticks\": \"\"}, \"colorscale\": [[0.0, \"#0d0887\"], [0.1111111111111111, \"#46039f\"], [0.2222222222222222, \"#7201a8\"], [0.3333333333333333, \"#9c179e\"], [0.4444444444444444, \"#bd3786\"], [0.5555555555555556, \"#d8576b\"], [0.6666666666666666, \"#ed7953\"], [0.7777777777777778, \"#fb9f3a\"], [0.8888888888888888, \"#fdca26\"], [1.0, \"#f0f921\"]], \"type\": \"histogram2dcontour\"}], \"mesh3d\": [{\"colorbar\": {\"outlinewidth\": 0, \"ticks\": \"\"}, \"type\": \"mesh3d\"}], \"parcoords\": [{\"line\": {\"colorbar\": {\"outlinewidth\": 0, \"ticks\": \"\"}}, \"type\": \"parcoords\"}], \"pie\": [{\"automargin\": true, \"type\": \"pie\"}], \"scatter\": [{\"marker\": {\"colorbar\": {\"outlinewidth\": 0, \"ticks\": \"\"}}, \"type\": \"scatter\"}], \"scatter3d\": [{\"line\": {\"colorbar\": {\"outlinewidth\": 0, \"ticks\": \"\"}}, \"marker\": {\"colorbar\": {\"outlinewidth\": 0, \"ticks\": \"\"}}, \"type\": \"scatter3d\"}], \"scattercarpet\": [{\"marker\": {\"colorbar\": {\"outlinewidth\": 0, \"ticks\": \"\"}}, \"type\": \"scattercarpet\"}], \"scattergeo\": [{\"marker\": {\"colorbar\": {\"outlinewidth\": 0, \"ticks\": \"\"}}, \"type\": \"scattergeo\"}], \"scattergl\": [{\"marker\": {\"colorbar\": {\"outlinewidth\": 0, \"ticks\": \"\"}}, \"type\": \"scattergl\"}], \"scattermapbox\": [{\"marker\": {\"colorbar\": {\"outlinewidth\": 0, \"ticks\": \"\"}}, \"type\": \"scattermapbox\"}], \"scatterpolar\": [{\"marker\": {\"colorbar\": {\"outlinewidth\": 0, \"ticks\": \"\"}}, \"type\": \"scatterpolar\"}], \"scatterpolargl\": [{\"marker\": {\"colorbar\": {\"outlinewidth\": 0, \"ticks\": \"\"}}, \"type\": \"scatterpolargl\"}], \"scatterternary\": [{\"marker\": {\"colorbar\": {\"outlinewidth\": 0, \"ticks\": \"\"}}, \"type\": \"scatterternary\"}], \"surface\": [{\"colorbar\": {\"outlinewidth\": 0, \"ticks\": \"\"}, \"colorscale\": [[0.0, \"#0d0887\"], [0.1111111111111111, \"#46039f\"], [0.2222222222222222, \"#7201a8\"], [0.3333333333333333, \"#9c179e\"], [0.4444444444444444, \"#bd3786\"], [0.5555555555555556, \"#d8576b\"], [0.6666666666666666, \"#ed7953\"], [0.7777777777777778, \"#fb9f3a\"], [0.8888888888888888, \"#fdca26\"], [1.0, \"#f0f921\"]], \"type\": \"surface\"}], \"table\": [{\"cells\": {\"fill\": {\"color\": \"#EBF0F8\"}, \"line\": {\"color\": \"white\"}}, \"header\": {\"fill\": {\"color\": \"#C8D4E3\"}, \"line\": {\"color\": \"white\"}}, \"type\": \"table\"}]}, \"layout\": {\"annotationdefaults\": {\"arrowcolor\": \"#2a3f5f\", \"arrowhead\": 0, \"arrowwidth\": 1}, \"coloraxis\": {\"colorbar\": {\"outlinewidth\": 0, \"ticks\": \"\"}}, \"colorscale\": {\"diverging\": [[0, \"#8e0152\"], [0.1, \"#c51b7d\"], [0.2, \"#de77ae\"], [0.3, \"#f1b6da\"], [0.4, \"#fde0ef\"], [0.5, \"#f7f7f7\"], [0.6, \"#e6f5d0\"], [0.7, \"#b8e186\"], [0.8, \"#7fbc41\"], [0.9, \"#4d9221\"], [1, \"#276419\"]], \"sequential\": [[0.0, \"#0d0887\"], [0.1111111111111111, \"#46039f\"], [0.2222222222222222, \"#7201a8\"], [0.3333333333333333, \"#9c179e\"], [0.4444444444444444, \"#bd3786\"], [0.5555555555555556, \"#d8576b\"], [0.6666666666666666, \"#ed7953\"], [0.7777777777777778, \"#fb9f3a\"], [0.8888888888888888, \"#fdca26\"], [1.0, \"#f0f921\"]], \"sequentialminus\": [[0.0, \"#0d0887\"], [0.1111111111111111, \"#46039f\"], [0.2222222222222222, \"#7201a8\"], [0.3333333333333333, \"#9c179e\"], [0.4444444444444444, \"#bd3786\"], [0.5555555555555556, \"#d8576b\"], [0.6666666666666666, \"#ed7953\"], [0.7777777777777778, \"#fb9f3a\"], [0.8888888888888888, \"#fdca26\"], [1.0, \"#f0f921\"]]}, \"colorway\": [\"#636efa\", \"#EF553B\", \"#00cc96\", \"#ab63fa\", \"#FFA15A\", \"#19d3f3\", \"#FF6692\", \"#B6E880\", \"#FF97FF\", \"#FECB52\"], \"font\": {\"color\": \"#2a3f5f\"}, \"geo\": {\"bgcolor\": \"white\", \"lakecolor\": \"white\", \"landcolor\": \"#E5ECF6\", \"showlakes\": true, \"showland\": true, \"subunitcolor\": \"white\"}, \"hoverlabel\": {\"align\": \"left\"}, \"hovermode\": \"closest\", \"mapbox\": {\"style\": \"light\"}, \"paper_bgcolor\": \"white\", \"plot_bgcolor\": \"#E5ECF6\", \"polar\": {\"angularaxis\": {\"gridcolor\": \"white\", \"linecolor\": \"white\", \"ticks\": \"\"}, \"bgcolor\": \"#E5ECF6\", \"radialaxis\": {\"gridcolor\": \"white\", \"linecolor\": \"white\", \"ticks\": \"\"}}, \"scene\": {\"xaxis\": {\"backgroundcolor\": \"#E5ECF6\", \"gridcolor\": \"white\", \"gridwidth\": 2, \"linecolor\": \"white\", \"showbackground\": true, \"ticks\": \"\", \"zerolinecolor\": \"white\"}, \"yaxis\": {\"backgroundcolor\": \"#E5ECF6\", \"gridcolor\": \"white\", \"gridwidth\": 2, \"linecolor\": \"white\", \"showbackground\": true, \"ticks\": \"\", \"zerolinecolor\": \"white\"}, \"zaxis\": {\"backgroundcolor\": \"#E5ECF6\", \"gridcolor\": \"white\", \"gridwidth\": 2, \"linecolor\": \"white\", \"showbackground\": true, \"ticks\": \"\", \"zerolinecolor\": \"white\"}}, \"shapedefaults\": {\"line\": {\"color\": \"#2a3f5f\"}}, \"ternary\": {\"aaxis\": {\"gridcolor\": \"white\", \"linecolor\": \"white\", \"ticks\": \"\"}, \"baxis\": {\"gridcolor\": \"white\", \"linecolor\": \"white\", \"ticks\": \"\"}, \"bgcolor\": \"#E5ECF6\", \"caxis\": {\"gridcolor\": \"white\", \"linecolor\": \"white\", \"ticks\": \"\"}}, \"title\": {\"x\": 0.05}, \"xaxis\": {\"automargin\": true, \"gridcolor\": \"white\", \"linecolor\": \"white\", \"ticks\": \"\", \"title\": {\"standoff\": 15}, \"zerolinecolor\": \"white\", \"zerolinewidth\": 2}, \"yaxis\": {\"automargin\": true, \"gridcolor\": \"white\", \"linecolor\": \"white\", \"ticks\": \"\", \"title\": {\"standoff\": 15}, \"zerolinecolor\": \"white\", \"zerolinewidth\": 2}}}, \"title\": {\"text\": \"Number of people recovered from COVID-19 as of 04/08/2020\", \"x\": 0.5}},\n",
       "                        {\"responsive\": true}\n",
       "                    ).then(function(){\n",
       "                            \n",
       "var gd = document.getElementById('22223686-0edc-44fa-a0ec-77709b391f14');\n",
       "var x = new MutationObserver(function (mutations, observer) {{\n",
       "        var display = window.getComputedStyle(gd).display;\n",
       "        if (!display || display === 'none') {{\n",
       "            console.log([gd, 'removed!']);\n",
       "            Plotly.purge(gd);\n",
       "            observer.disconnect();\n",
       "        }}\n",
       "}});\n",
       "\n",
       "// Listen for the removal of the full notebook cells\n",
       "var notebookContainer = gd.closest('#notebook-container');\n",
       "if (notebookContainer) {{\n",
       "    x.observe(notebookContainer, {childList: true});\n",
       "}}\n",
       "\n",
       "// Listen for the clearing of the current output cell\n",
       "var outputEl = gd.closest('.output');\n",
       "if (outputEl) {{\n",
       "    x.observe(outputEl, {childList: true});\n",
       "}}\n",
       "\n",
       "                        })\n",
       "                };\n",
       "                });\n",
       "            </script>\n",
       "        </div>"
      ]
     },
     "metadata": {},
     "output_type": "display_data"
    }
   ],
   "source": [
    "# Create the Choropleth\n",
    "fig = go.Figure(data=go.Choropleth(\n",
    "    locations = df_countries['Country'],\n",
    "    locationmode = 'country names',\n",
    "    z = df_countries['LogRec'],\n",
    "    autocolorscale = False,\n",
    "    reversescale=True,\n",
    "    colorscale='mint',\n",
    "    #colorscale=[\"blue\", \"green\",\"yellow\", \"red\"],\n",
    "    zmin=df_countries['LogRec'].min(),\n",
    "    zmax=df_countries['LogRec'].max(),\n",
    "    marker_line_color = 'white',\n",
    "    marker_line_width = 0.5,\n",
    "    colorbar=dict(\n",
    "    #title=\"Number of Cases:\",\n",
    "    tickvals=scl_ticks3,\n",
    "    ticktext=scl_ticktext3,\n",
    "    thicknessmode=\"pixels\", thickness=25,\n",
    "    lenmode=\"pixels\", len=280,\n",
    "    yanchor=\"top\", y=1,\n",
    "    ticks=\"outside\", ticksuffix=\"k\",\n",
    "    #dtick=5\n",
    ")\n",
    "))\n",
    "fig.update_layout(\n",
    "    title_text = 'Number of people recovered from COVID-19 as of '+str(last_update),\n",
    "    title_x = 0.5,\n",
    "    autosize=True,\n",
    "    geo=dict(\n",
    "        showframe = False,\n",
    "        showcoastlines = False,\n",
    "        projection_type = 'equirectangular'\n",
    "    )\n",
    ")"
   ]
  },
  {
   "cell_type": "code",
   "execution_count": null,
   "metadata": {},
   "outputs": [],
   "source": []
  },
  {
   "cell_type": "code",
   "execution_count": null,
   "metadata": {},
   "outputs": [],
   "source": []
  },
  {
   "cell_type": "code",
   "execution_count": null,
   "metadata": {},
   "outputs": [],
   "source": []
  },
  {
   "cell_type": "markdown",
   "metadata": {},
   "source": [
    "#### Colorscale values:"
   ]
  },
  {
   "cell_type": "code",
   "execution_count": 137,
   "metadata": {},
   "outputs": [
    {
     "data": {
      "text/plain": [
       "\"One of the following named colorscales:\\n           ['aggrnyl', 'agsunset', 'algae', 'amp', 'armyrose', 'balance',\\n            'blackbody', 'bluered', 'blues', 'blugrn', 'bluyl', 'brbg',\\n            'brwnyl', 'bugn', 'bupu', 'burg', 'burgyl', 'cividis', 'curl',\\n            'darkmint', 'deep', 'delta', 'dense', 'earth', 'edge', 'electric',\\n            'emrld', 'fall', 'geyser', 'gnbu', 'gray', 'greens', 'greys',\\n            'haline', 'hot', 'hsv', 'ice', 'icefire', 'inferno', 'jet',\\n            'magenta', 'magma', 'matter', 'mint', 'mrybm', 'mygbm', 'oranges',\\n            'orrd', 'oryel', 'peach', 'phase', 'picnic', 'pinkyl', 'piyg',\\n            'plasma', 'plotly3', 'portland', 'prgn', 'pubu', 'pubugn', 'puor',\\n            'purd', 'purp', 'purples', 'purpor', 'rainbow', 'rdbu', 'rdgy',\\n            'rdpu', 'rdylbu', 'rdylgn', 'redor', 'reds', 'solar', 'spectral',\\n            'speed', 'sunset', 'sunsetdark', 'teal', 'tealgrn', 'tealrose',\\n            'tempo', 'temps', 'thermal', 'tropic', 'turbid', 'twilight',\\n            'viridis', 'ylgn', 'ylgnbu', 'ylorbr', 'ylorrd'].\""
      ]
     },
     "execution_count": 137,
     "metadata": {},
     "output_type": "execute_result"
    }
   ],
   "source": [
    " '''One of the following named colorscales:\n",
    "            ['aggrnyl', 'agsunset', 'algae', 'amp', 'armyrose', 'balance',\n",
    "             'blackbody', 'bluered', 'blues', 'blugrn', 'bluyl', 'brbg',\n",
    "             'brwnyl', 'bugn', 'bupu', 'burg', 'burgyl', 'cividis', 'curl',\n",
    "             'darkmint', 'deep', 'delta', 'dense', 'earth', 'edge', 'electric',\n",
    "             'emrld', 'fall', 'geyser', 'gnbu', 'gray', 'greens', 'greys',\n",
    "             'haline', 'hot', 'hsv', 'ice', 'icefire', 'inferno', 'jet',\n",
    "             'magenta', 'magma', 'matter', 'mint', 'mrybm', 'mygbm', 'oranges',\n",
    "             'orrd', 'oryel', 'peach', 'phase', 'picnic', 'pinkyl', 'piyg',\n",
    "             'plasma', 'plotly3', 'portland', 'prgn', 'pubu', 'pubugn', 'puor',\n",
    "             'purd', 'purp', 'purples', 'purpor', 'rainbow', 'rdbu', 'rdgy',\n",
    "             'rdpu', 'rdylbu', 'rdylgn', 'redor', 'reds', 'solar', 'spectral',\n",
    "             'speed', 'sunset', 'sunsetdark', 'teal', 'tealgrn', 'tealrose',\n",
    "             'tempo', 'temps', 'thermal', 'tropic', 'turbid', 'twilight',\n",
    "             'viridis', 'ylgn', 'ylgnbu', 'ylorbr', 'ylorrd'].'''"
   ]
  },
  {
   "cell_type": "code",
   "execution_count": null,
   "metadata": {},
   "outputs": [],
   "source": []
  },
  {
   "cell_type": "code",
   "execution_count": null,
   "metadata": {},
   "outputs": [],
   "source": []
  },
  {
   "cell_type": "code",
   "execution_count": null,
   "metadata": {},
   "outputs": [],
   "source": []
  }
 ],
 "metadata": {
  "kernelspec": {
   "display_name": "Python [conda env:tareaMin] *",
   "language": "python",
   "name": "conda-env-tareaMin-py"
  },
  "language_info": {
   "codemirror_mode": {
    "name": "ipython",
    "version": 3
   },
   "file_extension": ".py",
   "mimetype": "text/x-python",
   "name": "python",
   "nbconvert_exporter": "python",
   "pygments_lexer": "ipython3",
   "version": "3.6.9"
  }
 },
 "nbformat": 4,
 "nbformat_minor": 4
}
