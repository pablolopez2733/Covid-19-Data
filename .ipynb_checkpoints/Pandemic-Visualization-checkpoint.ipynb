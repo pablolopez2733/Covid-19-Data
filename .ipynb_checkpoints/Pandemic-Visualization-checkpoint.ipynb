{
 "cells": [
  {
   "cell_type": "markdown",
   "metadata": {},
   "source": [
    "# Coronavirus Pandemic Visualization with Chloropeth Maps"
   ]
  },
  {
   "cell_type": "code",
   "execution_count": 1,
   "metadata": {},
   "outputs": [
    {
     "data": {
      "text/html": [
       "        <script type=\"text/javascript\">\n",
       "        window.PlotlyConfig = {MathJaxConfig: 'local'};\n",
       "        if (window.MathJax) {MathJax.Hub.Config({SVG: {font: \"STIX-Web\"}});}\n",
       "        if (typeof require !== 'undefined') {\n",
       "        require.undef(\"plotly\");\n",
       "        requirejs.config({\n",
       "            paths: {\n",
       "                'plotly': ['https://cdn.plot.ly/plotly-latest.min']\n",
       "            }\n",
       "        });\n",
       "        require(['plotly'], function(Plotly) {\n",
       "            window._Plotly = Plotly;\n",
       "        });\n",
       "        }\n",
       "        </script>\n",
       "        "
      ]
     },
     "metadata": {},
     "output_type": "display_data"
    }
   ],
   "source": [
    "# Import libraries\n",
    "import numpy as np \n",
    "import pandas as pd \n",
    "import plotly as py\n",
    "import plotly.express as px\n",
    "import plotly.graph_objs as go\n",
    "from plotly.subplots import make_subplots\n",
    "from plotly.offline import download_plotlyjs, init_notebook_mode, plot, iplot\n",
    "init_notebook_mode(connected=True)"
   ]
  },
  {
   "cell_type": "code",
   "execution_count": 11,
   "metadata": {},
   "outputs": [
    {
     "data": {
      "text/html": [
       "<div>\n",
       "<style scoped>\n",
       "    .dataframe tbody tr th:only-of-type {\n",
       "        vertical-align: middle;\n",
       "    }\n",
       "\n",
       "    .dataframe tbody tr th {\n",
       "        vertical-align: top;\n",
       "    }\n",
       "\n",
       "    .dataframe thead th {\n",
       "        text-align: right;\n",
       "    }\n",
       "</style>\n",
       "<table border=\"1\" class=\"dataframe\">\n",
       "  <thead>\n",
       "    <tr style=\"text-align: right;\">\n",
       "      <th></th>\n",
       "      <th>Country</th>\n",
       "      <th>Date</th>\n",
       "      <th>SNo</th>\n",
       "      <th>Confirmed</th>\n",
       "      <th>Deaths</th>\n",
       "      <th>Recovered</th>\n",
       "    </tr>\n",
       "  </thead>\n",
       "  <tbody>\n",
       "    <tr>\n",
       "      <th>3474</th>\n",
       "      <td>Latvia</td>\n",
       "      <td>04/08/2020</td>\n",
       "      <td>12981</td>\n",
       "      <td>577.0</td>\n",
       "      <td>2.0</td>\n",
       "      <td>16.0</td>\n",
       "    </tr>\n",
       "    <tr>\n",
       "      <th>1076</th>\n",
       "      <td>Cambodia</td>\n",
       "      <td>04/08/2020</td>\n",
       "      <td>12919</td>\n",
       "      <td>117.0</td>\n",
       "      <td>0.0</td>\n",
       "      <td>63.0</td>\n",
       "    </tr>\n",
       "    <tr>\n",
       "      <th>546</th>\n",
       "      <td>Bangladesh</td>\n",
       "      <td>04/08/2020</td>\n",
       "      <td>12902</td>\n",
       "      <td>218.0</td>\n",
       "      <td>20.0</td>\n",
       "      <td>33.0</td>\n",
       "    </tr>\n",
       "    <tr>\n",
       "      <th>4588</th>\n",
       "      <td>Nigeria</td>\n",
       "      <td>04/08/2020</td>\n",
       "      <td>13010</td>\n",
       "      <td>276.0</td>\n",
       "      <td>6.0</td>\n",
       "      <td>44.0</td>\n",
       "    </tr>\n",
       "    <tr>\n",
       "      <th>1675</th>\n",
       "      <td>Dominican Republic</td>\n",
       "      <td>04/08/2020</td>\n",
       "      <td>12936</td>\n",
       "      <td>2111.0</td>\n",
       "      <td>108.0</td>\n",
       "      <td>50.0</td>\n",
       "    </tr>\n",
       "  </tbody>\n",
       "</table>\n",
       "</div>"
      ],
      "text/plain": [
       "                 Country        Date    SNo  Confirmed  Deaths  Recovered\n",
       "3474              Latvia  04/08/2020  12981      577.0     2.0       16.0\n",
       "1076            Cambodia  04/08/2020  12919      117.0     0.0       63.0\n",
       "546           Bangladesh  04/08/2020  12902      218.0    20.0       33.0\n",
       "4588             Nigeria  04/08/2020  13010      276.0     6.0       44.0\n",
       "1675  Dominican Republic  04/08/2020  12936     2111.0   108.0       50.0"
      ]
     },
     "execution_count": 11,
     "metadata": {},
     "output_type": "execute_result"
    }
   ],
   "source": [
    "# Read Data\n",
    "df = pd.read_csv(\"covid_19_data.csv\")\n",
    "# Rename columns\n",
    "df = df.rename(columns={'Country/Region':'Country'})\n",
    "df = df.rename(columns={'ObservationDate':'Date'})\n",
    "# Manipulate Dataframe\n",
    "df_countries = df.groupby(['Country', 'Date']).sum().reset_index().sort_values('Date', ascending=False)\n",
    "df_countries = df_countries.drop_duplicates(subset = ['Country'])\n",
    "df_countries = df_countries[df_countries['Confirmed']>0]\n",
    "last_update=df_countries[\"Date\"].max()\n",
    "df_countries.head()"
   ]
  },
  {
   "cell_type": "code",
   "execution_count": 12,
   "metadata": {},
   "outputs": [
    {
     "data": {
      "application/vnd.plotly.v1+json": {
       "config": {
        "plotlyServerURL": "https://plot.ly"
       },
       "data": [
        {
         "autocolorscale": true,
         "locationmode": "country names",
         "locations": [
          "Latvia",
          "Cambodia",
          "Bangladesh",
          "Nigeria",
          "Dominican Republic",
          "Mali",
          "Greece",
          "Costa Rica",
          "Ethiopia",
          "Angola",
          "Bahrain",
          "Grenada",
          "Cameroon",
          "Turkey",
          "Mainland China",
          "Jamaica",
          "Eswatini",
          "Slovakia",
          "Kuwait",
          "Iraq",
          "Tunisia",
          "Uruguay",
          "Macau",
          "Bahamas",
          "Antigua and Barbuda",
          "Ecuador",
          "Western Sahara",
          "Malawi",
          "Jordan",
          "Serbia",
          "Mauritius",
          "Algeria",
          "Germany",
          "Ivory Coast",
          "New Zealand",
          "Belarus",
          "Croatia",
          "Liberia",
          "Romania",
          "UK",
          "Taiwan",
          "Fiji",
          "Ghana",
          "United Arab Emirates",
          "South Korea",
          "Saint Lucia",
          "South Sudan",
          "Hong Kong",
          "Lebanon",
          "Barbados",
          "Russia",
          "Moldova",
          "Sri Lanka",
          "Ireland",
          "Mozambique",
          "Andorra",
          "Estonia",
          "West Bank and Gaza",
          "MS Zaandam",
          "Papua New Guinea",
          "Senegal",
          "Uzbekistan",
          "Qatar",
          "Guinea-Bissau",
          "Japan",
          "Australia",
          "Portugal",
          "Chad",
          "Holy See",
          "Niger",
          "Kyrgyzstan",
          "Rwanda",
          "Guyana",
          "Armenia",
          "Iran",
          "Saudi Arabia",
          "Mauritania",
          "Laos",
          "El Salvador",
          "Colombia",
          "Venezuela",
          "Haiti",
          "Panama",
          "Chile",
          "Trinidad and Tobago",
          "Maldives",
          "Equatorial Guinea",
          "Guatemala",
          "Central African Republic",
          "Indonesia",
          "Azerbaijan",
          "Congo (Kinshasa)",
          "Nepal",
          "Morocco",
          "Tanzania",
          "Thailand",
          "Philippines",
          "Spain",
          "Montenegro",
          "Oman",
          "Slovenia",
          "Madagascar",
          "Canada",
          "Saint Kitts and Nevis",
          "Uganda",
          "Peru",
          "Argentina",
          "Austria",
          "Nicaragua",
          "Eritrea",
          "Guinea",
          "Congo (Brazzaville)",
          "Honduras",
          "Vietnam",
          "Saint Vincent and the Grenadines",
          "Netherlands",
          "Cyprus",
          "Cabo Verde",
          "Bhutan",
          "Afghanistan",
          "Brunei",
          "Diamond Princess",
          "US",
          "Singapore",
          "Israel",
          "Iceland",
          "Italy",
          "Georgia",
          "Switzerland",
          "Zambia",
          "Benin",
          "Bulgaria",
          "India",
          "Somalia",
          "Suriname",
          "San Marino",
          "Sao Tome and Principe",
          "Libya",
          "Albania",
          "Belize",
          "Lithuania",
          "Kenya",
          "Gambia",
          "South Africa",
          "Malaysia",
          "Malta",
          "Pakistan",
          "Botswana",
          "Zimbabwe",
          "Seychelles",
          "Bosnia and Herzegovina",
          "Poland",
          "Kazakhstan",
          "Monaco",
          "North Macedonia",
          "Sierra Leone",
          "Czech Republic",
          "Sweden",
          "Paraguay",
          "Gabon",
          "France",
          "Bolivia",
          "Denmark",
          "Brazil",
          "Liechtenstein",
          "Mongolia",
          "Egypt",
          "Burkina Faso",
          "Luxembourg",
          "Timor-Leste",
          "Namibia",
          "Mexico",
          "Syria",
          "Norway",
          "Djibouti",
          "Sudan",
          "Hungary",
          "Belgium",
          "Kosovo",
          "Finland",
          "Ukraine",
          "Burundi",
          "Burma",
          "Cuba",
          "Togo",
          "Dominica",
          "Others",
          "Reunion",
          "Cape Verde",
          "Bahamas, The",
          "French Guiana",
          "Gambia, The",
          "East Timor",
          "Guadeloupe",
          "Martinique",
          "Mayotte",
          "Aruba",
          "Curacao",
          "Cayman Islands",
          "Gibraltar",
          "Faroe Islands",
          "('St. Martin',)",
          "Channel Islands",
          "Saint Barthelemy",
          "Palestine",
          "Vatican City",
          "St. Martin",
          "Republic of Ireland",
          " Azerbaijan",
          "North Ireland"
         ],
         "marker": {
          "line": {
           "color": "black",
           "width": 0.5
          }
         },
         "type": "choropleth",
         "z": [
          577,
          117,
          218,
          276,
          2111,
          59,
          1884,
          502,
          55,
          19,
          823,
          12,
          730,
          38226,
          81804,
          63,
          12,
          682,
          855,
          1202,
          628,
          424,
          45,
          40,
          19,
          4450,
          4,
          8,
          358,
          2666,
          273,
          1572,
          113296,
          384,
          1210,
          1066,
          1343,
          31,
          4761,
          61474,
          379,
          15,
          313,
          2659,
          10384,
          14,
          2,
          960,
          576,
          63,
          8672,
          1174,
          189,
          6074,
          17,
          564,
          1185,
          263,
          9,
          2,
          244,
          545,
          2210,
          33,
          4257,
          6010,
          13141,
          10,
          8,
          342,
          270,
          110,
          37,
          881,
          64586,
          2932,
          6,
          15,
          93,
          2054,
          167,
          27,
          2249,
          5546,
          107,
          19,
          18,
          87,
          8,
          2956,
          822,
          180,
          9,
          1275,
          25,
          2369,
          3870,
          148220,
          248,
          419,
          1091,
          93,
          19141,
          11,
          53,
          4342,
          1715,
          12942,
          6,
          33,
          164,
          45,
          312,
          251,
          8,
          20682,
          526,
          7,
          5,
          444,
          135,
          712,
          429052,
          1623,
          9404,
          1616,
          139422,
          211,
          23280,
          39,
          26,
          593,
          5916,
          12,
          10,
          279,
          4,
          21,
          400,
          8,
          912,
          179,
          4,
          1845,
          4119,
          299,
          4263,
          6,
          11,
          11,
          804,
          5205,
          727,
          81,
          617,
          7,
          5312,
          8419,
          119,
          34,
          113959,
          210,
          5597,
          16170,
          78,
          16,
          1560,
          414,
          3034,
          1,
          16,
          2785,
          19,
          6086,
          135,
          14,
          895,
          23403,
          184,
          2487,
          1668,
          3,
          22,
          457,
          70,
          15,
          712,
          45,
          1,
          4,
          18,
          1,
          1,
          53,
          32,
          7,
          4,
          1,
          1,
          1,
          2,
          2,
          1,
          1,
          22,
          1,
          2,
          21,
          1,
          1
         ]
        }
       ],
       "layout": {
        "geo": {
         "projection": {
          "type": "equirectangular"
         },
         "showcoastlines": false,
         "showframe": false
        },
        "template": {
         "data": {
          "bar": [
           {
            "error_x": {
             "color": "#2a3f5f"
            },
            "error_y": {
             "color": "#2a3f5f"
            },
            "marker": {
             "line": {
              "color": "#E5ECF6",
              "width": 0.5
             }
            },
            "type": "bar"
           }
          ],
          "barpolar": [
           {
            "marker": {
             "line": {
              "color": "#E5ECF6",
              "width": 0.5
             }
            },
            "type": "barpolar"
           }
          ],
          "carpet": [
           {
            "aaxis": {
             "endlinecolor": "#2a3f5f",
             "gridcolor": "white",
             "linecolor": "white",
             "minorgridcolor": "white",
             "startlinecolor": "#2a3f5f"
            },
            "baxis": {
             "endlinecolor": "#2a3f5f",
             "gridcolor": "white",
             "linecolor": "white",
             "minorgridcolor": "white",
             "startlinecolor": "#2a3f5f"
            },
            "type": "carpet"
           }
          ],
          "choropleth": [
           {
            "colorbar": {
             "outlinewidth": 0,
             "ticks": ""
            },
            "type": "choropleth"
           }
          ],
          "contour": [
           {
            "colorbar": {
             "outlinewidth": 0,
             "ticks": ""
            },
            "colorscale": [
             [
              0,
              "#0d0887"
             ],
             [
              0.1111111111111111,
              "#46039f"
             ],
             [
              0.2222222222222222,
              "#7201a8"
             ],
             [
              0.3333333333333333,
              "#9c179e"
             ],
             [
              0.4444444444444444,
              "#bd3786"
             ],
             [
              0.5555555555555556,
              "#d8576b"
             ],
             [
              0.6666666666666666,
              "#ed7953"
             ],
             [
              0.7777777777777778,
              "#fb9f3a"
             ],
             [
              0.8888888888888888,
              "#fdca26"
             ],
             [
              1,
              "#f0f921"
             ]
            ],
            "type": "contour"
           }
          ],
          "contourcarpet": [
           {
            "colorbar": {
             "outlinewidth": 0,
             "ticks": ""
            },
            "type": "contourcarpet"
           }
          ],
          "heatmap": [
           {
            "colorbar": {
             "outlinewidth": 0,
             "ticks": ""
            },
            "colorscale": [
             [
              0,
              "#0d0887"
             ],
             [
              0.1111111111111111,
              "#46039f"
             ],
             [
              0.2222222222222222,
              "#7201a8"
             ],
             [
              0.3333333333333333,
              "#9c179e"
             ],
             [
              0.4444444444444444,
              "#bd3786"
             ],
             [
              0.5555555555555556,
              "#d8576b"
             ],
             [
              0.6666666666666666,
              "#ed7953"
             ],
             [
              0.7777777777777778,
              "#fb9f3a"
             ],
             [
              0.8888888888888888,
              "#fdca26"
             ],
             [
              1,
              "#f0f921"
             ]
            ],
            "type": "heatmap"
           }
          ],
          "heatmapgl": [
           {
            "colorbar": {
             "outlinewidth": 0,
             "ticks": ""
            },
            "colorscale": [
             [
              0,
              "#0d0887"
             ],
             [
              0.1111111111111111,
              "#46039f"
             ],
             [
              0.2222222222222222,
              "#7201a8"
             ],
             [
              0.3333333333333333,
              "#9c179e"
             ],
             [
              0.4444444444444444,
              "#bd3786"
             ],
             [
              0.5555555555555556,
              "#d8576b"
             ],
             [
              0.6666666666666666,
              "#ed7953"
             ],
             [
              0.7777777777777778,
              "#fb9f3a"
             ],
             [
              0.8888888888888888,
              "#fdca26"
             ],
             [
              1,
              "#f0f921"
             ]
            ],
            "type": "heatmapgl"
           }
          ],
          "histogram": [
           {
            "marker": {
             "colorbar": {
              "outlinewidth": 0,
              "ticks": ""
             }
            },
            "type": "histogram"
           }
          ],
          "histogram2d": [
           {
            "colorbar": {
             "outlinewidth": 0,
             "ticks": ""
            },
            "colorscale": [
             [
              0,
              "#0d0887"
             ],
             [
              0.1111111111111111,
              "#46039f"
             ],
             [
              0.2222222222222222,
              "#7201a8"
             ],
             [
              0.3333333333333333,
              "#9c179e"
             ],
             [
              0.4444444444444444,
              "#bd3786"
             ],
             [
              0.5555555555555556,
              "#d8576b"
             ],
             [
              0.6666666666666666,
              "#ed7953"
             ],
             [
              0.7777777777777778,
              "#fb9f3a"
             ],
             [
              0.8888888888888888,
              "#fdca26"
             ],
             [
              1,
              "#f0f921"
             ]
            ],
            "type": "histogram2d"
           }
          ],
          "histogram2dcontour": [
           {
            "colorbar": {
             "outlinewidth": 0,
             "ticks": ""
            },
            "colorscale": [
             [
              0,
              "#0d0887"
             ],
             [
              0.1111111111111111,
              "#46039f"
             ],
             [
              0.2222222222222222,
              "#7201a8"
             ],
             [
              0.3333333333333333,
              "#9c179e"
             ],
             [
              0.4444444444444444,
              "#bd3786"
             ],
             [
              0.5555555555555556,
              "#d8576b"
             ],
             [
              0.6666666666666666,
              "#ed7953"
             ],
             [
              0.7777777777777778,
              "#fb9f3a"
             ],
             [
              0.8888888888888888,
              "#fdca26"
             ],
             [
              1,
              "#f0f921"
             ]
            ],
            "type": "histogram2dcontour"
           }
          ],
          "mesh3d": [
           {
            "colorbar": {
             "outlinewidth": 0,
             "ticks": ""
            },
            "type": "mesh3d"
           }
          ],
          "parcoords": [
           {
            "line": {
             "colorbar": {
              "outlinewidth": 0,
              "ticks": ""
             }
            },
            "type": "parcoords"
           }
          ],
          "pie": [
           {
            "automargin": true,
            "type": "pie"
           }
          ],
          "scatter": [
           {
            "marker": {
             "colorbar": {
              "outlinewidth": 0,
              "ticks": ""
             }
            },
            "type": "scatter"
           }
          ],
          "scatter3d": [
           {
            "line": {
             "colorbar": {
              "outlinewidth": 0,
              "ticks": ""
             }
            },
            "marker": {
             "colorbar": {
              "outlinewidth": 0,
              "ticks": ""
             }
            },
            "type": "scatter3d"
           }
          ],
          "scattercarpet": [
           {
            "marker": {
             "colorbar": {
              "outlinewidth": 0,
              "ticks": ""
             }
            },
            "type": "scattercarpet"
           }
          ],
          "scattergeo": [
           {
            "marker": {
             "colorbar": {
              "outlinewidth": 0,
              "ticks": ""
             }
            },
            "type": "scattergeo"
           }
          ],
          "scattergl": [
           {
            "marker": {
             "colorbar": {
              "outlinewidth": 0,
              "ticks": ""
             }
            },
            "type": "scattergl"
           }
          ],
          "scattermapbox": [
           {
            "marker": {
             "colorbar": {
              "outlinewidth": 0,
              "ticks": ""
             }
            },
            "type": "scattermapbox"
           }
          ],
          "scatterpolar": [
           {
            "marker": {
             "colorbar": {
              "outlinewidth": 0,
              "ticks": ""
             }
            },
            "type": "scatterpolar"
           }
          ],
          "scatterpolargl": [
           {
            "marker": {
             "colorbar": {
              "outlinewidth": 0,
              "ticks": ""
             }
            },
            "type": "scatterpolargl"
           }
          ],
          "scatterternary": [
           {
            "marker": {
             "colorbar": {
              "outlinewidth": 0,
              "ticks": ""
             }
            },
            "type": "scatterternary"
           }
          ],
          "surface": [
           {
            "colorbar": {
             "outlinewidth": 0,
             "ticks": ""
            },
            "colorscale": [
             [
              0,
              "#0d0887"
             ],
             [
              0.1111111111111111,
              "#46039f"
             ],
             [
              0.2222222222222222,
              "#7201a8"
             ],
             [
              0.3333333333333333,
              "#9c179e"
             ],
             [
              0.4444444444444444,
              "#bd3786"
             ],
             [
              0.5555555555555556,
              "#d8576b"
             ],
             [
              0.6666666666666666,
              "#ed7953"
             ],
             [
              0.7777777777777778,
              "#fb9f3a"
             ],
             [
              0.8888888888888888,
              "#fdca26"
             ],
             [
              1,
              "#f0f921"
             ]
            ],
            "type": "surface"
           }
          ],
          "table": [
           {
            "cells": {
             "fill": {
              "color": "#EBF0F8"
             },
             "line": {
              "color": "white"
             }
            },
            "header": {
             "fill": {
              "color": "#C8D4E3"
             },
             "line": {
              "color": "white"
             }
            },
            "type": "table"
           }
          ]
         },
         "layout": {
          "annotationdefaults": {
           "arrowcolor": "#2a3f5f",
           "arrowhead": 0,
           "arrowwidth": 1
          },
          "coloraxis": {
           "colorbar": {
            "outlinewidth": 0,
            "ticks": ""
           }
          },
          "colorscale": {
           "diverging": [
            [
             0,
             "#8e0152"
            ],
            [
             0.1,
             "#c51b7d"
            ],
            [
             0.2,
             "#de77ae"
            ],
            [
             0.3,
             "#f1b6da"
            ],
            [
             0.4,
             "#fde0ef"
            ],
            [
             0.5,
             "#f7f7f7"
            ],
            [
             0.6,
             "#e6f5d0"
            ],
            [
             0.7,
             "#b8e186"
            ],
            [
             0.8,
             "#7fbc41"
            ],
            [
             0.9,
             "#4d9221"
            ],
            [
             1,
             "#276419"
            ]
           ],
           "sequential": [
            [
             0,
             "#0d0887"
            ],
            [
             0.1111111111111111,
             "#46039f"
            ],
            [
             0.2222222222222222,
             "#7201a8"
            ],
            [
             0.3333333333333333,
             "#9c179e"
            ],
            [
             0.4444444444444444,
             "#bd3786"
            ],
            [
             0.5555555555555556,
             "#d8576b"
            ],
            [
             0.6666666666666666,
             "#ed7953"
            ],
            [
             0.7777777777777778,
             "#fb9f3a"
            ],
            [
             0.8888888888888888,
             "#fdca26"
            ],
            [
             1,
             "#f0f921"
            ]
           ],
           "sequentialminus": [
            [
             0,
             "#0d0887"
            ],
            [
             0.1111111111111111,
             "#46039f"
            ],
            [
             0.2222222222222222,
             "#7201a8"
            ],
            [
             0.3333333333333333,
             "#9c179e"
            ],
            [
             0.4444444444444444,
             "#bd3786"
            ],
            [
             0.5555555555555556,
             "#d8576b"
            ],
            [
             0.6666666666666666,
             "#ed7953"
            ],
            [
             0.7777777777777778,
             "#fb9f3a"
            ],
            [
             0.8888888888888888,
             "#fdca26"
            ],
            [
             1,
             "#f0f921"
            ]
           ]
          },
          "colorway": [
           "#636efa",
           "#EF553B",
           "#00cc96",
           "#ab63fa",
           "#FFA15A",
           "#19d3f3",
           "#FF6692",
           "#B6E880",
           "#FF97FF",
           "#FECB52"
          ],
          "font": {
           "color": "#2a3f5f"
          },
          "geo": {
           "bgcolor": "white",
           "lakecolor": "white",
           "landcolor": "#E5ECF6",
           "showlakes": true,
           "showland": true,
           "subunitcolor": "white"
          },
          "hoverlabel": {
           "align": "left"
          },
          "hovermode": "closest",
          "mapbox": {
           "style": "light"
          },
          "paper_bgcolor": "white",
          "plot_bgcolor": "#E5ECF6",
          "polar": {
           "angularaxis": {
            "gridcolor": "white",
            "linecolor": "white",
            "ticks": ""
           },
           "bgcolor": "#E5ECF6",
           "radialaxis": {
            "gridcolor": "white",
            "linecolor": "white",
            "ticks": ""
           }
          },
          "scene": {
           "xaxis": {
            "backgroundcolor": "#E5ECF6",
            "gridcolor": "white",
            "gridwidth": 2,
            "linecolor": "white",
            "showbackground": true,
            "ticks": "",
            "zerolinecolor": "white"
           },
           "yaxis": {
            "backgroundcolor": "#E5ECF6",
            "gridcolor": "white",
            "gridwidth": 2,
            "linecolor": "white",
            "showbackground": true,
            "ticks": "",
            "zerolinecolor": "white"
           },
           "zaxis": {
            "backgroundcolor": "#E5ECF6",
            "gridcolor": "white",
            "gridwidth": 2,
            "linecolor": "white",
            "showbackground": true,
            "ticks": "",
            "zerolinecolor": "white"
           }
          },
          "shapedefaults": {
           "line": {
            "color": "#2a3f5f"
           }
          },
          "ternary": {
           "aaxis": {
            "gridcolor": "white",
            "linecolor": "white",
            "ticks": ""
           },
           "baxis": {
            "gridcolor": "white",
            "linecolor": "white",
            "ticks": ""
           },
           "bgcolor": "#E5ECF6",
           "caxis": {
            "gridcolor": "white",
            "linecolor": "white",
            "ticks": ""
           }
          },
          "title": {
           "x": 0.05
          },
          "xaxis": {
           "automargin": true,
           "gridcolor": "white",
           "linecolor": "white",
           "ticks": "",
           "title": {
            "standoff": 15
           },
           "zerolinecolor": "white",
           "zerolinewidth": 2
          },
          "yaxis": {
           "automargin": true,
           "gridcolor": "white",
           "linecolor": "white",
           "ticks": "",
           "title": {
            "standoff": 15
           },
           "zerolinecolor": "white",
           "zerolinewidth": 2
          }
         }
        },
        "title": {
         "text": "Confirmed Cases as of 04/08/2020",
         "x": 0.5
        }
       }
      },
      "text/html": [
       "<div>\n",
       "        \n",
       "        \n",
       "            <div id=\"fcea8781-c81f-4d5a-b094-a31f7baae34c\" class=\"plotly-graph-div\" style=\"height:525px; width:100%;\"></div>\n",
       "            <script type=\"text/javascript\">\n",
       "                require([\"plotly\"], function(Plotly) {\n",
       "                    window.PLOTLYENV=window.PLOTLYENV || {};\n",
       "                    \n",
       "                if (document.getElementById(\"fcea8781-c81f-4d5a-b094-a31f7baae34c\")) {\n",
       "                    Plotly.newPlot(\n",
       "                        'fcea8781-c81f-4d5a-b094-a31f7baae34c',\n",
       "                        [{\"autocolorscale\": true, \"locationmode\": \"country names\", \"locations\": [\"Latvia\", \"Cambodia\", \"Bangladesh\", \"Nigeria\", \"Dominican Republic\", \"Mali\", \"Greece\", \"Costa Rica\", \"Ethiopia\", \"Angola\", \"Bahrain\", \"Grenada\", \"Cameroon\", \"Turkey\", \"Mainland China\", \"Jamaica\", \"Eswatini\", \"Slovakia\", \"Kuwait\", \"Iraq\", \"Tunisia\", \"Uruguay\", \"Macau\", \"Bahamas\", \"Antigua and Barbuda\", \"Ecuador\", \"Western Sahara\", \"Malawi\", \"Jordan\", \"Serbia\", \"Mauritius\", \"Algeria\", \"Germany\", \"Ivory Coast\", \"New Zealand\", \"Belarus\", \"Croatia\", \"Liberia\", \"Romania\", \"UK\", \"Taiwan\", \"Fiji\", \"Ghana\", \"United Arab Emirates\", \"South Korea\", \"Saint Lucia\", \"South Sudan\", \"Hong Kong\", \"Lebanon\", \"Barbados\", \"Russia\", \"Moldova\", \"Sri Lanka\", \"Ireland\", \"Mozambique\", \"Andorra\", \"Estonia\", \"West Bank and Gaza\", \"MS Zaandam\", \"Papua New Guinea\", \"Senegal\", \"Uzbekistan\", \"Qatar\", \"Guinea-Bissau\", \"Japan\", \"Australia\", \"Portugal\", \"Chad\", \"Holy See\", \"Niger\", \"Kyrgyzstan\", \"Rwanda\", \"Guyana\", \"Armenia\", \"Iran\", \"Saudi Arabia\", \"Mauritania\", \"Laos\", \"El Salvador\", \"Colombia\", \"Venezuela\", \"Haiti\", \"Panama\", \"Chile\", \"Trinidad and Tobago\", \"Maldives\", \"Equatorial Guinea\", \"Guatemala\", \"Central African Republic\", \"Indonesia\", \"Azerbaijan\", \"Congo (Kinshasa)\", \"Nepal\", \"Morocco\", \"Tanzania\", \"Thailand\", \"Philippines\", \"Spain\", \"Montenegro\", \"Oman\", \"Slovenia\", \"Madagascar\", \"Canada\", \"Saint Kitts and Nevis\", \"Uganda\", \"Peru\", \"Argentina\", \"Austria\", \"Nicaragua\", \"Eritrea\", \"Guinea\", \"Congo (Brazzaville)\", \"Honduras\", \"Vietnam\", \"Saint Vincent and the Grenadines\", \"Netherlands\", \"Cyprus\", \"Cabo Verde\", \"Bhutan\", \"Afghanistan\", \"Brunei\", \"Diamond Princess\", \"US\", \"Singapore\", \"Israel\", \"Iceland\", \"Italy\", \"Georgia\", \"Switzerland\", \"Zambia\", \"Benin\", \"Bulgaria\", \"India\", \"Somalia\", \"Suriname\", \"San Marino\", \"Sao Tome and Principe\", \"Libya\", \"Albania\", \"Belize\", \"Lithuania\", \"Kenya\", \"Gambia\", \"South Africa\", \"Malaysia\", \"Malta\", \"Pakistan\", \"Botswana\", \"Zimbabwe\", \"Seychelles\", \"Bosnia and Herzegovina\", \"Poland\", \"Kazakhstan\", \"Monaco\", \"North Macedonia\", \"Sierra Leone\", \"Czech Republic\", \"Sweden\", \"Paraguay\", \"Gabon\", \"France\", \"Bolivia\", \"Denmark\", \"Brazil\", \"Liechtenstein\", \"Mongolia\", \"Egypt\", \"Burkina Faso\", \"Luxembourg\", \"Timor-Leste\", \"Namibia\", \"Mexico\", \"Syria\", \"Norway\", \"Djibouti\", \"Sudan\", \"Hungary\", \"Belgium\", \"Kosovo\", \"Finland\", \"Ukraine\", \"Burundi\", \"Burma\", \"Cuba\", \"Togo\", \"Dominica\", \"Others\", \"Reunion\", \"Cape Verde\", \"Bahamas, The\", \"French Guiana\", \"Gambia, The\", \"East Timor\", \"Guadeloupe\", \"Martinique\", \"Mayotte\", \"Aruba\", \"Curacao\", \"Cayman Islands\", \"Gibraltar\", \"Faroe Islands\", \"('St. Martin',)\", \"Channel Islands\", \"Saint Barthelemy\", \"Palestine\", \"Vatican City\", \"St. Martin\", \"Republic of Ireland\", \" Azerbaijan\", \"North Ireland\"], \"marker\": {\"line\": {\"color\": \"black\", \"width\": 0.5}}, \"type\": \"choropleth\", \"z\": [577.0, 117.0, 218.0, 276.0, 2111.0, 59.0, 1884.0, 502.0, 55.0, 19.0, 823.0, 12.0, 730.0, 38226.0, 81804.0, 63.0, 12.0, 682.0, 855.0, 1202.0, 628.0, 424.0, 45.0, 40.0, 19.0, 4450.0, 4.0, 8.0, 358.0, 2666.0, 273.0, 1572.0, 113296.0, 384.0, 1210.0, 1066.0, 1343.0, 31.0, 4761.0, 61474.0, 379.0, 15.0, 313.0, 2659.0, 10384.0, 14.0, 2.0, 960.0, 576.0, 63.0, 8672.0, 1174.0, 189.0, 6074.0, 17.0, 564.0, 1185.0, 263.0, 9.0, 2.0, 244.0, 545.0, 2210.0, 33.0, 4257.0, 6010.0, 13141.0, 10.0, 8.0, 342.0, 270.0, 110.0, 37.0, 881.0, 64586.0, 2932.0, 6.0, 15.0, 93.0, 2054.0, 167.0, 27.0, 2249.0, 5546.0, 107.0, 19.0, 18.0, 87.0, 8.0, 2956.0, 822.0, 180.0, 9.0, 1275.0, 25.0, 2369.0, 3870.0, 148220.0, 248.0, 419.0, 1091.0, 93.0, 19141.0, 11.0, 53.0, 4342.0, 1715.0, 12942.0, 6.0, 33.0, 164.0, 45.0, 312.0, 251.0, 8.0, 20682.0, 526.0, 7.0, 5.0, 444.0, 135.0, 712.0, 429052.0, 1623.0, 9404.0, 1616.0, 139422.0, 211.0, 23280.0, 39.0, 26.0, 593.0, 5916.0, 12.0, 10.0, 279.0, 4.0, 21.0, 400.0, 8.0, 912.0, 179.0, 4.0, 1845.0, 4119.0, 299.0, 4263.0, 6.0, 11.0, 11.0, 804.0, 5205.0, 727.0, 81.0, 617.0, 7.0, 5312.0, 8419.0, 119.0, 34.0, 113959.0, 210.0, 5597.0, 16170.0, 78.0, 16.0, 1560.0, 414.0, 3034.0, 1.0, 16.0, 2785.0, 19.0, 6086.0, 135.0, 14.0, 895.0, 23403.0, 184.0, 2487.0, 1668.0, 3.0, 22.0, 457.0, 70.0, 15.0, 712.0, 45.0, 1.0, 4.0, 18.0, 1.0, 1.0, 53.0, 32.0, 7.0, 4.0, 1.0, 1.0, 1.0, 2.0, 2.0, 1.0, 1.0, 22.0, 1.0, 2.0, 21.0, 1.0, 1.0]}],\n",
       "                        {\"geo\": {\"projection\": {\"type\": \"equirectangular\"}, \"showcoastlines\": false, \"showframe\": false}, \"template\": {\"data\": {\"bar\": [{\"error_x\": {\"color\": \"#2a3f5f\"}, \"error_y\": {\"color\": \"#2a3f5f\"}, \"marker\": {\"line\": {\"color\": \"#E5ECF6\", \"width\": 0.5}}, \"type\": \"bar\"}], \"barpolar\": [{\"marker\": {\"line\": {\"color\": \"#E5ECF6\", \"width\": 0.5}}, \"type\": \"barpolar\"}], \"carpet\": [{\"aaxis\": {\"endlinecolor\": \"#2a3f5f\", \"gridcolor\": \"white\", \"linecolor\": \"white\", \"minorgridcolor\": \"white\", \"startlinecolor\": \"#2a3f5f\"}, \"baxis\": {\"endlinecolor\": \"#2a3f5f\", \"gridcolor\": \"white\", \"linecolor\": \"white\", \"minorgridcolor\": \"white\", \"startlinecolor\": \"#2a3f5f\"}, \"type\": \"carpet\"}], \"choropleth\": [{\"colorbar\": {\"outlinewidth\": 0, \"ticks\": \"\"}, \"type\": \"choropleth\"}], \"contour\": [{\"colorbar\": {\"outlinewidth\": 0, \"ticks\": \"\"}, \"colorscale\": [[0.0, \"#0d0887\"], [0.1111111111111111, \"#46039f\"], [0.2222222222222222, \"#7201a8\"], [0.3333333333333333, \"#9c179e\"], [0.4444444444444444, \"#bd3786\"], [0.5555555555555556, \"#d8576b\"], [0.6666666666666666, \"#ed7953\"], [0.7777777777777778, \"#fb9f3a\"], [0.8888888888888888, \"#fdca26\"], [1.0, \"#f0f921\"]], \"type\": \"contour\"}], \"contourcarpet\": [{\"colorbar\": {\"outlinewidth\": 0, \"ticks\": \"\"}, \"type\": \"contourcarpet\"}], \"heatmap\": [{\"colorbar\": {\"outlinewidth\": 0, \"ticks\": \"\"}, \"colorscale\": [[0.0, \"#0d0887\"], [0.1111111111111111, \"#46039f\"], [0.2222222222222222, \"#7201a8\"], [0.3333333333333333, \"#9c179e\"], [0.4444444444444444, \"#bd3786\"], [0.5555555555555556, \"#d8576b\"], [0.6666666666666666, \"#ed7953\"], [0.7777777777777778, \"#fb9f3a\"], [0.8888888888888888, \"#fdca26\"], [1.0, \"#f0f921\"]], \"type\": \"heatmap\"}], \"heatmapgl\": [{\"colorbar\": {\"outlinewidth\": 0, \"ticks\": \"\"}, \"colorscale\": [[0.0, \"#0d0887\"], [0.1111111111111111, \"#46039f\"], [0.2222222222222222, \"#7201a8\"], [0.3333333333333333, \"#9c179e\"], [0.4444444444444444, \"#bd3786\"], [0.5555555555555556, \"#d8576b\"], [0.6666666666666666, \"#ed7953\"], [0.7777777777777778, \"#fb9f3a\"], [0.8888888888888888, \"#fdca26\"], [1.0, \"#f0f921\"]], \"type\": \"heatmapgl\"}], \"histogram\": [{\"marker\": {\"colorbar\": {\"outlinewidth\": 0, \"ticks\": \"\"}}, \"type\": \"histogram\"}], \"histogram2d\": [{\"colorbar\": {\"outlinewidth\": 0, \"ticks\": \"\"}, \"colorscale\": [[0.0, \"#0d0887\"], [0.1111111111111111, \"#46039f\"], [0.2222222222222222, \"#7201a8\"], [0.3333333333333333, \"#9c179e\"], [0.4444444444444444, \"#bd3786\"], [0.5555555555555556, \"#d8576b\"], [0.6666666666666666, \"#ed7953\"], [0.7777777777777778, \"#fb9f3a\"], [0.8888888888888888, \"#fdca26\"], [1.0, \"#f0f921\"]], \"type\": \"histogram2d\"}], \"histogram2dcontour\": [{\"colorbar\": {\"outlinewidth\": 0, \"ticks\": \"\"}, \"colorscale\": [[0.0, \"#0d0887\"], [0.1111111111111111, \"#46039f\"], [0.2222222222222222, \"#7201a8\"], [0.3333333333333333, \"#9c179e\"], [0.4444444444444444, \"#bd3786\"], [0.5555555555555556, \"#d8576b\"], [0.6666666666666666, \"#ed7953\"], [0.7777777777777778, \"#fb9f3a\"], [0.8888888888888888, \"#fdca26\"], [1.0, \"#f0f921\"]], \"type\": \"histogram2dcontour\"}], \"mesh3d\": [{\"colorbar\": {\"outlinewidth\": 0, \"ticks\": \"\"}, \"type\": \"mesh3d\"}], \"parcoords\": [{\"line\": {\"colorbar\": {\"outlinewidth\": 0, \"ticks\": \"\"}}, \"type\": \"parcoords\"}], \"pie\": [{\"automargin\": true, \"type\": \"pie\"}], \"scatter\": [{\"marker\": {\"colorbar\": {\"outlinewidth\": 0, \"ticks\": \"\"}}, \"type\": \"scatter\"}], \"scatter3d\": [{\"line\": {\"colorbar\": {\"outlinewidth\": 0, \"ticks\": \"\"}}, \"marker\": {\"colorbar\": {\"outlinewidth\": 0, \"ticks\": \"\"}}, \"type\": \"scatter3d\"}], \"scattercarpet\": [{\"marker\": {\"colorbar\": {\"outlinewidth\": 0, \"ticks\": \"\"}}, \"type\": \"scattercarpet\"}], \"scattergeo\": [{\"marker\": {\"colorbar\": {\"outlinewidth\": 0, \"ticks\": \"\"}}, \"type\": \"scattergeo\"}], \"scattergl\": [{\"marker\": {\"colorbar\": {\"outlinewidth\": 0, \"ticks\": \"\"}}, \"type\": \"scattergl\"}], \"scattermapbox\": [{\"marker\": {\"colorbar\": {\"outlinewidth\": 0, \"ticks\": \"\"}}, \"type\": \"scattermapbox\"}], \"scatterpolar\": [{\"marker\": {\"colorbar\": {\"outlinewidth\": 0, \"ticks\": \"\"}}, \"type\": \"scatterpolar\"}], \"scatterpolargl\": [{\"marker\": {\"colorbar\": {\"outlinewidth\": 0, \"ticks\": \"\"}}, \"type\": \"scatterpolargl\"}], \"scatterternary\": [{\"marker\": {\"colorbar\": {\"outlinewidth\": 0, \"ticks\": \"\"}}, \"type\": \"scatterternary\"}], \"surface\": [{\"colorbar\": {\"outlinewidth\": 0, \"ticks\": \"\"}, \"colorscale\": [[0.0, \"#0d0887\"], [0.1111111111111111, \"#46039f\"], [0.2222222222222222, \"#7201a8\"], [0.3333333333333333, \"#9c179e\"], [0.4444444444444444, \"#bd3786\"], [0.5555555555555556, \"#d8576b\"], [0.6666666666666666, \"#ed7953\"], [0.7777777777777778, \"#fb9f3a\"], [0.8888888888888888, \"#fdca26\"], [1.0, \"#f0f921\"]], \"type\": \"surface\"}], \"table\": [{\"cells\": {\"fill\": {\"color\": \"#EBF0F8\"}, \"line\": {\"color\": \"white\"}}, \"header\": {\"fill\": {\"color\": \"#C8D4E3\"}, \"line\": {\"color\": \"white\"}}, \"type\": \"table\"}]}, \"layout\": {\"annotationdefaults\": {\"arrowcolor\": \"#2a3f5f\", \"arrowhead\": 0, \"arrowwidth\": 1}, \"coloraxis\": {\"colorbar\": {\"outlinewidth\": 0, \"ticks\": \"\"}}, \"colorscale\": {\"diverging\": [[0, \"#8e0152\"], [0.1, \"#c51b7d\"], [0.2, \"#de77ae\"], [0.3, \"#f1b6da\"], [0.4, \"#fde0ef\"], [0.5, \"#f7f7f7\"], [0.6, \"#e6f5d0\"], [0.7, \"#b8e186\"], [0.8, \"#7fbc41\"], [0.9, \"#4d9221\"], [1, \"#276419\"]], \"sequential\": [[0.0, \"#0d0887\"], [0.1111111111111111, \"#46039f\"], [0.2222222222222222, \"#7201a8\"], [0.3333333333333333, \"#9c179e\"], [0.4444444444444444, \"#bd3786\"], [0.5555555555555556, \"#d8576b\"], [0.6666666666666666, \"#ed7953\"], [0.7777777777777778, \"#fb9f3a\"], [0.8888888888888888, \"#fdca26\"], [1.0, \"#f0f921\"]], \"sequentialminus\": [[0.0, \"#0d0887\"], [0.1111111111111111, \"#46039f\"], [0.2222222222222222, \"#7201a8\"], [0.3333333333333333, \"#9c179e\"], [0.4444444444444444, \"#bd3786\"], [0.5555555555555556, \"#d8576b\"], [0.6666666666666666, \"#ed7953\"], [0.7777777777777778, \"#fb9f3a\"], [0.8888888888888888, \"#fdca26\"], [1.0, \"#f0f921\"]]}, \"colorway\": [\"#636efa\", \"#EF553B\", \"#00cc96\", \"#ab63fa\", \"#FFA15A\", \"#19d3f3\", \"#FF6692\", \"#B6E880\", \"#FF97FF\", \"#FECB52\"], \"font\": {\"color\": \"#2a3f5f\"}, \"geo\": {\"bgcolor\": \"white\", \"lakecolor\": \"white\", \"landcolor\": \"#E5ECF6\", \"showlakes\": true, \"showland\": true, \"subunitcolor\": \"white\"}, \"hoverlabel\": {\"align\": \"left\"}, \"hovermode\": \"closest\", \"mapbox\": {\"style\": \"light\"}, \"paper_bgcolor\": \"white\", \"plot_bgcolor\": \"#E5ECF6\", \"polar\": {\"angularaxis\": {\"gridcolor\": \"white\", \"linecolor\": \"white\", \"ticks\": \"\"}, \"bgcolor\": \"#E5ECF6\", \"radialaxis\": {\"gridcolor\": \"white\", \"linecolor\": \"white\", \"ticks\": \"\"}}, \"scene\": {\"xaxis\": {\"backgroundcolor\": \"#E5ECF6\", \"gridcolor\": \"white\", \"gridwidth\": 2, \"linecolor\": \"white\", \"showbackground\": true, \"ticks\": \"\", \"zerolinecolor\": \"white\"}, \"yaxis\": {\"backgroundcolor\": \"#E5ECF6\", \"gridcolor\": \"white\", \"gridwidth\": 2, \"linecolor\": \"white\", \"showbackground\": true, \"ticks\": \"\", \"zerolinecolor\": \"white\"}, \"zaxis\": {\"backgroundcolor\": \"#E5ECF6\", \"gridcolor\": \"white\", \"gridwidth\": 2, \"linecolor\": \"white\", \"showbackground\": true, \"ticks\": \"\", \"zerolinecolor\": \"white\"}}, \"shapedefaults\": {\"line\": {\"color\": \"#2a3f5f\"}}, \"ternary\": {\"aaxis\": {\"gridcolor\": \"white\", \"linecolor\": \"white\", \"ticks\": \"\"}, \"baxis\": {\"gridcolor\": \"white\", \"linecolor\": \"white\", \"ticks\": \"\"}, \"bgcolor\": \"#E5ECF6\", \"caxis\": {\"gridcolor\": \"white\", \"linecolor\": \"white\", \"ticks\": \"\"}}, \"title\": {\"x\": 0.05}, \"xaxis\": {\"automargin\": true, \"gridcolor\": \"white\", \"linecolor\": \"white\", \"ticks\": \"\", \"title\": {\"standoff\": 15}, \"zerolinecolor\": \"white\", \"zerolinewidth\": 2}, \"yaxis\": {\"automargin\": true, \"gridcolor\": \"white\", \"linecolor\": \"white\", \"ticks\": \"\", \"title\": {\"standoff\": 15}, \"zerolinecolor\": \"white\", \"zerolinewidth\": 2}}}, \"title\": {\"text\": \"Confirmed Cases as of 04/08/2020\", \"x\": 0.5}},\n",
       "                        {\"responsive\": true}\n",
       "                    ).then(function(){\n",
       "                            \n",
       "var gd = document.getElementById('fcea8781-c81f-4d5a-b094-a31f7baae34c');\n",
       "var x = new MutationObserver(function (mutations, observer) {{\n",
       "        var display = window.getComputedStyle(gd).display;\n",
       "        if (!display || display === 'none') {{\n",
       "            console.log([gd, 'removed!']);\n",
       "            Plotly.purge(gd);\n",
       "            observer.disconnect();\n",
       "        }}\n",
       "}});\n",
       "\n",
       "// Listen for the removal of the full notebook cells\n",
       "var notebookContainer = gd.closest('#notebook-container');\n",
       "if (notebookContainer) {{\n",
       "    x.observe(notebookContainer, {childList: true});\n",
       "}}\n",
       "\n",
       "// Listen for the clearing of the current output cell\n",
       "var outputEl = gd.closest('.output');\n",
       "if (outputEl) {{\n",
       "    x.observe(outputEl, {childList: true});\n",
       "}}\n",
       "\n",
       "                        })\n",
       "                };\n",
       "                });\n",
       "            </script>\n",
       "        </div>"
      ]
     },
     "metadata": {},
     "output_type": "display_data"
    }
   ],
   "source": [
    "# Create the Choropleth\n",
    "fig = go.Figure(data=go.Choropleth(\n",
    "    locations = df_countries['Country'],\n",
    "    locationmode = 'country names',\n",
    "    z = df_countries['Confirmed'],\n",
    "    autocolorscale=True,\n",
    "    marker_line_color = 'black',\n",
    "    marker_line_width = 0.5,\n",
    "))\n",
    "fig.update_layout(\n",
    "    title_text = 'Confirmed Cases as of '+str(last_update),\n",
    "    title_x = 0.5,\n",
    "    geo=dict(\n",
    "        showframe = False,\n",
    "        showcoastlines = False,\n",
    "        projection_type = 'equirectangular'\n",
    "    )\n",
    ")"
   ]
  },
  {
   "cell_type": "code",
   "execution_count": null,
   "metadata": {},
   "outputs": [],
   "source": []
  },
  {
   "cell_type": "code",
   "execution_count": null,
   "metadata": {},
   "outputs": [],
   "source": []
  }
 ],
 "metadata": {
  "kernelspec": {
   "display_name": "Python [conda env:tareaMin] *",
   "language": "python",
   "name": "conda-env-tareaMin-py"
  },
  "language_info": {
   "codemirror_mode": {
    "name": "ipython",
    "version": 3
   },
   "file_extension": ".py",
   "mimetype": "text/x-python",
   "name": "python",
   "nbconvert_exporter": "python",
   "pygments_lexer": "ipython3",
   "version": "3.6.9"
  }
 },
 "nbformat": 4,
 "nbformat_minor": 4
}
